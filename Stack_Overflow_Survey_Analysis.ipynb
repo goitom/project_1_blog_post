{
 "cells": [
  {
   "cell_type": "markdown",
   "metadata": {},
   "source": [
    "### Exploratory Analysis of Stack Overflow Survey Data\n",
    "\n",
    "#### Broadly speaking, we are interested in answering the following questions: \n",
    "\n",
    "1. How does remote vs. office work relate to salary?\n",
    "2. How does remote vs. office work relate to job/career satisfaction?\n",
    "3. What relates to attitudes about diversity in the workplace?"
   ]
  },
  {
   "cell_type": "code",
   "execution_count": 2,
   "metadata": {},
   "outputs": [],
   "source": [
    "import numpy as np\n",
    "import pandas as pd\n",
    "import matplotlib.pyplot as plt\n",
    "from sklearn import preprocessing\n",
    "from sklearn.naive_bayes import GaussianNB\n",
    "from sklearn.linear_model import LogisticRegression\n",
    "from sklearn.ensemble import RandomForestClassifier, AdaBoostClassifier\n",
    "from sklearn.model_selection import train_test_split\n",
    "import sklearn.metrics as metrics\n",
    "import seaborn as sns\n",
    "import os\n",
    "import pprint\n",
    "import column_rename_dicts as crd\n",
    "%matplotlib inline\n",
    "pd.options.display.max_seq_items = 500"
   ]
  },
  {
   "cell_type": "code",
   "execution_count": 3,
   "metadata": {},
   "outputs": [],
   "source": [
    "#regex patterns needed in data cleaning\n",
    "date_pattern = r\"^([1-9]|1[012])[- /.]([1-9]|[12][0-9]|3[01])[- /.](19|20)\\d\\d$\""
   ]
  },
  {
   "cell_type": "code",
   "execution_count": 74,
   "metadata": {},
   "outputs": [],
   "source": [
    "def collapse_cat_and_dummy(value_str, value_list):\n",
    "    '''\n",
    "    INPUT\n",
    "        HomeRemoteStr - a string of one of the values from the column of interest\n",
    "\n",
    "    OUTPUT\n",
    "        return 1 if the string is in value_list\n",
    "        return 0 otherwise\n",
    "    '''\n",
    "    if value_str in value_list:\n",
    "        return 1\n",
    "    else:\n",
    "        return 0 "
   ]
  },
  {
   "cell_type": "code",
   "execution_count": 14,
   "metadata": {},
   "outputs": [],
   "source": [
    "def get_description(column_name, schema=schema_2017):\n",
    "    '''\n",
    "    INPUT - schema - pandas dataframe with the schema of the developers survey\n",
    "            column_name - string - the name of the column you would like to know about\n",
    "    OUTPUT - \n",
    "            desc - string - the description of the column\n",
    "    '''\n",
    "    desc = schema['Question'][schema['Column']==column_name].values[0]\n",
    "    return desc"
   ]
  },
  {
   "cell_type": "code",
   "execution_count": 4,
   "metadata": {},
   "outputs": [],
   "source": [
    "#Load Data\n",
    "df_2017 = pd.read_csv('./so-survey-2017/survey_results_public.csv')\n",
    "schema_2017 = pd.read_csv('./so-survey-2017/survey_results_schema.csv')\n"
   ]
  },
  {
   "cell_type": "code",
   "execution_count": 5,
   "metadata": {},
   "outputs": [
    {
     "output_type": "execute_result",
     "data": {
      "text/plain": "A few days each month                                      15454\nNever                                                      13975\nAll or almost all the time (I'm full-time remote)           4905\nLess than half the time, but at least one day each week     4147\nMore than half, but not all, the time                       1909\nIt's complicated                                            1849\nAbout half the time                                         1769\nName: HomeRemote, dtype: int64"
     },
     "metadata": {},
     "execution_count": 5
    }
   ],
   "source": [
    "df_2017['HomeRemote'].value_counts()"
   ]
  },
  {
   "cell_type": "code",
   "execution_count": 72,
   "metadata": {},
   "outputs": [
    {
     "output_type": "execute_result",
     "data": {
      "text/plain": "Text(0.5, 1.0, 'Frequency of Time Spent Remote Working')"
     },
     "metadata": {},
     "execution_count": 72
    },
    {
     "output_type": "display_data",
     "data": {
      "text/plain": "<Figure size 432x288 with 1 Axes>",
      "image/svg+xml": "<?xml version=\"1.0\" encoding=\"utf-8\" standalone=\"no\"?>\n<!DOCTYPE svg PUBLIC \"-//W3C//DTD SVG 1.1//EN\"\n  \"http://www.w3.org/Graphics/SVG/1.1/DTD/svg11.dtd\">\n<!-- Created with matplotlib (https://matplotlib.org/) -->\n<svg height=\"532.795625pt\" version=\"1.1\" viewBox=\"0 0 378.465625 532.795625\" width=\"378.465625pt\" xmlns=\"http://www.w3.org/2000/svg\" xmlns:xlink=\"http://www.w3.org/1999/xlink\">\n <defs>\n  <style type=\"text/css\">\n*{stroke-linecap:butt;stroke-linejoin:round;}\n  </style>\n </defs>\n <g id=\"figure_1\">\n  <g id=\"patch_1\">\n   <path d=\"M 0 532.795625 \nL 378.465625 532.795625 \nL 378.465625 0 \nL 0 0 \nz\n\" style=\"fill:none;\"/>\n  </g>\n  <g id=\"axes_1\">\n   <g id=\"patch_2\">\n    <path d=\"M 36.465625 239.758125 \nL 371.265625 239.758125 \nL 371.265625 22.318125 \nL 36.465625 22.318125 \nz\n\" style=\"fill:#ffffff;\"/>\n   </g>\n   <g id=\"patch_3\">\n    <path clip-path=\"url(#pbcbe6593a4)\" d=\"M 48.422768 239.758125 \nL 72.337054 239.758125 \nL 72.337054 32.672411 \nL 48.422768 32.672411 \nz\n\" style=\"fill:#1f77b4;\"/>\n   </g>\n   <g id=\"patch_4\">\n    <path clip-path=\"url(#pbcbe6593a4)\" d=\"M 96.251339 239.758125 \nL 120.165625 239.758125 \nL 120.165625 52.491213 \nL 96.251339 52.491213 \nz\n\" style=\"fill:#ff7f0e;\"/>\n   </g>\n   <g id=\"patch_5\">\n    <path clip-path=\"url(#pbcbe6593a4)\" d=\"M 144.079911 239.758125 \nL 167.994196 239.758125 \nL 167.994196 174.030454 \nL 144.079911 174.030454 \nz\n\" style=\"fill:#2ca02c;\"/>\n   </g>\n   <g id=\"patch_6\">\n    <path clip-path=\"url(#pbcbe6593a4)\" d=\"M 191.908482 239.758125 \nL 215.822768 239.758125 \nL 215.822768 184.187758 \nL 191.908482 184.187758 \nz\n\" style=\"fill:#d62728;\"/>\n   </g>\n   <g id=\"patch_7\">\n    <path clip-path=\"url(#pbcbe6593a4)\" d=\"M 239.737054 239.758125 \nL 263.651339 239.758125 \nL 263.651339 214.177264 \nL 239.737054 214.177264 \nz\n\" style=\"fill:#9467bd;\"/>\n   </g>\n   <g id=\"patch_8\">\n    <path clip-path=\"url(#pbcbe6593a4)\" d=\"M 287.565625 239.758125 \nL 311.479911 239.758125 \nL 311.479911 214.981272 \nL 287.565625 214.981272 \nz\n\" style=\"fill:#8c564b;\"/>\n   </g>\n   <g id=\"patch_9\">\n    <path clip-path=\"url(#pbcbe6593a4)\" d=\"M 335.394196 239.758125 \nL 359.308482 239.758125 \nL 359.308482 216.053283 \nL 335.394196 216.053283 \nz\n\" style=\"fill:#e377c2;\"/>\n   </g>\n   <g id=\"matplotlib.axis_1\">\n    <g id=\"xtick_1\">\n     <g id=\"line2d_1\">\n      <defs>\n       <path d=\"M 0 0 \nL 0 3.5 \n\" id=\"m3d3f496dd5\" style=\"stroke:#000000;stroke-width:0.8;\"/>\n      </defs>\n      <g>\n       <use style=\"stroke:#000000;stroke-width:0.8;\" x=\"60.379911\" xlink:href=\"#m3d3f496dd5\" y=\"239.758125\"/>\n      </g>\n     </g>\n     <g id=\"text_1\">\n      <!-- A few days each month -->\n      <defs>\n       <path d=\"M 34.1875 63.1875 \nL 20.796875 26.90625 \nL 47.609375 26.90625 \nz\nM 28.609375 72.90625 \nL 39.796875 72.90625 \nL 67.578125 0 \nL 57.328125 0 \nL 50.6875 18.703125 \nL 17.828125 18.703125 \nL 11.1875 0 \nL 0.78125 0 \nz\n\" id=\"DejaVuSans-65\"/>\n       <path id=\"DejaVuSans-32\"/>\n       <path d=\"M 37.109375 75.984375 \nL 37.109375 68.5 \nL 28.515625 68.5 \nQ 23.6875 68.5 21.796875 66.546875 \nQ 19.921875 64.59375 19.921875 59.515625 \nL 19.921875 54.6875 \nL 34.71875 54.6875 \nL 34.71875 47.703125 \nL 19.921875 47.703125 \nL 19.921875 0 \nL 10.890625 0 \nL 10.890625 47.703125 \nL 2.296875 47.703125 \nL 2.296875 54.6875 \nL 10.890625 54.6875 \nL 10.890625 58.5 \nQ 10.890625 67.625 15.140625 71.796875 \nQ 19.390625 75.984375 28.609375 75.984375 \nz\n\" id=\"DejaVuSans-102\"/>\n       <path d=\"M 56.203125 29.59375 \nL 56.203125 25.203125 \nL 14.890625 25.203125 \nQ 15.484375 15.921875 20.484375 11.0625 \nQ 25.484375 6.203125 34.421875 6.203125 \nQ 39.59375 6.203125 44.453125 7.46875 \nQ 49.3125 8.734375 54.109375 11.28125 \nL 54.109375 2.78125 \nQ 49.265625 0.734375 44.1875 -0.34375 \nQ 39.109375 -1.421875 33.890625 -1.421875 \nQ 20.796875 -1.421875 13.15625 6.1875 \nQ 5.515625 13.8125 5.515625 26.8125 \nQ 5.515625 40.234375 12.765625 48.109375 \nQ 20.015625 56 32.328125 56 \nQ 43.359375 56 49.78125 48.890625 \nQ 56.203125 41.796875 56.203125 29.59375 \nz\nM 47.21875 32.234375 \nQ 47.125 39.59375 43.09375 43.984375 \nQ 39.0625 48.390625 32.421875 48.390625 \nQ 24.90625 48.390625 20.390625 44.140625 \nQ 15.875 39.890625 15.1875 32.171875 \nz\n\" id=\"DejaVuSans-101\"/>\n       <path d=\"M 4.203125 54.6875 \nL 13.1875 54.6875 \nL 24.421875 12.015625 \nL 35.59375 54.6875 \nL 46.1875 54.6875 \nL 57.421875 12.015625 \nL 68.609375 54.6875 \nL 77.59375 54.6875 \nL 63.28125 0 \nL 52.6875 0 \nL 40.921875 44.828125 \nL 29.109375 0 \nL 18.5 0 \nz\n\" id=\"DejaVuSans-119\"/>\n       <path d=\"M 45.40625 46.390625 \nL 45.40625 75.984375 \nL 54.390625 75.984375 \nL 54.390625 0 \nL 45.40625 0 \nL 45.40625 8.203125 \nQ 42.578125 3.328125 38.25 0.953125 \nQ 33.9375 -1.421875 27.875 -1.421875 \nQ 17.96875 -1.421875 11.734375 6.484375 \nQ 5.515625 14.40625 5.515625 27.296875 \nQ 5.515625 40.1875 11.734375 48.09375 \nQ 17.96875 56 27.875 56 \nQ 33.9375 56 38.25 53.625 \nQ 42.578125 51.265625 45.40625 46.390625 \nz\nM 14.796875 27.296875 \nQ 14.796875 17.390625 18.875 11.75 \nQ 22.953125 6.109375 30.078125 6.109375 \nQ 37.203125 6.109375 41.296875 11.75 \nQ 45.40625 17.390625 45.40625 27.296875 \nQ 45.40625 37.203125 41.296875 42.84375 \nQ 37.203125 48.484375 30.078125 48.484375 \nQ 22.953125 48.484375 18.875 42.84375 \nQ 14.796875 37.203125 14.796875 27.296875 \nz\n\" id=\"DejaVuSans-100\"/>\n       <path d=\"M 34.28125 27.484375 \nQ 23.390625 27.484375 19.1875 25 \nQ 14.984375 22.515625 14.984375 16.5 \nQ 14.984375 11.71875 18.140625 8.90625 \nQ 21.296875 6.109375 26.703125 6.109375 \nQ 34.1875 6.109375 38.703125 11.40625 \nQ 43.21875 16.703125 43.21875 25.484375 \nL 43.21875 27.484375 \nz\nM 52.203125 31.203125 \nL 52.203125 0 \nL 43.21875 0 \nL 43.21875 8.296875 \nQ 40.140625 3.328125 35.546875 0.953125 \nQ 30.953125 -1.421875 24.3125 -1.421875 \nQ 15.921875 -1.421875 10.953125 3.296875 \nQ 6 8.015625 6 15.921875 \nQ 6 25.140625 12.171875 29.828125 \nQ 18.359375 34.515625 30.609375 34.515625 \nL 43.21875 34.515625 \nL 43.21875 35.40625 \nQ 43.21875 41.609375 39.140625 45 \nQ 35.0625 48.390625 27.6875 48.390625 \nQ 23 48.390625 18.546875 47.265625 \nQ 14.109375 46.140625 10.015625 43.890625 \nL 10.015625 52.203125 \nQ 14.9375 54.109375 19.578125 55.046875 \nQ 24.21875 56 28.609375 56 \nQ 40.484375 56 46.34375 49.84375 \nQ 52.203125 43.703125 52.203125 31.203125 \nz\n\" id=\"DejaVuSans-97\"/>\n       <path d=\"M 32.171875 -5.078125 \nQ 28.375 -14.84375 24.75 -17.8125 \nQ 21.140625 -20.796875 15.09375 -20.796875 \nL 7.90625 -20.796875 \nL 7.90625 -13.28125 \nL 13.1875 -13.28125 \nQ 16.890625 -13.28125 18.9375 -11.515625 \nQ 21 -9.765625 23.484375 -3.21875 \nL 25.09375 0.875 \nL 2.984375 54.6875 \nL 12.5 54.6875 \nL 29.59375 11.921875 \nL 46.6875 54.6875 \nL 56.203125 54.6875 \nz\n\" id=\"DejaVuSans-121\"/>\n       <path d=\"M 44.28125 53.078125 \nL 44.28125 44.578125 \nQ 40.484375 46.53125 36.375 47.5 \nQ 32.28125 48.484375 27.875 48.484375 \nQ 21.1875 48.484375 17.84375 46.4375 \nQ 14.5 44.390625 14.5 40.28125 \nQ 14.5 37.15625 16.890625 35.375 \nQ 19.28125 33.59375 26.515625 31.984375 \nL 29.59375 31.296875 \nQ 39.15625 29.25 43.1875 25.515625 \nQ 47.21875 21.78125 47.21875 15.09375 \nQ 47.21875 7.46875 41.1875 3.015625 \nQ 35.15625 -1.421875 24.609375 -1.421875 \nQ 20.21875 -1.421875 15.453125 -0.5625 \nQ 10.6875 0.296875 5.421875 2 \nL 5.421875 11.28125 \nQ 10.40625 8.6875 15.234375 7.390625 \nQ 20.0625 6.109375 24.8125 6.109375 \nQ 31.15625 6.109375 34.5625 8.28125 \nQ 37.984375 10.453125 37.984375 14.40625 \nQ 37.984375 18.0625 35.515625 20.015625 \nQ 33.0625 21.96875 24.703125 23.78125 \nL 21.578125 24.515625 \nQ 13.234375 26.265625 9.515625 29.90625 \nQ 5.8125 33.546875 5.8125 39.890625 \nQ 5.8125 47.609375 11.28125 51.796875 \nQ 16.75 56 26.8125 56 \nQ 31.78125 56 36.171875 55.265625 \nQ 40.578125 54.546875 44.28125 53.078125 \nz\n\" id=\"DejaVuSans-115\"/>\n       <path d=\"M 48.78125 52.59375 \nL 48.78125 44.1875 \nQ 44.96875 46.296875 41.140625 47.34375 \nQ 37.3125 48.390625 33.40625 48.390625 \nQ 24.65625 48.390625 19.8125 42.84375 \nQ 14.984375 37.3125 14.984375 27.296875 \nQ 14.984375 17.28125 19.8125 11.734375 \nQ 24.65625 6.203125 33.40625 6.203125 \nQ 37.3125 6.203125 41.140625 7.25 \nQ 44.96875 8.296875 48.78125 10.40625 \nL 48.78125 2.09375 \nQ 45.015625 0.34375 40.984375 -0.53125 \nQ 36.96875 -1.421875 32.421875 -1.421875 \nQ 20.0625 -1.421875 12.78125 6.34375 \nQ 5.515625 14.109375 5.515625 27.296875 \nQ 5.515625 40.671875 12.859375 48.328125 \nQ 20.21875 56 33.015625 56 \nQ 37.15625 56 41.109375 55.140625 \nQ 45.0625 54.296875 48.78125 52.59375 \nz\n\" id=\"DejaVuSans-99\"/>\n       <path d=\"M 54.890625 33.015625 \nL 54.890625 0 \nL 45.90625 0 \nL 45.90625 32.71875 \nQ 45.90625 40.484375 42.875 44.328125 \nQ 39.84375 48.1875 33.796875 48.1875 \nQ 26.515625 48.1875 22.3125 43.546875 \nQ 18.109375 38.921875 18.109375 30.90625 \nL 18.109375 0 \nL 9.078125 0 \nL 9.078125 75.984375 \nL 18.109375 75.984375 \nL 18.109375 46.1875 \nQ 21.34375 51.125 25.703125 53.5625 \nQ 30.078125 56 35.796875 56 \nQ 45.21875 56 50.046875 50.171875 \nQ 54.890625 44.34375 54.890625 33.015625 \nz\n\" id=\"DejaVuSans-104\"/>\n       <path d=\"M 52 44.1875 \nQ 55.375 50.25 60.0625 53.125 \nQ 64.75 56 71.09375 56 \nQ 79.640625 56 84.28125 50.015625 \nQ 88.921875 44.046875 88.921875 33.015625 \nL 88.921875 0 \nL 79.890625 0 \nL 79.890625 32.71875 \nQ 79.890625 40.578125 77.09375 44.375 \nQ 74.3125 48.1875 68.609375 48.1875 \nQ 61.625 48.1875 57.5625 43.546875 \nQ 53.515625 38.921875 53.515625 30.90625 \nL 53.515625 0 \nL 44.484375 0 \nL 44.484375 32.71875 \nQ 44.484375 40.625 41.703125 44.40625 \nQ 38.921875 48.1875 33.109375 48.1875 \nQ 26.21875 48.1875 22.15625 43.53125 \nQ 18.109375 38.875 18.109375 30.90625 \nL 18.109375 0 \nL 9.078125 0 \nL 9.078125 54.6875 \nL 18.109375 54.6875 \nL 18.109375 46.1875 \nQ 21.1875 51.21875 25.484375 53.609375 \nQ 29.78125 56 35.6875 56 \nQ 41.65625 56 45.828125 52.96875 \nQ 50 49.953125 52 44.1875 \nz\n\" id=\"DejaVuSans-109\"/>\n       <path d=\"M 30.609375 48.390625 \nQ 23.390625 48.390625 19.1875 42.75 \nQ 14.984375 37.109375 14.984375 27.296875 \nQ 14.984375 17.484375 19.15625 11.84375 \nQ 23.34375 6.203125 30.609375 6.203125 \nQ 37.796875 6.203125 41.984375 11.859375 \nQ 46.1875 17.53125 46.1875 27.296875 \nQ 46.1875 37.015625 41.984375 42.703125 \nQ 37.796875 48.390625 30.609375 48.390625 \nz\nM 30.609375 56 \nQ 42.328125 56 49.015625 48.375 \nQ 55.71875 40.765625 55.71875 27.296875 \nQ 55.71875 13.875 49.015625 6.21875 \nQ 42.328125 -1.421875 30.609375 -1.421875 \nQ 18.84375 -1.421875 12.171875 6.21875 \nQ 5.515625 13.875 5.515625 27.296875 \nQ 5.515625 40.765625 12.171875 48.375 \nQ 18.84375 56 30.609375 56 \nz\n\" id=\"DejaVuSans-111\"/>\n       <path d=\"M 54.890625 33.015625 \nL 54.890625 0 \nL 45.90625 0 \nL 45.90625 32.71875 \nQ 45.90625 40.484375 42.875 44.328125 \nQ 39.84375 48.1875 33.796875 48.1875 \nQ 26.515625 48.1875 22.3125 43.546875 \nQ 18.109375 38.921875 18.109375 30.90625 \nL 18.109375 0 \nL 9.078125 0 \nL 9.078125 54.6875 \nL 18.109375 54.6875 \nL 18.109375 46.1875 \nQ 21.34375 51.125 25.703125 53.5625 \nQ 30.078125 56 35.796875 56 \nQ 45.21875 56 50.046875 50.171875 \nQ 54.890625 44.34375 54.890625 33.015625 \nz\n\" id=\"DejaVuSans-110\"/>\n       <path d=\"M 18.3125 70.21875 \nL 18.3125 54.6875 \nL 36.8125 54.6875 \nL 36.8125 47.703125 \nL 18.3125 47.703125 \nL 18.3125 18.015625 \nQ 18.3125 11.328125 20.140625 9.421875 \nQ 21.96875 7.515625 27.59375 7.515625 \nL 36.8125 7.515625 \nL 36.8125 0 \nL 27.59375 0 \nQ 17.1875 0 13.234375 3.875 \nQ 9.28125 7.765625 9.28125 18.015625 \nL 9.28125 47.703125 \nL 2.6875 47.703125 \nL 2.6875 54.6875 \nL 9.28125 54.6875 \nL 9.28125 70.21875 \nz\n\" id=\"DejaVuSans-116\"/>\n      </defs>\n      <g transform=\"translate(63.139286 364.339375)rotate(-90)scale(0.1 -0.1)\">\n       <use xlink:href=\"#DejaVuSans-65\"/>\n       <use x=\"68.408203\" xlink:href=\"#DejaVuSans-32\"/>\n       <use x=\"100.195312\" xlink:href=\"#DejaVuSans-102\"/>\n       <use x=\"135.400391\" xlink:href=\"#DejaVuSans-101\"/>\n       <use x=\"196.923828\" xlink:href=\"#DejaVuSans-119\"/>\n       <use x=\"278.710938\" xlink:href=\"#DejaVuSans-32\"/>\n       <use x=\"310.498047\" xlink:href=\"#DejaVuSans-100\"/>\n       <use x=\"373.974609\" xlink:href=\"#DejaVuSans-97\"/>\n       <use x=\"435.253906\" xlink:href=\"#DejaVuSans-121\"/>\n       <use x=\"494.433594\" xlink:href=\"#DejaVuSans-115\"/>\n       <use x=\"546.533203\" xlink:href=\"#DejaVuSans-32\"/>\n       <use x=\"578.320312\" xlink:href=\"#DejaVuSans-101\"/>\n       <use x=\"639.84375\" xlink:href=\"#DejaVuSans-97\"/>\n       <use x=\"701.123047\" xlink:href=\"#DejaVuSans-99\"/>\n       <use x=\"756.103516\" xlink:href=\"#DejaVuSans-104\"/>\n       <use x=\"819.482422\" xlink:href=\"#DejaVuSans-32\"/>\n       <use x=\"851.269531\" xlink:href=\"#DejaVuSans-109\"/>\n       <use x=\"948.681641\" xlink:href=\"#DejaVuSans-111\"/>\n       <use x=\"1009.863281\" xlink:href=\"#DejaVuSans-110\"/>\n       <use x=\"1073.242188\" xlink:href=\"#DejaVuSans-116\"/>\n       <use x=\"1112.451172\" xlink:href=\"#DejaVuSans-104\"/>\n      </g>\n     </g>\n    </g>\n    <g id=\"xtick_2\">\n     <g id=\"line2d_2\">\n      <g>\n       <use style=\"stroke:#000000;stroke-width:0.8;\" x=\"108.208482\" xlink:href=\"#m3d3f496dd5\" y=\"239.758125\"/>\n      </g>\n     </g>\n     <g id=\"text_2\">\n      <!-- Never -->\n      <defs>\n       <path d=\"M 9.8125 72.90625 \nL 23.09375 72.90625 \nL 55.421875 11.921875 \nL 55.421875 72.90625 \nL 64.984375 72.90625 \nL 64.984375 0 \nL 51.703125 0 \nL 19.390625 60.984375 \nL 19.390625 0 \nL 9.8125 0 \nz\n\" id=\"DejaVuSans-78\"/>\n       <path d=\"M 2.984375 54.6875 \nL 12.5 54.6875 \nL 29.59375 8.796875 \nL 46.6875 54.6875 \nL 56.203125 54.6875 \nL 35.6875 0 \nL 23.484375 0 \nz\n\" id=\"DejaVuSans-118\"/>\n       <path d=\"M 41.109375 46.296875 \nQ 39.59375 47.171875 37.8125 47.578125 \nQ 36.03125 48 33.890625 48 \nQ 26.265625 48 22.1875 43.046875 \nQ 18.109375 38.09375 18.109375 28.8125 \nL 18.109375 0 \nL 9.078125 0 \nL 9.078125 54.6875 \nL 18.109375 54.6875 \nL 18.109375 46.1875 \nQ 20.953125 51.171875 25.484375 53.578125 \nQ 30.03125 56 36.53125 56 \nQ 37.453125 56 38.578125 55.875 \nQ 39.703125 55.765625 41.0625 55.515625 \nz\n\" id=\"DejaVuSans-114\"/>\n      </defs>\n      <g transform=\"translate(110.967857 276.575312)rotate(-90)scale(0.1 -0.1)\">\n       <use xlink:href=\"#DejaVuSans-78\"/>\n       <use x=\"74.804688\" xlink:href=\"#DejaVuSans-101\"/>\n       <use x=\"136.328125\" xlink:href=\"#DejaVuSans-118\"/>\n       <use x=\"195.507812\" xlink:href=\"#DejaVuSans-101\"/>\n       <use x=\"257.03125\" xlink:href=\"#DejaVuSans-114\"/>\n      </g>\n     </g>\n    </g>\n    <g id=\"xtick_3\">\n     <g id=\"line2d_3\">\n      <g>\n       <use style=\"stroke:#000000;stroke-width:0.8;\" x=\"156.037054\" xlink:href=\"#m3d3f496dd5\" y=\"239.758125\"/>\n      </g>\n     </g>\n     <g id=\"text_3\">\n      <!-- All or almost all the time (I'm full-time remote) -->\n      <defs>\n       <path d=\"M 9.421875 75.984375 \nL 18.40625 75.984375 \nL 18.40625 0 \nL 9.421875 0 \nz\n\" id=\"DejaVuSans-108\"/>\n       <path d=\"M 9.421875 54.6875 \nL 18.40625 54.6875 \nL 18.40625 0 \nL 9.421875 0 \nz\nM 9.421875 75.984375 \nL 18.40625 75.984375 \nL 18.40625 64.59375 \nL 9.421875 64.59375 \nz\n\" id=\"DejaVuSans-105\"/>\n       <path d=\"M 31 75.875 \nQ 24.46875 64.65625 21.28125 53.65625 \nQ 18.109375 42.671875 18.109375 31.390625 \nQ 18.109375 20.125 21.3125 9.0625 \nQ 24.515625 -2 31 -13.1875 \nL 23.1875 -13.1875 \nQ 15.875 -1.703125 12.234375 9.375 \nQ 8.59375 20.453125 8.59375 31.390625 \nQ 8.59375 42.28125 12.203125 53.3125 \nQ 15.828125 64.359375 23.1875 75.875 \nz\n\" id=\"DejaVuSans-40\"/>\n       <path d=\"M 9.8125 72.90625 \nL 19.671875 72.90625 \nL 19.671875 0 \nL 9.8125 0 \nz\n\" id=\"DejaVuSans-73\"/>\n       <path d=\"M 17.921875 72.90625 \nL 17.921875 45.796875 \nL 9.625 45.796875 \nL 9.625 72.90625 \nz\n\" id=\"DejaVuSans-39\"/>\n       <path d=\"M 8.5 21.578125 \nL 8.5 54.6875 \nL 17.484375 54.6875 \nL 17.484375 21.921875 \nQ 17.484375 14.15625 20.5 10.265625 \nQ 23.53125 6.390625 29.59375 6.390625 \nQ 36.859375 6.390625 41.078125 11.03125 \nQ 45.3125 15.671875 45.3125 23.6875 \nL 45.3125 54.6875 \nL 54.296875 54.6875 \nL 54.296875 0 \nL 45.3125 0 \nL 45.3125 8.40625 \nQ 42.046875 3.421875 37.71875 1 \nQ 33.40625 -1.421875 27.6875 -1.421875 \nQ 18.265625 -1.421875 13.375 4.4375 \nQ 8.5 10.296875 8.5 21.578125 \nz\nM 31.109375 56 \nz\n\" id=\"DejaVuSans-117\"/>\n       <path d=\"M 4.890625 31.390625 \nL 31.203125 31.390625 \nL 31.203125 23.390625 \nL 4.890625 23.390625 \nz\n\" id=\"DejaVuSans-45\"/>\n       <path d=\"M 8.015625 75.875 \nL 15.828125 75.875 \nQ 23.140625 64.359375 26.78125 53.3125 \nQ 30.421875 42.28125 30.421875 31.390625 \nQ 30.421875 20.453125 26.78125 9.375 \nQ 23.140625 -1.703125 15.828125 -13.1875 \nL 8.015625 -13.1875 \nQ 14.5 -2 17.703125 9.0625 \nQ 20.90625 20.125 20.90625 31.390625 \nQ 20.90625 42.671875 17.703125 53.65625 \nQ 14.5 64.65625 8.015625 75.875 \nz\n\" id=\"DejaVuSans-41\"/>\n      </defs>\n      <g transform=\"translate(158.796429 480.220625)rotate(-90)scale(0.1 -0.1)\">\n       <use xlink:href=\"#DejaVuSans-65\"/>\n       <use x=\"68.408203\" xlink:href=\"#DejaVuSans-108\"/>\n       <use x=\"96.191406\" xlink:href=\"#DejaVuSans-108\"/>\n       <use x=\"123.974609\" xlink:href=\"#DejaVuSans-32\"/>\n       <use x=\"155.761719\" xlink:href=\"#DejaVuSans-111\"/>\n       <use x=\"216.943359\" xlink:href=\"#DejaVuSans-114\"/>\n       <use x=\"258.056641\" xlink:href=\"#DejaVuSans-32\"/>\n       <use x=\"289.84375\" xlink:href=\"#DejaVuSans-97\"/>\n       <use x=\"351.123047\" xlink:href=\"#DejaVuSans-108\"/>\n       <use x=\"378.90625\" xlink:href=\"#DejaVuSans-109\"/>\n       <use x=\"476.318359\" xlink:href=\"#DejaVuSans-111\"/>\n       <use x=\"537.5\" xlink:href=\"#DejaVuSans-115\"/>\n       <use x=\"589.599609\" xlink:href=\"#DejaVuSans-116\"/>\n       <use x=\"628.808594\" xlink:href=\"#DejaVuSans-32\"/>\n       <use x=\"660.595703\" xlink:href=\"#DejaVuSans-97\"/>\n       <use x=\"721.875\" xlink:href=\"#DejaVuSans-108\"/>\n       <use x=\"749.658203\" xlink:href=\"#DejaVuSans-108\"/>\n       <use x=\"777.441406\" xlink:href=\"#DejaVuSans-32\"/>\n       <use x=\"809.228516\" xlink:href=\"#DejaVuSans-116\"/>\n       <use x=\"848.4375\" xlink:href=\"#DejaVuSans-104\"/>\n       <use x=\"911.816406\" xlink:href=\"#DejaVuSans-101\"/>\n       <use x=\"973.339844\" xlink:href=\"#DejaVuSans-32\"/>\n       <use x=\"1005.126953\" xlink:href=\"#DejaVuSans-116\"/>\n       <use x=\"1044.335938\" xlink:href=\"#DejaVuSans-105\"/>\n       <use x=\"1072.119141\" xlink:href=\"#DejaVuSans-109\"/>\n       <use x=\"1169.53125\" xlink:href=\"#DejaVuSans-101\"/>\n       <use x=\"1231.054688\" xlink:href=\"#DejaVuSans-32\"/>\n       <use x=\"1262.841797\" xlink:href=\"#DejaVuSans-40\"/>\n       <use x=\"1301.855469\" xlink:href=\"#DejaVuSans-73\"/>\n       <use x=\"1331.347656\" xlink:href=\"#DejaVuSans-39\"/>\n       <use x=\"1358.837891\" xlink:href=\"#DejaVuSans-109\"/>\n       <use x=\"1456.25\" xlink:href=\"#DejaVuSans-32\"/>\n       <use x=\"1488.037109\" xlink:href=\"#DejaVuSans-102\"/>\n       <use x=\"1523.242188\" xlink:href=\"#DejaVuSans-117\"/>\n       <use x=\"1586.621094\" xlink:href=\"#DejaVuSans-108\"/>\n       <use x=\"1614.404297\" xlink:href=\"#DejaVuSans-108\"/>\n       <use x=\"1642.1875\" xlink:href=\"#DejaVuSans-45\"/>\n       <use x=\"1678.271484\" xlink:href=\"#DejaVuSans-116\"/>\n       <use x=\"1717.480469\" xlink:href=\"#DejaVuSans-105\"/>\n       <use x=\"1745.263672\" xlink:href=\"#DejaVuSans-109\"/>\n       <use x=\"1842.675781\" xlink:href=\"#DejaVuSans-101\"/>\n       <use x=\"1904.199219\" xlink:href=\"#DejaVuSans-32\"/>\n       <use x=\"1935.986328\" xlink:href=\"#DejaVuSans-114\"/>\n       <use x=\"1974.849609\" xlink:href=\"#DejaVuSans-101\"/>\n       <use x=\"2036.373047\" xlink:href=\"#DejaVuSans-109\"/>\n       <use x=\"2133.785156\" xlink:href=\"#DejaVuSans-111\"/>\n       <use x=\"2194.966797\" xlink:href=\"#DejaVuSans-116\"/>\n       <use x=\"2234.175781\" xlink:href=\"#DejaVuSans-101\"/>\n       <use x=\"2295.699219\" xlink:href=\"#DejaVuSans-41\"/>\n      </g>\n     </g>\n    </g>\n    <g id=\"xtick_4\">\n     <g id=\"line2d_4\">\n      <g>\n       <use style=\"stroke:#000000;stroke-width:0.8;\" x=\"203.865625\" xlink:href=\"#m3d3f496dd5\" y=\"239.758125\"/>\n      </g>\n     </g>\n     <g id=\"text_4\">\n      <!-- Less than half the time, but at least one day each week -->\n      <defs>\n       <path d=\"M 9.8125 72.90625 \nL 19.671875 72.90625 \nL 19.671875 8.296875 \nL 55.171875 8.296875 \nL 55.171875 0 \nL 9.8125 0 \nz\n\" id=\"DejaVuSans-76\"/>\n       <path d=\"M 11.71875 12.40625 \nL 22.015625 12.40625 \nL 22.015625 4 \nL 14.015625 -11.625 \nL 7.71875 -11.625 \nL 11.71875 4 \nz\n\" id=\"DejaVuSans-44\"/>\n       <path d=\"M 48.6875 27.296875 \nQ 48.6875 37.203125 44.609375 42.84375 \nQ 40.53125 48.484375 33.40625 48.484375 \nQ 26.265625 48.484375 22.1875 42.84375 \nQ 18.109375 37.203125 18.109375 27.296875 \nQ 18.109375 17.390625 22.1875 11.75 \nQ 26.265625 6.109375 33.40625 6.109375 \nQ 40.53125 6.109375 44.609375 11.75 \nQ 48.6875 17.390625 48.6875 27.296875 \nz\nM 18.109375 46.390625 \nQ 20.953125 51.265625 25.265625 53.625 \nQ 29.59375 56 35.59375 56 \nQ 45.5625 56 51.78125 48.09375 \nQ 58.015625 40.1875 58.015625 27.296875 \nQ 58.015625 14.40625 51.78125 6.484375 \nQ 45.5625 -1.421875 35.59375 -1.421875 \nQ 29.59375 -1.421875 25.265625 0.953125 \nQ 20.953125 3.328125 18.109375 8.203125 \nL 18.109375 0 \nL 9.078125 0 \nL 9.078125 75.984375 \nL 18.109375 75.984375 \nz\n\" id=\"DejaVuSans-98\"/>\n       <path d=\"M 9.078125 75.984375 \nL 18.109375 75.984375 \nL 18.109375 31.109375 \nL 44.921875 54.6875 \nL 56.390625 54.6875 \nL 27.390625 29.109375 \nL 57.625 0 \nL 45.90625 0 \nL 18.109375 26.703125 \nL 18.109375 0 \nL 9.078125 0 \nz\n\" id=\"DejaVuSans-107\"/>\n      </defs>\n      <g transform=\"translate(206.625 525.595625)rotate(-90)scale(0.1 -0.1)\">\n       <use xlink:href=\"#DejaVuSans-76\"/>\n       <use x=\"53.962891\" xlink:href=\"#DejaVuSans-101\"/>\n       <use x=\"115.486328\" xlink:href=\"#DejaVuSans-115\"/>\n       <use x=\"167.585938\" xlink:href=\"#DejaVuSans-115\"/>\n       <use x=\"219.685547\" xlink:href=\"#DejaVuSans-32\"/>\n       <use x=\"251.472656\" xlink:href=\"#DejaVuSans-116\"/>\n       <use x=\"290.681641\" xlink:href=\"#DejaVuSans-104\"/>\n       <use x=\"354.060547\" xlink:href=\"#DejaVuSans-97\"/>\n       <use x=\"415.339844\" xlink:href=\"#DejaVuSans-110\"/>\n       <use x=\"478.71875\" xlink:href=\"#DejaVuSans-32\"/>\n       <use x=\"510.505859\" xlink:href=\"#DejaVuSans-104\"/>\n       <use x=\"573.884766\" xlink:href=\"#DejaVuSans-97\"/>\n       <use x=\"635.164062\" xlink:href=\"#DejaVuSans-108\"/>\n       <use x=\"662.947266\" xlink:href=\"#DejaVuSans-102\"/>\n       <use x=\"698.152344\" xlink:href=\"#DejaVuSans-32\"/>\n       <use x=\"729.939453\" xlink:href=\"#DejaVuSans-116\"/>\n       <use x=\"769.148438\" xlink:href=\"#DejaVuSans-104\"/>\n       <use x=\"832.527344\" xlink:href=\"#DejaVuSans-101\"/>\n       <use x=\"894.050781\" xlink:href=\"#DejaVuSans-32\"/>\n       <use x=\"925.837891\" xlink:href=\"#DejaVuSans-116\"/>\n       <use x=\"965.046875\" xlink:href=\"#DejaVuSans-105\"/>\n       <use x=\"992.830078\" xlink:href=\"#DejaVuSans-109\"/>\n       <use x=\"1090.242188\" xlink:href=\"#DejaVuSans-101\"/>\n       <use x=\"1151.765625\" xlink:href=\"#DejaVuSans-44\"/>\n       <use x=\"1183.552734\" xlink:href=\"#DejaVuSans-32\"/>\n       <use x=\"1215.339844\" xlink:href=\"#DejaVuSans-98\"/>\n       <use x=\"1278.816406\" xlink:href=\"#DejaVuSans-117\"/>\n       <use x=\"1342.195312\" xlink:href=\"#DejaVuSans-116\"/>\n       <use x=\"1381.404297\" xlink:href=\"#DejaVuSans-32\"/>\n       <use x=\"1413.191406\" xlink:href=\"#DejaVuSans-97\"/>\n       <use x=\"1474.470703\" xlink:href=\"#DejaVuSans-116\"/>\n       <use x=\"1513.679688\" xlink:href=\"#DejaVuSans-32\"/>\n       <use x=\"1545.466797\" xlink:href=\"#DejaVuSans-108\"/>\n       <use x=\"1573.25\" xlink:href=\"#DejaVuSans-101\"/>\n       <use x=\"1634.773438\" xlink:href=\"#DejaVuSans-97\"/>\n       <use x=\"1696.052734\" xlink:href=\"#DejaVuSans-115\"/>\n       <use x=\"1748.152344\" xlink:href=\"#DejaVuSans-116\"/>\n       <use x=\"1787.361328\" xlink:href=\"#DejaVuSans-32\"/>\n       <use x=\"1819.148438\" xlink:href=\"#DejaVuSans-111\"/>\n       <use x=\"1880.330078\" xlink:href=\"#DejaVuSans-110\"/>\n       <use x=\"1943.708984\" xlink:href=\"#DejaVuSans-101\"/>\n       <use x=\"2005.232422\" xlink:href=\"#DejaVuSans-32\"/>\n       <use x=\"2037.019531\" xlink:href=\"#DejaVuSans-100\"/>\n       <use x=\"2100.496094\" xlink:href=\"#DejaVuSans-97\"/>\n       <use x=\"2161.775391\" xlink:href=\"#DejaVuSans-121\"/>\n       <use x=\"2220.955078\" xlink:href=\"#DejaVuSans-32\"/>\n       <use x=\"2252.742188\" xlink:href=\"#DejaVuSans-101\"/>\n       <use x=\"2314.265625\" xlink:href=\"#DejaVuSans-97\"/>\n       <use x=\"2375.544922\" xlink:href=\"#DejaVuSans-99\"/>\n       <use x=\"2430.525391\" xlink:href=\"#DejaVuSans-104\"/>\n       <use x=\"2493.904297\" xlink:href=\"#DejaVuSans-32\"/>\n       <use x=\"2525.691406\" xlink:href=\"#DejaVuSans-119\"/>\n       <use x=\"2607.478516\" xlink:href=\"#DejaVuSans-101\"/>\n       <use x=\"2669.001953\" xlink:href=\"#DejaVuSans-101\"/>\n       <use x=\"2730.525391\" xlink:href=\"#DejaVuSans-107\"/>\n      </g>\n     </g>\n    </g>\n    <g id=\"xtick_5\">\n     <g id=\"line2d_5\">\n      <g>\n       <use style=\"stroke:#000000;stroke-width:0.8;\" x=\"251.694196\" xlink:href=\"#m3d3f496dd5\" y=\"239.758125\"/>\n      </g>\n     </g>\n     <g id=\"text_5\">\n      <!-- More than half, but not all, the time -->\n      <defs>\n       <path d=\"M 9.8125 72.90625 \nL 24.515625 72.90625 \nL 43.109375 23.296875 \nL 61.8125 72.90625 \nL 76.515625 72.90625 \nL 76.515625 0 \nL 66.890625 0 \nL 66.890625 64.015625 \nL 48.09375 14.015625 \nL 38.1875 14.015625 \nL 19.390625 64.015625 \nL 19.390625 0 \nL 9.8125 0 \nz\n\" id=\"DejaVuSans-77\"/>\n      </defs>\n      <g transform=\"translate(254.453571 425.305)rotate(-90)scale(0.1 -0.1)\">\n       <use xlink:href=\"#DejaVuSans-77\"/>\n       <use x=\"86.279297\" xlink:href=\"#DejaVuSans-111\"/>\n       <use x=\"147.460938\" xlink:href=\"#DejaVuSans-114\"/>\n       <use x=\"186.324219\" xlink:href=\"#DejaVuSans-101\"/>\n       <use x=\"247.847656\" xlink:href=\"#DejaVuSans-32\"/>\n       <use x=\"279.634766\" xlink:href=\"#DejaVuSans-116\"/>\n       <use x=\"318.84375\" xlink:href=\"#DejaVuSans-104\"/>\n       <use x=\"382.222656\" xlink:href=\"#DejaVuSans-97\"/>\n       <use x=\"443.501953\" xlink:href=\"#DejaVuSans-110\"/>\n       <use x=\"506.880859\" xlink:href=\"#DejaVuSans-32\"/>\n       <use x=\"538.667969\" xlink:href=\"#DejaVuSans-104\"/>\n       <use x=\"602.046875\" xlink:href=\"#DejaVuSans-97\"/>\n       <use x=\"663.326172\" xlink:href=\"#DejaVuSans-108\"/>\n       <use x=\"691.109375\" xlink:href=\"#DejaVuSans-102\"/>\n       <use x=\"726.314453\" xlink:href=\"#DejaVuSans-44\"/>\n       <use x=\"758.101562\" xlink:href=\"#DejaVuSans-32\"/>\n       <use x=\"789.888672\" xlink:href=\"#DejaVuSans-98\"/>\n       <use x=\"853.365234\" xlink:href=\"#DejaVuSans-117\"/>\n       <use x=\"916.744141\" xlink:href=\"#DejaVuSans-116\"/>\n       <use x=\"955.953125\" xlink:href=\"#DejaVuSans-32\"/>\n       <use x=\"987.740234\" xlink:href=\"#DejaVuSans-110\"/>\n       <use x=\"1051.119141\" xlink:href=\"#DejaVuSans-111\"/>\n       <use x=\"1112.300781\" xlink:href=\"#DejaVuSans-116\"/>\n       <use x=\"1151.509766\" xlink:href=\"#DejaVuSans-32\"/>\n       <use x=\"1183.296875\" xlink:href=\"#DejaVuSans-97\"/>\n       <use x=\"1244.576172\" xlink:href=\"#DejaVuSans-108\"/>\n       <use x=\"1272.359375\" xlink:href=\"#DejaVuSans-108\"/>\n       <use x=\"1300.142578\" xlink:href=\"#DejaVuSans-44\"/>\n       <use x=\"1331.929688\" xlink:href=\"#DejaVuSans-32\"/>\n       <use x=\"1363.716797\" xlink:href=\"#DejaVuSans-116\"/>\n       <use x=\"1402.925781\" xlink:href=\"#DejaVuSans-104\"/>\n       <use x=\"1466.304688\" xlink:href=\"#DejaVuSans-101\"/>\n       <use x=\"1527.828125\" xlink:href=\"#DejaVuSans-32\"/>\n       <use x=\"1559.615234\" xlink:href=\"#DejaVuSans-116\"/>\n       <use x=\"1598.824219\" xlink:href=\"#DejaVuSans-105\"/>\n       <use x=\"1626.607422\" xlink:href=\"#DejaVuSans-109\"/>\n       <use x=\"1724.019531\" xlink:href=\"#DejaVuSans-101\"/>\n      </g>\n     </g>\n    </g>\n    <g id=\"xtick_6\">\n     <g id=\"line2d_6\">\n      <g>\n       <use style=\"stroke:#000000;stroke-width:0.8;\" x=\"299.522768\" xlink:href=\"#m3d3f496dd5\" y=\"239.758125\"/>\n      </g>\n     </g>\n     <g id=\"text_6\">\n      <!-- It's complicated -->\n      <defs>\n       <path d=\"M 18.109375 8.203125 \nL 18.109375 -20.796875 \nL 9.078125 -20.796875 \nL 9.078125 54.6875 \nL 18.109375 54.6875 \nL 18.109375 46.390625 \nQ 20.953125 51.265625 25.265625 53.625 \nQ 29.59375 56 35.59375 56 \nQ 45.5625 56 51.78125 48.09375 \nQ 58.015625 40.1875 58.015625 27.296875 \nQ 58.015625 14.40625 51.78125 6.484375 \nQ 45.5625 -1.421875 35.59375 -1.421875 \nQ 29.59375 -1.421875 25.265625 0.953125 \nQ 20.953125 3.328125 18.109375 8.203125 \nz\nM 48.6875 27.296875 \nQ 48.6875 37.203125 44.609375 42.84375 \nQ 40.53125 48.484375 33.40625 48.484375 \nQ 26.265625 48.484375 22.1875 42.84375 \nQ 18.109375 37.203125 18.109375 27.296875 \nQ 18.109375 17.390625 22.1875 11.75 \nQ 26.265625 6.109375 33.40625 6.109375 \nQ 40.53125 6.109375 44.609375 11.75 \nQ 48.6875 17.390625 48.6875 27.296875 \nz\n\" id=\"DejaVuSans-112\"/>\n      </defs>\n      <g transform=\"translate(302.282143 326.075312)rotate(-90)scale(0.1 -0.1)\">\n       <use xlink:href=\"#DejaVuSans-73\"/>\n       <use x=\"29.492188\" xlink:href=\"#DejaVuSans-116\"/>\n       <use x=\"68.701172\" xlink:href=\"#DejaVuSans-39\"/>\n       <use x=\"96.191406\" xlink:href=\"#DejaVuSans-115\"/>\n       <use x=\"148.291016\" xlink:href=\"#DejaVuSans-32\"/>\n       <use x=\"180.078125\" xlink:href=\"#DejaVuSans-99\"/>\n       <use x=\"235.058594\" xlink:href=\"#DejaVuSans-111\"/>\n       <use x=\"296.240234\" xlink:href=\"#DejaVuSans-109\"/>\n       <use x=\"393.652344\" xlink:href=\"#DejaVuSans-112\"/>\n       <use x=\"457.128906\" xlink:href=\"#DejaVuSans-108\"/>\n       <use x=\"484.912109\" xlink:href=\"#DejaVuSans-105\"/>\n       <use x=\"512.695312\" xlink:href=\"#DejaVuSans-99\"/>\n       <use x=\"567.675781\" xlink:href=\"#DejaVuSans-97\"/>\n       <use x=\"628.955078\" xlink:href=\"#DejaVuSans-116\"/>\n       <use x=\"668.164062\" xlink:href=\"#DejaVuSans-101\"/>\n       <use x=\"729.6875\" xlink:href=\"#DejaVuSans-100\"/>\n      </g>\n     </g>\n    </g>\n    <g id=\"xtick_7\">\n     <g id=\"line2d_7\">\n      <g>\n       <use style=\"stroke:#000000;stroke-width:0.8;\" x=\"347.351339\" xlink:href=\"#m3d3f496dd5\" y=\"239.758125\"/>\n      </g>\n     </g>\n     <g id=\"text_7\">\n      <!-- About half the time -->\n      <g transform=\"translate(350.110714 343.625312)rotate(-90)scale(0.1 -0.1)\">\n       <use xlink:href=\"#DejaVuSans-65\"/>\n       <use x=\"68.408203\" xlink:href=\"#DejaVuSans-98\"/>\n       <use x=\"131.884766\" xlink:href=\"#DejaVuSans-111\"/>\n       <use x=\"193.066406\" xlink:href=\"#DejaVuSans-117\"/>\n       <use x=\"256.445312\" xlink:href=\"#DejaVuSans-116\"/>\n       <use x=\"295.654297\" xlink:href=\"#DejaVuSans-32\"/>\n       <use x=\"327.441406\" xlink:href=\"#DejaVuSans-104\"/>\n       <use x=\"390.820312\" xlink:href=\"#DejaVuSans-97\"/>\n       <use x=\"452.099609\" xlink:href=\"#DejaVuSans-108\"/>\n       <use x=\"479.882812\" xlink:href=\"#DejaVuSans-102\"/>\n       <use x=\"515.087891\" xlink:href=\"#DejaVuSans-32\"/>\n       <use x=\"546.875\" xlink:href=\"#DejaVuSans-116\"/>\n       <use x=\"586.083984\" xlink:href=\"#DejaVuSans-104\"/>\n       <use x=\"649.462891\" xlink:href=\"#DejaVuSans-101\"/>\n       <use x=\"710.986328\" xlink:href=\"#DejaVuSans-32\"/>\n       <use x=\"742.773438\" xlink:href=\"#DejaVuSans-116\"/>\n       <use x=\"781.982422\" xlink:href=\"#DejaVuSans-105\"/>\n       <use x=\"809.765625\" xlink:href=\"#DejaVuSans-109\"/>\n       <use x=\"907.177734\" xlink:href=\"#DejaVuSans-101\"/>\n      </g>\n     </g>\n    </g>\n   </g>\n   <g id=\"matplotlib.axis_2\">\n    <g id=\"ytick_1\">\n     <g id=\"line2d_8\">\n      <defs>\n       <path d=\"M 0 0 \nL -3.5 0 \n\" id=\"m605bfcdc65\" style=\"stroke:#000000;stroke-width:0.8;\"/>\n      </defs>\n      <g>\n       <use style=\"stroke:#000000;stroke-width:0.8;\" x=\"36.465625\" xlink:href=\"#m605bfcdc65\" y=\"239.758125\"/>\n      </g>\n     </g>\n     <g id=\"text_8\">\n      <!-- 0.00 -->\n      <defs>\n       <path d=\"M 31.78125 66.40625 \nQ 24.171875 66.40625 20.328125 58.90625 \nQ 16.5 51.421875 16.5 36.375 \nQ 16.5 21.390625 20.328125 13.890625 \nQ 24.171875 6.390625 31.78125 6.390625 \nQ 39.453125 6.390625 43.28125 13.890625 \nQ 47.125 21.390625 47.125 36.375 \nQ 47.125 51.421875 43.28125 58.90625 \nQ 39.453125 66.40625 31.78125 66.40625 \nz\nM 31.78125 74.21875 \nQ 44.046875 74.21875 50.515625 64.515625 \nQ 56.984375 54.828125 56.984375 36.375 \nQ 56.984375 17.96875 50.515625 8.265625 \nQ 44.046875 -1.421875 31.78125 -1.421875 \nQ 19.53125 -1.421875 13.0625 8.265625 \nQ 6.59375 17.96875 6.59375 36.375 \nQ 6.59375 54.828125 13.0625 64.515625 \nQ 19.53125 74.21875 31.78125 74.21875 \nz\n\" id=\"DejaVuSans-48\"/>\n       <path d=\"M 10.6875 12.40625 \nL 21 12.40625 \nL 21 0 \nL 10.6875 0 \nz\n\" id=\"DejaVuSans-46\"/>\n      </defs>\n      <g transform=\"translate(7.2 243.557344)scale(0.1 -0.1)\">\n       <use xlink:href=\"#DejaVuSans-48\"/>\n       <use x=\"63.623047\" xlink:href=\"#DejaVuSans-46\"/>\n       <use x=\"95.410156\" xlink:href=\"#DejaVuSans-48\"/>\n       <use x=\"159.033203\" xlink:href=\"#DejaVuSans-48\"/>\n      </g>\n     </g>\n    </g>\n    <g id=\"ytick_2\">\n     <g id=\"line2d_9\">\n      <g>\n       <use style=\"stroke:#000000;stroke-width:0.8;\" x=\"36.465625\" xlink:href=\"#m605bfcdc65\" y=\"205.325133\"/>\n      </g>\n     </g>\n     <g id=\"text_9\">\n      <!-- 0.05 -->\n      <defs>\n       <path d=\"M 10.796875 72.90625 \nL 49.515625 72.90625 \nL 49.515625 64.59375 \nL 19.828125 64.59375 \nL 19.828125 46.734375 \nQ 21.96875 47.46875 24.109375 47.828125 \nQ 26.265625 48.1875 28.421875 48.1875 \nQ 40.625 48.1875 47.75 41.5 \nQ 54.890625 34.8125 54.890625 23.390625 \nQ 54.890625 11.625 47.5625 5.09375 \nQ 40.234375 -1.421875 26.90625 -1.421875 \nQ 22.3125 -1.421875 17.546875 -0.640625 \nQ 12.796875 0.140625 7.71875 1.703125 \nL 7.71875 11.625 \nQ 12.109375 9.234375 16.796875 8.0625 \nQ 21.484375 6.890625 26.703125 6.890625 \nQ 35.15625 6.890625 40.078125 11.328125 \nQ 45.015625 15.765625 45.015625 23.390625 \nQ 45.015625 31 40.078125 35.4375 \nQ 35.15625 39.890625 26.703125 39.890625 \nQ 22.75 39.890625 18.8125 39.015625 \nQ 14.890625 38.140625 10.796875 36.28125 \nz\n\" id=\"DejaVuSans-53\"/>\n      </defs>\n      <g transform=\"translate(7.2 209.124352)scale(0.1 -0.1)\">\n       <use xlink:href=\"#DejaVuSans-48\"/>\n       <use x=\"63.623047\" xlink:href=\"#DejaVuSans-46\"/>\n       <use x=\"95.410156\" xlink:href=\"#DejaVuSans-48\"/>\n       <use x=\"159.033203\" xlink:href=\"#DejaVuSans-53\"/>\n      </g>\n     </g>\n    </g>\n    <g id=\"ytick_3\">\n     <g id=\"line2d_10\">\n      <g>\n       <use style=\"stroke:#000000;stroke-width:0.8;\" x=\"36.465625\" xlink:href=\"#m605bfcdc65\" y=\"170.892142\"/>\n      </g>\n     </g>\n     <g id=\"text_10\">\n      <!-- 0.10 -->\n      <defs>\n       <path d=\"M 12.40625 8.296875 \nL 28.515625 8.296875 \nL 28.515625 63.921875 \nL 10.984375 60.40625 \nL 10.984375 69.390625 \nL 28.421875 72.90625 \nL 38.28125 72.90625 \nL 38.28125 8.296875 \nL 54.390625 8.296875 \nL 54.390625 0 \nL 12.40625 0 \nz\n\" id=\"DejaVuSans-49\"/>\n      </defs>\n      <g transform=\"translate(7.2 174.691361)scale(0.1 -0.1)\">\n       <use xlink:href=\"#DejaVuSans-48\"/>\n       <use x=\"63.623047\" xlink:href=\"#DejaVuSans-46\"/>\n       <use x=\"95.410156\" xlink:href=\"#DejaVuSans-49\"/>\n       <use x=\"159.033203\" xlink:href=\"#DejaVuSans-48\"/>\n      </g>\n     </g>\n    </g>\n    <g id=\"ytick_4\">\n     <g id=\"line2d_11\">\n      <g>\n       <use style=\"stroke:#000000;stroke-width:0.8;\" x=\"36.465625\" xlink:href=\"#m605bfcdc65\" y=\"136.45915\"/>\n      </g>\n     </g>\n     <g id=\"text_11\">\n      <!-- 0.15 -->\n      <g transform=\"translate(7.2 140.258369)scale(0.1 -0.1)\">\n       <use xlink:href=\"#DejaVuSans-48\"/>\n       <use x=\"63.623047\" xlink:href=\"#DejaVuSans-46\"/>\n       <use x=\"95.410156\" xlink:href=\"#DejaVuSans-49\"/>\n       <use x=\"159.033203\" xlink:href=\"#DejaVuSans-53\"/>\n      </g>\n     </g>\n    </g>\n    <g id=\"ytick_5\">\n     <g id=\"line2d_12\">\n      <g>\n       <use style=\"stroke:#000000;stroke-width:0.8;\" x=\"36.465625\" xlink:href=\"#m605bfcdc65\" y=\"102.026159\"/>\n      </g>\n     </g>\n     <g id=\"text_12\">\n      <!-- 0.20 -->\n      <defs>\n       <path d=\"M 19.1875 8.296875 \nL 53.609375 8.296875 \nL 53.609375 0 \nL 7.328125 0 \nL 7.328125 8.296875 \nQ 12.9375 14.109375 22.625 23.890625 \nQ 32.328125 33.6875 34.8125 36.53125 \nQ 39.546875 41.84375 41.421875 45.53125 \nQ 43.3125 49.21875 43.3125 52.78125 \nQ 43.3125 58.59375 39.234375 62.25 \nQ 35.15625 65.921875 28.609375 65.921875 \nQ 23.96875 65.921875 18.8125 64.3125 \nQ 13.671875 62.703125 7.8125 59.421875 \nL 7.8125 69.390625 \nQ 13.765625 71.78125 18.9375 73 \nQ 24.125 74.21875 28.421875 74.21875 \nQ 39.75 74.21875 46.484375 68.546875 \nQ 53.21875 62.890625 53.21875 53.421875 \nQ 53.21875 48.921875 51.53125 44.890625 \nQ 49.859375 40.875 45.40625 35.40625 \nQ 44.1875 33.984375 37.640625 27.21875 \nQ 31.109375 20.453125 19.1875 8.296875 \nz\n\" id=\"DejaVuSans-50\"/>\n      </defs>\n      <g transform=\"translate(7.2 105.825378)scale(0.1 -0.1)\">\n       <use xlink:href=\"#DejaVuSans-48\"/>\n       <use x=\"63.623047\" xlink:href=\"#DejaVuSans-46\"/>\n       <use x=\"95.410156\" xlink:href=\"#DejaVuSans-50\"/>\n       <use x=\"159.033203\" xlink:href=\"#DejaVuSans-48\"/>\n      </g>\n     </g>\n    </g>\n    <g id=\"ytick_6\">\n     <g id=\"line2d_13\">\n      <g>\n       <use style=\"stroke:#000000;stroke-width:0.8;\" x=\"36.465625\" xlink:href=\"#m605bfcdc65\" y=\"67.593167\"/>\n      </g>\n     </g>\n     <g id=\"text_13\">\n      <!-- 0.25 -->\n      <g transform=\"translate(7.2 71.392386)scale(0.1 -0.1)\">\n       <use xlink:href=\"#DejaVuSans-48\"/>\n       <use x=\"63.623047\" xlink:href=\"#DejaVuSans-46\"/>\n       <use x=\"95.410156\" xlink:href=\"#DejaVuSans-50\"/>\n       <use x=\"159.033203\" xlink:href=\"#DejaVuSans-53\"/>\n      </g>\n     </g>\n    </g>\n    <g id=\"ytick_7\">\n     <g id=\"line2d_14\">\n      <g>\n       <use style=\"stroke:#000000;stroke-width:0.8;\" x=\"36.465625\" xlink:href=\"#m605bfcdc65\" y=\"33.160176\"/>\n      </g>\n     </g>\n     <g id=\"text_14\">\n      <!-- 0.30 -->\n      <defs>\n       <path d=\"M 40.578125 39.3125 \nQ 47.65625 37.796875 51.625 33 \nQ 55.609375 28.21875 55.609375 21.1875 \nQ 55.609375 10.40625 48.1875 4.484375 \nQ 40.765625 -1.421875 27.09375 -1.421875 \nQ 22.515625 -1.421875 17.65625 -0.515625 \nQ 12.796875 0.390625 7.625 2.203125 \nL 7.625 11.71875 \nQ 11.71875 9.328125 16.59375 8.109375 \nQ 21.484375 6.890625 26.8125 6.890625 \nQ 36.078125 6.890625 40.9375 10.546875 \nQ 45.796875 14.203125 45.796875 21.1875 \nQ 45.796875 27.640625 41.28125 31.265625 \nQ 36.765625 34.90625 28.71875 34.90625 \nL 20.21875 34.90625 \nL 20.21875 43.015625 \nL 29.109375 43.015625 \nQ 36.375 43.015625 40.234375 45.921875 \nQ 44.09375 48.828125 44.09375 54.296875 \nQ 44.09375 59.90625 40.109375 62.90625 \nQ 36.140625 65.921875 28.71875 65.921875 \nQ 24.65625 65.921875 20.015625 65.03125 \nQ 15.375 64.15625 9.8125 62.3125 \nL 9.8125 71.09375 \nQ 15.4375 72.65625 20.34375 73.4375 \nQ 25.25 74.21875 29.59375 74.21875 \nQ 40.828125 74.21875 47.359375 69.109375 \nQ 53.90625 64.015625 53.90625 55.328125 \nQ 53.90625 49.265625 50.4375 45.09375 \nQ 46.96875 40.921875 40.578125 39.3125 \nz\n\" id=\"DejaVuSans-51\"/>\n      </defs>\n      <g transform=\"translate(7.2 36.959394)scale(0.1 -0.1)\">\n       <use xlink:href=\"#DejaVuSans-48\"/>\n       <use x=\"63.623047\" xlink:href=\"#DejaVuSans-46\"/>\n       <use x=\"95.410156\" xlink:href=\"#DejaVuSans-51\"/>\n       <use x=\"159.033203\" xlink:href=\"#DejaVuSans-48\"/>\n      </g>\n     </g>\n    </g>\n   </g>\n   <g id=\"patch_10\">\n    <path d=\"M 36.465625 239.758125 \nL 36.465625 22.318125 \n\" style=\"fill:none;stroke:#000000;stroke-linecap:square;stroke-linejoin:miter;stroke-width:0.8;\"/>\n   </g>\n   <g id=\"patch_11\">\n    <path d=\"M 371.265625 239.758125 \nL 371.265625 22.318125 \n\" style=\"fill:none;stroke:#000000;stroke-linecap:square;stroke-linejoin:miter;stroke-width:0.8;\"/>\n   </g>\n   <g id=\"patch_12\">\n    <path d=\"M 36.465625 239.758125 \nL 371.265625 239.758125 \n\" style=\"fill:none;stroke:#000000;stroke-linecap:square;stroke-linejoin:miter;stroke-width:0.8;\"/>\n   </g>\n   <g id=\"patch_13\">\n    <path d=\"M 36.465625 22.318125 \nL 371.265625 22.318125 \n\" style=\"fill:none;stroke:#000000;stroke-linecap:square;stroke-linejoin:miter;stroke-width:0.8;\"/>\n   </g>\n   <g id=\"text_15\">\n    <!-- Frequency of Time Spent Remote Working -->\n    <defs>\n     <path d=\"M 9.8125 72.90625 \nL 51.703125 72.90625 \nL 51.703125 64.59375 \nL 19.671875 64.59375 \nL 19.671875 43.109375 \nL 48.578125 43.109375 \nL 48.578125 34.8125 \nL 19.671875 34.8125 \nL 19.671875 0 \nL 9.8125 0 \nz\n\" id=\"DejaVuSans-70\"/>\n     <path d=\"M 14.796875 27.296875 \nQ 14.796875 17.390625 18.875 11.75 \nQ 22.953125 6.109375 30.078125 6.109375 \nQ 37.203125 6.109375 41.296875 11.75 \nQ 45.40625 17.390625 45.40625 27.296875 \nQ 45.40625 37.203125 41.296875 42.84375 \nQ 37.203125 48.484375 30.078125 48.484375 \nQ 22.953125 48.484375 18.875 42.84375 \nQ 14.796875 37.203125 14.796875 27.296875 \nz\nM 45.40625 8.203125 \nQ 42.578125 3.328125 38.25 0.953125 \nQ 33.9375 -1.421875 27.875 -1.421875 \nQ 17.96875 -1.421875 11.734375 6.484375 \nQ 5.515625 14.40625 5.515625 27.296875 \nQ 5.515625 40.1875 11.734375 48.09375 \nQ 17.96875 56 27.875 56 \nQ 33.9375 56 38.25 53.625 \nQ 42.578125 51.265625 45.40625 46.390625 \nL 45.40625 54.6875 \nL 54.390625 54.6875 \nL 54.390625 -20.796875 \nL 45.40625 -20.796875 \nz\n\" id=\"DejaVuSans-113\"/>\n     <path d=\"M -0.296875 72.90625 \nL 61.375 72.90625 \nL 61.375 64.59375 \nL 35.5 64.59375 \nL 35.5 0 \nL 25.59375 0 \nL 25.59375 64.59375 \nL -0.296875 64.59375 \nz\n\" id=\"DejaVuSans-84\"/>\n     <path d=\"M 53.515625 70.515625 \nL 53.515625 60.890625 \nQ 47.90625 63.578125 42.921875 64.890625 \nQ 37.9375 66.21875 33.296875 66.21875 \nQ 25.25 66.21875 20.875 63.09375 \nQ 16.5 59.96875 16.5 54.203125 \nQ 16.5 49.359375 19.40625 46.890625 \nQ 22.3125 44.4375 30.421875 42.921875 \nL 36.375 41.703125 \nQ 47.40625 39.59375 52.65625 34.296875 \nQ 57.90625 29 57.90625 20.125 \nQ 57.90625 9.515625 50.796875 4.046875 \nQ 43.703125 -1.421875 29.984375 -1.421875 \nQ 24.8125 -1.421875 18.96875 -0.25 \nQ 13.140625 0.921875 6.890625 3.21875 \nL 6.890625 13.375 \nQ 12.890625 10.015625 18.65625 8.296875 \nQ 24.421875 6.59375 29.984375 6.59375 \nQ 38.421875 6.59375 43.015625 9.90625 \nQ 47.609375 13.234375 47.609375 19.390625 \nQ 47.609375 24.75 44.3125 27.78125 \nQ 41.015625 30.8125 33.5 32.328125 \nL 27.484375 33.5 \nQ 16.453125 35.6875 11.515625 40.375 \nQ 6.59375 45.0625 6.59375 53.421875 \nQ 6.59375 63.09375 13.40625 68.65625 \nQ 20.21875 74.21875 32.171875 74.21875 \nQ 37.3125 74.21875 42.625 73.28125 \nQ 47.953125 72.359375 53.515625 70.515625 \nz\n\" id=\"DejaVuSans-83\"/>\n     <path d=\"M 44.390625 34.1875 \nQ 47.5625 33.109375 50.5625 29.59375 \nQ 53.5625 26.078125 56.59375 19.921875 \nL 66.609375 0 \nL 56 0 \nL 46.6875 18.703125 \nQ 43.0625 26.03125 39.671875 28.421875 \nQ 36.28125 30.8125 30.421875 30.8125 \nL 19.671875 30.8125 \nL 19.671875 0 \nL 9.8125 0 \nL 9.8125 72.90625 \nL 32.078125 72.90625 \nQ 44.578125 72.90625 50.734375 67.671875 \nQ 56.890625 62.453125 56.890625 51.90625 \nQ 56.890625 45.015625 53.6875 40.46875 \nQ 50.484375 35.9375 44.390625 34.1875 \nz\nM 19.671875 64.796875 \nL 19.671875 38.921875 \nL 32.078125 38.921875 \nQ 39.203125 38.921875 42.84375 42.21875 \nQ 46.484375 45.515625 46.484375 51.90625 \nQ 46.484375 58.296875 42.84375 61.546875 \nQ 39.203125 64.796875 32.078125 64.796875 \nz\n\" id=\"DejaVuSans-82\"/>\n     <path d=\"M 3.328125 72.90625 \nL 13.28125 72.90625 \nL 28.609375 11.28125 \nL 43.890625 72.90625 \nL 54.984375 72.90625 \nL 70.3125 11.28125 \nL 85.59375 72.90625 \nL 95.609375 72.90625 \nL 77.296875 0 \nL 64.890625 0 \nL 49.515625 63.28125 \nL 33.984375 0 \nL 21.578125 0 \nz\n\" id=\"DejaVuSans-87\"/>\n     <path d=\"M 45.40625 27.984375 \nQ 45.40625 37.75 41.375 43.109375 \nQ 37.359375 48.484375 30.078125 48.484375 \nQ 22.859375 48.484375 18.828125 43.109375 \nQ 14.796875 37.75 14.796875 27.984375 \nQ 14.796875 18.265625 18.828125 12.890625 \nQ 22.859375 7.515625 30.078125 7.515625 \nQ 37.359375 7.515625 41.375 12.890625 \nQ 45.40625 18.265625 45.40625 27.984375 \nz\nM 54.390625 6.78125 \nQ 54.390625 -7.171875 48.1875 -13.984375 \nQ 42 -20.796875 29.203125 -20.796875 \nQ 24.46875 -20.796875 20.265625 -20.09375 \nQ 16.0625 -19.390625 12.109375 -17.921875 \nL 12.109375 -9.1875 \nQ 16.0625 -11.328125 19.921875 -12.34375 \nQ 23.78125 -13.375 27.78125 -13.375 \nQ 36.625 -13.375 41.015625 -8.765625 \nQ 45.40625 -4.15625 45.40625 5.171875 \nL 45.40625 9.625 \nQ 42.625 4.78125 38.28125 2.390625 \nQ 33.9375 0 27.875 0 \nQ 17.828125 0 11.671875 7.65625 \nQ 5.515625 15.328125 5.515625 27.984375 \nQ 5.515625 40.671875 11.671875 48.328125 \nQ 17.828125 56 27.875 56 \nQ 33.9375 56 38.28125 53.609375 \nQ 42.625 51.21875 45.40625 46.390625 \nL 45.40625 54.6875 \nL 54.390625 54.6875 \nz\n\" id=\"DejaVuSans-103\"/>\n    </defs>\n    <g transform=\"translate(77.785938 16.318125)scale(0.12 -0.12)\">\n     <use xlink:href=\"#DejaVuSans-70\"/>\n     <use x=\"50.269531\" xlink:href=\"#DejaVuSans-114\"/>\n     <use x=\"89.132812\" xlink:href=\"#DejaVuSans-101\"/>\n     <use x=\"150.65625\" xlink:href=\"#DejaVuSans-113\"/>\n     <use x=\"214.132812\" xlink:href=\"#DejaVuSans-117\"/>\n     <use x=\"277.511719\" xlink:href=\"#DejaVuSans-101\"/>\n     <use x=\"339.035156\" xlink:href=\"#DejaVuSans-110\"/>\n     <use x=\"402.414062\" xlink:href=\"#DejaVuSans-99\"/>\n     <use x=\"457.394531\" xlink:href=\"#DejaVuSans-121\"/>\n     <use x=\"516.574219\" xlink:href=\"#DejaVuSans-32\"/>\n     <use x=\"548.361328\" xlink:href=\"#DejaVuSans-111\"/>\n     <use x=\"609.542969\" xlink:href=\"#DejaVuSans-102\"/>\n     <use x=\"644.748047\" xlink:href=\"#DejaVuSans-32\"/>\n     <use x=\"676.535156\" xlink:href=\"#DejaVuSans-84\"/>\n     <use x=\"734.494141\" xlink:href=\"#DejaVuSans-105\"/>\n     <use x=\"762.277344\" xlink:href=\"#DejaVuSans-109\"/>\n     <use x=\"859.689453\" xlink:href=\"#DejaVuSans-101\"/>\n     <use x=\"921.212891\" xlink:href=\"#DejaVuSans-32\"/>\n     <use x=\"953\" xlink:href=\"#DejaVuSans-83\"/>\n     <use x=\"1016.476562\" xlink:href=\"#DejaVuSans-112\"/>\n     <use x=\"1079.953125\" xlink:href=\"#DejaVuSans-101\"/>\n     <use x=\"1141.476562\" xlink:href=\"#DejaVuSans-110\"/>\n     <use x=\"1204.855469\" xlink:href=\"#DejaVuSans-116\"/>\n     <use x=\"1244.064453\" xlink:href=\"#DejaVuSans-32\"/>\n     <use x=\"1275.851562\" xlink:href=\"#DejaVuSans-82\"/>\n     <use x=\"1340.833984\" xlink:href=\"#DejaVuSans-101\"/>\n     <use x=\"1402.357422\" xlink:href=\"#DejaVuSans-109\"/>\n     <use x=\"1499.769531\" xlink:href=\"#DejaVuSans-111\"/>\n     <use x=\"1560.951172\" xlink:href=\"#DejaVuSans-116\"/>\n     <use x=\"1600.160156\" xlink:href=\"#DejaVuSans-101\"/>\n     <use x=\"1661.683594\" xlink:href=\"#DejaVuSans-32\"/>\n     <use x=\"1693.470703\" xlink:href=\"#DejaVuSans-87\"/>\n     <use x=\"1786.472656\" xlink:href=\"#DejaVuSans-111\"/>\n     <use x=\"1847.654297\" xlink:href=\"#DejaVuSans-114\"/>\n     <use x=\"1888.767578\" xlink:href=\"#DejaVuSans-107\"/>\n     <use x=\"1946.677734\" xlink:href=\"#DejaVuSans-105\"/>\n     <use x=\"1974.460938\" xlink:href=\"#DejaVuSans-110\"/>\n     <use x=\"2037.839844\" xlink:href=\"#DejaVuSans-103\"/>\n    </g>\n   </g>\n  </g>\n </g>\n <defs>\n  <clipPath id=\"pbcbe6593a4\">\n   <rect height=\"217.44\" width=\"334.8\" x=\"36.465625\" y=\"22.318125\"/>\n  </clipPath>\n </defs>\n</svg>\n",
      "image/png": "[encoded data removed]"
     },
     "metadata": {
      "needs_background": "light"
     }
    }
   ],
   "source": [
    "home_remote_value_counts = df_2017['HomeRemote'].value_counts()\n",
    "(home_remote_value_counts/df_2017.shape[0]).plot(kind=\"bar\")\n",
    "plt.title(\"Frequency of Time Spent Remote Working\")"
   ]
  },
  {
   "cell_type": "code",
   "execution_count": 76,
   "metadata": {},
   "outputs": [
    {
     "output_type": "execute_result",
     "data": {
      "text/plain": "Agree                12011\nStrongly agree        8022\nSomewhat agree        7363\nDisagree              2327\nStrongly disagree     1180\nName: DiversityImportant, dtype: int64"
     },
     "metadata": {},
     "execution_count": 76
    }
   ],
   "source": [
    "df_2017['DiversityImportant'].value_counts()"
   ]
  },
  {
   "cell_type": "code",
   "execution_count": 73,
   "metadata": {},
   "outputs": [
    {
     "output_type": "execute_result",
     "data": {
      "text/plain": "Text(0.5, 1.0, \"Agree/Disagree with the statement that 'Diversity in the workplace is important'\")"
     },
     "metadata": {},
     "execution_count": 73
    },
    {
     "output_type": "display_data",
     "data": {
      "text/plain": "<Figure size 432x288 with 1 Axes>",
      "image/svg+xml": "<?xml version=\"1.0\" encoding=\"utf-8\" standalone=\"no\"?>\n<!DOCTYPE svg PUBLIC \"-//W3C//DTD SVG 1.1//EN\"\n  \"http://www.w3.org/Graphics/SVG/1.1/DTD/svg11.dtd\">\n<!-- Created with matplotlib (https://matplotlib.org/) -->\n<svg height=\"341.797188pt\" version=\"1.1\" viewBox=\"0 0 497.169375 341.797188\" width=\"497.169375pt\" xmlns=\"http://www.w3.org/2000/svg\" xmlns:xlink=\"http://www.w3.org/1999/xlink\">\n <defs>\n  <style type=\"text/css\">\n*{stroke-linecap:butt;stroke-linejoin:round;}\n  </style>\n </defs>\n <g id=\"figure_1\">\n  <g id=\"patch_1\">\n   <path d=\"M 0 341.797188 \nL 497.169375 341.797188 \nL 497.169375 0 \nL 0 0 \nz\n\" style=\"fill:none;\"/>\n  </g>\n  <g id=\"axes_1\">\n   <g id=\"patch_2\">\n    <path d=\"M 81.184687 239.758125 \nL 415.984688 239.758125 \nL 415.984688 22.318125 \nL 81.184687 22.318125 \nz\n\" style=\"fill:#ffffff;\"/>\n   </g>\n   <g id=\"patch_3\">\n    <path clip-path=\"url(#p6ec8da4e21)\" d=\"M 97.924687 239.758125 \nL 131.404687 239.758125 \nL 131.404687 32.672411 \nL 97.924687 32.672411 \nz\n\" style=\"fill:#1f77b4;\"/>\n   </g>\n   <g id=\"patch_4\">\n    <path clip-path=\"url(#p6ec8da4e21)\" d=\"M 164.884687 239.758125 \nL 198.364688 239.758125 \nL 198.364688 101.448109 \nL 164.884687 101.448109 \nz\n\" style=\"fill:#ff7f0e;\"/>\n   </g>\n   <g id=\"patch_5\">\n    <path clip-path=\"url(#p6ec8da4e21)\" d=\"M 231.844688 239.758125 \nL 265.324688 239.758125 \nL 265.324688 112.810151 \nL 231.844688 112.810151 \nz\n\" style=\"fill:#2ca02c;\"/>\n   </g>\n   <g id=\"patch_6\">\n    <path clip-path=\"url(#p6ec8da4e21)\" d=\"M 298.804688 239.758125 \nL 332.284688 239.758125 \nL 332.284688 199.637531 \nL 298.804688 199.637531 \nz\n\" style=\"fill:#d62728;\"/>\n   </g>\n   <g id=\"patch_7\">\n    <path clip-path=\"url(#p6ec8da4e21)\" d=\"M 365.764688 239.758125 \nL 399.244688 239.758125 \nL 399.244688 219.413346 \nL 365.764688 219.413346 \nz\n\" style=\"fill:#9467bd;\"/>\n   </g>\n   <g id=\"matplotlib.axis_1\">\n    <g id=\"xtick_1\">\n     <g id=\"line2d_1\">\n      <defs>\n       <path d=\"M 0 0 \nL 0 3.5 \n\" id=\"m81f792afa1\" style=\"stroke:#000000;stroke-width:0.8;\"/>\n      </defs>\n      <g>\n       <use style=\"stroke:#000000;stroke-width:0.8;\" x=\"114.664687\" xlink:href=\"#m81f792afa1\" y=\"239.758125\"/>\n      </g>\n     </g>\n     <g id=\"text_1\">\n      <!-- Agree -->\n      <defs>\n       <path d=\"M 34.1875 63.1875 \nL 20.796875 26.90625 \nL 47.609375 26.90625 \nz\nM 28.609375 72.90625 \nL 39.796875 72.90625 \nL 67.578125 0 \nL 57.328125 0 \nL 50.6875 18.703125 \nL 17.828125 18.703125 \nL 11.1875 0 \nL 0.78125 0 \nz\n\" id=\"DejaVuSans-65\"/>\n       <path d=\"M 45.40625 27.984375 \nQ 45.40625 37.75 41.375 43.109375 \nQ 37.359375 48.484375 30.078125 48.484375 \nQ 22.859375 48.484375 18.828125 43.109375 \nQ 14.796875 37.75 14.796875 27.984375 \nQ 14.796875 18.265625 18.828125 12.890625 \nQ 22.859375 7.515625 30.078125 7.515625 \nQ 37.359375 7.515625 41.375 12.890625 \nQ 45.40625 18.265625 45.40625 27.984375 \nz\nM 54.390625 6.78125 \nQ 54.390625 -7.171875 48.1875 -13.984375 \nQ 42 -20.796875 29.203125 -20.796875 \nQ 24.46875 -20.796875 20.265625 -20.09375 \nQ 16.0625 -19.390625 12.109375 -17.921875 \nL 12.109375 -9.1875 \nQ 16.0625 -11.328125 19.921875 -12.34375 \nQ 23.78125 -13.375 27.78125 -13.375 \nQ 36.625 -13.375 41.015625 -8.765625 \nQ 45.40625 -4.15625 45.40625 5.171875 \nL 45.40625 9.625 \nQ 42.625 4.78125 38.28125 2.390625 \nQ 33.9375 0 27.875 0 \nQ 17.828125 0 11.671875 7.65625 \nQ 5.515625 15.328125 5.515625 27.984375 \nQ 5.515625 40.671875 11.671875 48.328125 \nQ 17.828125 56 27.875 56 \nQ 33.9375 56 38.28125 53.609375 \nQ 42.625 51.21875 45.40625 46.390625 \nL 45.40625 54.6875 \nL 54.390625 54.6875 \nz\n\" id=\"DejaVuSans-103\"/>\n       <path d=\"M 41.109375 46.296875 \nQ 39.59375 47.171875 37.8125 47.578125 \nQ 36.03125 48 33.890625 48 \nQ 26.265625 48 22.1875 43.046875 \nQ 18.109375 38.09375 18.109375 28.8125 \nL 18.109375 0 \nL 9.078125 0 \nL 9.078125 54.6875 \nL 18.109375 54.6875 \nL 18.109375 46.1875 \nQ 20.953125 51.171875 25.484375 53.578125 \nQ 30.03125 56 36.53125 56 \nQ 37.453125 56 38.578125 55.875 \nQ 39.703125 55.765625 41.0625 55.515625 \nz\n\" id=\"DejaVuSans-114\"/>\n       <path d=\"M 56.203125 29.59375 \nL 56.203125 25.203125 \nL 14.890625 25.203125 \nQ 15.484375 15.921875 20.484375 11.0625 \nQ 25.484375 6.203125 34.421875 6.203125 \nQ 39.59375 6.203125 44.453125 7.46875 \nQ 49.3125 8.734375 54.109375 11.28125 \nL 54.109375 2.78125 \nQ 49.265625 0.734375 44.1875 -0.34375 \nQ 39.109375 -1.421875 33.890625 -1.421875 \nQ 20.796875 -1.421875 13.15625 6.1875 \nQ 5.515625 13.8125 5.515625 26.8125 \nQ 5.515625 40.234375 12.765625 48.109375 \nQ 20.015625 56 32.328125 56 \nQ 43.359375 56 49.78125 48.890625 \nQ 56.203125 41.796875 56.203125 29.59375 \nz\nM 47.21875 32.234375 \nQ 47.125 39.59375 43.09375 43.984375 \nQ 39.0625 48.390625 32.421875 48.390625 \nQ 24.90625 48.390625 20.390625 44.140625 \nQ 15.875 39.890625 15.1875 32.171875 \nz\n\" id=\"DejaVuSans-101\"/>\n      </defs>\n      <g transform=\"translate(117.424062 276.139375)rotate(-90)scale(0.1 -0.1)\">\n       <use xlink:href=\"#DejaVuSans-65\"/>\n       <use x=\"68.408203\" xlink:href=\"#DejaVuSans-103\"/>\n       <use x=\"131.884766\" xlink:href=\"#DejaVuSans-114\"/>\n       <use x=\"170.748047\" xlink:href=\"#DejaVuSans-101\"/>\n       <use x=\"232.271484\" xlink:href=\"#DejaVuSans-101\"/>\n      </g>\n     </g>\n    </g>\n    <g id=\"xtick_2\">\n     <g id=\"line2d_2\">\n      <g>\n       <use style=\"stroke:#000000;stroke-width:0.8;\" x=\"181.624687\" xlink:href=\"#m81f792afa1\" y=\"239.758125\"/>\n      </g>\n     </g>\n     <g id=\"text_2\">\n      <!-- Strongly agree -->\n      <defs>\n       <path d=\"M 53.515625 70.515625 \nL 53.515625 60.890625 \nQ 47.90625 63.578125 42.921875 64.890625 \nQ 37.9375 66.21875 33.296875 66.21875 \nQ 25.25 66.21875 20.875 63.09375 \nQ 16.5 59.96875 16.5 54.203125 \nQ 16.5 49.359375 19.40625 46.890625 \nQ 22.3125 44.4375 30.421875 42.921875 \nL 36.375 41.703125 \nQ 47.40625 39.59375 52.65625 34.296875 \nQ 57.90625 29 57.90625 20.125 \nQ 57.90625 9.515625 50.796875 4.046875 \nQ 43.703125 -1.421875 29.984375 -1.421875 \nQ 24.8125 -1.421875 18.96875 -0.25 \nQ 13.140625 0.921875 6.890625 3.21875 \nL 6.890625 13.375 \nQ 12.890625 10.015625 18.65625 8.296875 \nQ 24.421875 6.59375 29.984375 6.59375 \nQ 38.421875 6.59375 43.015625 9.90625 \nQ 47.609375 13.234375 47.609375 19.390625 \nQ 47.609375 24.75 44.3125 27.78125 \nQ 41.015625 30.8125 33.5 32.328125 \nL 27.484375 33.5 \nQ 16.453125 35.6875 11.515625 40.375 \nQ 6.59375 45.0625 6.59375 53.421875 \nQ 6.59375 63.09375 13.40625 68.65625 \nQ 20.21875 74.21875 32.171875 74.21875 \nQ 37.3125 74.21875 42.625 73.28125 \nQ 47.953125 72.359375 53.515625 70.515625 \nz\n\" id=\"DejaVuSans-83\"/>\n       <path d=\"M 18.3125 70.21875 \nL 18.3125 54.6875 \nL 36.8125 54.6875 \nL 36.8125 47.703125 \nL 18.3125 47.703125 \nL 18.3125 18.015625 \nQ 18.3125 11.328125 20.140625 9.421875 \nQ 21.96875 7.515625 27.59375 7.515625 \nL 36.8125 7.515625 \nL 36.8125 0 \nL 27.59375 0 \nQ 17.1875 0 13.234375 3.875 \nQ 9.28125 7.765625 9.28125 18.015625 \nL 9.28125 47.703125 \nL 2.6875 47.703125 \nL 2.6875 54.6875 \nL 9.28125 54.6875 \nL 9.28125 70.21875 \nz\n\" id=\"DejaVuSans-116\"/>\n       <path d=\"M 30.609375 48.390625 \nQ 23.390625 48.390625 19.1875 42.75 \nQ 14.984375 37.109375 14.984375 27.296875 \nQ 14.984375 17.484375 19.15625 11.84375 \nQ 23.34375 6.203125 30.609375 6.203125 \nQ 37.796875 6.203125 41.984375 11.859375 \nQ 46.1875 17.53125 46.1875 27.296875 \nQ 46.1875 37.015625 41.984375 42.703125 \nQ 37.796875 48.390625 30.609375 48.390625 \nz\nM 30.609375 56 \nQ 42.328125 56 49.015625 48.375 \nQ 55.71875 40.765625 55.71875 27.296875 \nQ 55.71875 13.875 49.015625 6.21875 \nQ 42.328125 -1.421875 30.609375 -1.421875 \nQ 18.84375 -1.421875 12.171875 6.21875 \nQ 5.515625 13.875 5.515625 27.296875 \nQ 5.515625 40.765625 12.171875 48.375 \nQ 18.84375 56 30.609375 56 \nz\n\" id=\"DejaVuSans-111\"/>\n       <path d=\"M 54.890625 33.015625 \nL 54.890625 0 \nL 45.90625 0 \nL 45.90625 32.71875 \nQ 45.90625 40.484375 42.875 44.328125 \nQ 39.84375 48.1875 33.796875 48.1875 \nQ 26.515625 48.1875 22.3125 43.546875 \nQ 18.109375 38.921875 18.109375 30.90625 \nL 18.109375 0 \nL 9.078125 0 \nL 9.078125 54.6875 \nL 18.109375 54.6875 \nL 18.109375 46.1875 \nQ 21.34375 51.125 25.703125 53.5625 \nQ 30.078125 56 35.796875 56 \nQ 45.21875 56 50.046875 50.171875 \nQ 54.890625 44.34375 54.890625 33.015625 \nz\n\" id=\"DejaVuSans-110\"/>\n       <path d=\"M 9.421875 75.984375 \nL 18.40625 75.984375 \nL 18.40625 0 \nL 9.421875 0 \nz\n\" id=\"DejaVuSans-108\"/>\n       <path d=\"M 32.171875 -5.078125 \nQ 28.375 -14.84375 24.75 -17.8125 \nQ 21.140625 -20.796875 15.09375 -20.796875 \nL 7.90625 -20.796875 \nL 7.90625 -13.28125 \nL 13.1875 -13.28125 \nQ 16.890625 -13.28125 18.9375 -11.515625 \nQ 21 -9.765625 23.484375 -3.21875 \nL 25.09375 0.875 \nL 2.984375 54.6875 \nL 12.5 54.6875 \nL 29.59375 11.921875 \nL 46.6875 54.6875 \nL 56.203125 54.6875 \nz\n\" id=\"DejaVuSans-121\"/>\n       <path id=\"DejaVuSans-32\"/>\n       <path d=\"M 34.28125 27.484375 \nQ 23.390625 27.484375 19.1875 25 \nQ 14.984375 22.515625 14.984375 16.5 \nQ 14.984375 11.71875 18.140625 8.90625 \nQ 21.296875 6.109375 26.703125 6.109375 \nQ 34.1875 6.109375 38.703125 11.40625 \nQ 43.21875 16.703125 43.21875 25.484375 \nL 43.21875 27.484375 \nz\nM 52.203125 31.203125 \nL 52.203125 0 \nL 43.21875 0 \nL 43.21875 8.296875 \nQ 40.140625 3.328125 35.546875 0.953125 \nQ 30.953125 -1.421875 24.3125 -1.421875 \nQ 15.921875 -1.421875 10.953125 3.296875 \nQ 6 8.015625 6 15.921875 \nQ 6 25.140625 12.171875 29.828125 \nQ 18.359375 34.515625 30.609375 34.515625 \nL 43.21875 34.515625 \nL 43.21875 35.40625 \nQ 43.21875 41.609375 39.140625 45 \nQ 35.0625 48.390625 27.6875 48.390625 \nQ 23 48.390625 18.546875 47.265625 \nQ 14.109375 46.140625 10.015625 43.890625 \nL 10.015625 52.203125 \nQ 14.9375 54.109375 19.578125 55.046875 \nQ 24.21875 56 28.609375 56 \nQ 40.484375 56 46.34375 49.84375 \nQ 52.203125 43.703125 52.203125 31.203125 \nz\n\" id=\"DejaVuSans-97\"/>\n      </defs>\n      <g transform=\"translate(184.384062 320.26125)rotate(-90)scale(0.1 -0.1)\">\n       <use xlink:href=\"#DejaVuSans-83\"/>\n       <use x=\"63.476562\" xlink:href=\"#DejaVuSans-116\"/>\n       <use x=\"102.685547\" xlink:href=\"#DejaVuSans-114\"/>\n       <use x=\"141.548828\" xlink:href=\"#DejaVuSans-111\"/>\n       <use x=\"202.730469\" xlink:href=\"#DejaVuSans-110\"/>\n       <use x=\"266.109375\" xlink:href=\"#DejaVuSans-103\"/>\n       <use x=\"329.585938\" xlink:href=\"#DejaVuSans-108\"/>\n       <use x=\"357.369141\" xlink:href=\"#DejaVuSans-121\"/>\n       <use x=\"416.548828\" xlink:href=\"#DejaVuSans-32\"/>\n       <use x=\"448.335938\" xlink:href=\"#DejaVuSans-97\"/>\n       <use x=\"509.615234\" xlink:href=\"#DejaVuSans-103\"/>\n       <use x=\"573.091797\" xlink:href=\"#DejaVuSans-114\"/>\n       <use x=\"611.955078\" xlink:href=\"#DejaVuSans-101\"/>\n       <use x=\"673.478516\" xlink:href=\"#DejaVuSans-101\"/>\n      </g>\n     </g>\n    </g>\n    <g id=\"xtick_3\">\n     <g id=\"line2d_3\">\n      <g>\n       <use style=\"stroke:#000000;stroke-width:0.8;\" x=\"248.584688\" xlink:href=\"#m81f792afa1\" y=\"239.758125\"/>\n      </g>\n     </g>\n     <g id=\"text_3\">\n      <!-- Somewhat agree -->\n      <defs>\n       <path d=\"M 52 44.1875 \nQ 55.375 50.25 60.0625 53.125 \nQ 64.75 56 71.09375 56 \nQ 79.640625 56 84.28125 50.015625 \nQ 88.921875 44.046875 88.921875 33.015625 \nL 88.921875 0 \nL 79.890625 0 \nL 79.890625 32.71875 \nQ 79.890625 40.578125 77.09375 44.375 \nQ 74.3125 48.1875 68.609375 48.1875 \nQ 61.625 48.1875 57.5625 43.546875 \nQ 53.515625 38.921875 53.515625 30.90625 \nL 53.515625 0 \nL 44.484375 0 \nL 44.484375 32.71875 \nQ 44.484375 40.625 41.703125 44.40625 \nQ 38.921875 48.1875 33.109375 48.1875 \nQ 26.21875 48.1875 22.15625 43.53125 \nQ 18.109375 38.875 18.109375 30.90625 \nL 18.109375 0 \nL 9.078125 0 \nL 9.078125 54.6875 \nL 18.109375 54.6875 \nL 18.109375 46.1875 \nQ 21.1875 51.21875 25.484375 53.609375 \nQ 29.78125 56 35.6875 56 \nQ 41.65625 56 45.828125 52.96875 \nQ 50 49.953125 52 44.1875 \nz\n\" id=\"DejaVuSans-109\"/>\n       <path d=\"M 4.203125 54.6875 \nL 13.1875 54.6875 \nL 24.421875 12.015625 \nL 35.59375 54.6875 \nL 46.1875 54.6875 \nL 57.421875 12.015625 \nL 68.609375 54.6875 \nL 77.59375 54.6875 \nL 63.28125 0 \nL 52.6875 0 \nL 40.921875 44.828125 \nL 29.109375 0 \nL 18.5 0 \nz\n\" id=\"DejaVuSans-119\"/>\n       <path d=\"M 54.890625 33.015625 \nL 54.890625 0 \nL 45.90625 0 \nL 45.90625 32.71875 \nQ 45.90625 40.484375 42.875 44.328125 \nQ 39.84375 48.1875 33.796875 48.1875 \nQ 26.515625 48.1875 22.3125 43.546875 \nQ 18.109375 38.921875 18.109375 30.90625 \nL 18.109375 0 \nL 9.078125 0 \nL 9.078125 75.984375 \nL 18.109375 75.984375 \nL 18.109375 46.1875 \nQ 21.34375 51.125 25.703125 53.5625 \nQ 30.078125 56 35.796875 56 \nQ 45.21875 56 50.046875 50.171875 \nQ 54.890625 44.34375 54.890625 33.015625 \nz\n\" id=\"DejaVuSans-104\"/>\n      </defs>\n      <g transform=\"translate(251.344063 331.53)rotate(-90)scale(0.1 -0.1)\">\n       <use xlink:href=\"#DejaVuSans-83\"/>\n       <use x=\"63.476562\" xlink:href=\"#DejaVuSans-111\"/>\n       <use x=\"124.658203\" xlink:href=\"#DejaVuSans-109\"/>\n       <use x=\"222.070312\" xlink:href=\"#DejaVuSans-101\"/>\n       <use x=\"283.59375\" xlink:href=\"#DejaVuSans-119\"/>\n       <use x=\"365.380859\" xlink:href=\"#DejaVuSans-104\"/>\n       <use x=\"428.759766\" xlink:href=\"#DejaVuSans-97\"/>\n       <use x=\"490.039062\" xlink:href=\"#DejaVuSans-116\"/>\n       <use x=\"529.248047\" xlink:href=\"#DejaVuSans-32\"/>\n       <use x=\"561.035156\" xlink:href=\"#DejaVuSans-97\"/>\n       <use x=\"622.314453\" xlink:href=\"#DejaVuSans-103\"/>\n       <use x=\"685.791016\" xlink:href=\"#DejaVuSans-114\"/>\n       <use x=\"724.654297\" xlink:href=\"#DejaVuSans-101\"/>\n       <use x=\"786.177734\" xlink:href=\"#DejaVuSans-101\"/>\n      </g>\n     </g>\n    </g>\n    <g id=\"xtick_4\">\n     <g id=\"line2d_4\">\n      <g>\n       <use style=\"stroke:#000000;stroke-width:0.8;\" x=\"315.544688\" xlink:href=\"#m81f792afa1\" y=\"239.758125\"/>\n      </g>\n     </g>\n     <g id=\"text_4\">\n      <!-- Disagree -->\n      <defs>\n       <path d=\"M 19.671875 64.796875 \nL 19.671875 8.109375 \nL 31.59375 8.109375 \nQ 46.6875 8.109375 53.6875 14.9375 \nQ 60.6875 21.78125 60.6875 36.53125 \nQ 60.6875 51.171875 53.6875 57.984375 \nQ 46.6875 64.796875 31.59375 64.796875 \nz\nM 9.8125 72.90625 \nL 30.078125 72.90625 \nQ 51.265625 72.90625 61.171875 64.09375 \nQ 71.09375 55.28125 71.09375 36.53125 \nQ 71.09375 17.671875 61.125 8.828125 \nQ 51.171875 0 30.078125 0 \nL 9.8125 0 \nz\n\" id=\"DejaVuSans-68\"/>\n       <path d=\"M 9.421875 54.6875 \nL 18.40625 54.6875 \nL 18.40625 0 \nL 9.421875 0 \nz\nM 9.421875 75.984375 \nL 18.40625 75.984375 \nL 18.40625 64.59375 \nL 9.421875 64.59375 \nz\n\" id=\"DejaVuSans-105\"/>\n       <path d=\"M 44.28125 53.078125 \nL 44.28125 44.578125 \nQ 40.484375 46.53125 36.375 47.5 \nQ 32.28125 48.484375 27.875 48.484375 \nQ 21.1875 48.484375 17.84375 46.4375 \nQ 14.5 44.390625 14.5 40.28125 \nQ 14.5 37.15625 16.890625 35.375 \nQ 19.28125 33.59375 26.515625 31.984375 \nL 29.59375 31.296875 \nQ 39.15625 29.25 43.1875 25.515625 \nQ 47.21875 21.78125 47.21875 15.09375 \nQ 47.21875 7.46875 41.1875 3.015625 \nQ 35.15625 -1.421875 24.609375 -1.421875 \nQ 20.21875 -1.421875 15.453125 -0.5625 \nQ 10.6875 0.296875 5.421875 2 \nL 5.421875 11.28125 \nQ 10.40625 8.6875 15.234375 7.390625 \nQ 20.0625 6.109375 24.8125 6.109375 \nQ 31.15625 6.109375 34.5625 8.28125 \nQ 37.984375 10.453125 37.984375 14.40625 \nQ 37.984375 18.0625 35.515625 20.015625 \nQ 33.0625 21.96875 24.703125 23.78125 \nL 21.578125 24.515625 \nQ 13.234375 26.265625 9.515625 29.90625 \nQ 5.8125 33.546875 5.8125 39.890625 \nQ 5.8125 47.609375 11.28125 51.796875 \nQ 16.75 56 26.8125 56 \nQ 31.78125 56 36.171875 55.265625 \nQ 40.578125 54.546875 44.28125 53.078125 \nz\n\" id=\"DejaVuSans-115\"/>\n      </defs>\n      <g transform=\"translate(318.304062 291.114375)rotate(-90)scale(0.1 -0.1)\">\n       <use xlink:href=\"#DejaVuSans-68\"/>\n       <use x=\"77.001953\" xlink:href=\"#DejaVuSans-105\"/>\n       <use x=\"104.785156\" xlink:href=\"#DejaVuSans-115\"/>\n       <use x=\"156.884766\" xlink:href=\"#DejaVuSans-97\"/>\n       <use x=\"218.164062\" xlink:href=\"#DejaVuSans-103\"/>\n       <use x=\"281.640625\" xlink:href=\"#DejaVuSans-114\"/>\n       <use x=\"320.503906\" xlink:href=\"#DejaVuSans-101\"/>\n       <use x=\"382.027344\" xlink:href=\"#DejaVuSans-101\"/>\n      </g>\n     </g>\n    </g>\n    <g id=\"xtick_5\">\n     <g id=\"line2d_5\">\n      <g>\n       <use style=\"stroke:#000000;stroke-width:0.8;\" x=\"382.504688\" xlink:href=\"#m81f792afa1\" y=\"239.758125\"/>\n      </g>\n     </g>\n     <g id=\"text_5\">\n      <!-- Strongly disagree -->\n      <defs>\n       <path d=\"M 45.40625 46.390625 \nL 45.40625 75.984375 \nL 54.390625 75.984375 \nL 54.390625 0 \nL 45.40625 0 \nL 45.40625 8.203125 \nQ 42.578125 3.328125 38.25 0.953125 \nQ 33.9375 -1.421875 27.875 -1.421875 \nQ 17.96875 -1.421875 11.734375 6.484375 \nQ 5.515625 14.40625 5.515625 27.296875 \nQ 5.515625 40.1875 11.734375 48.09375 \nQ 17.96875 56 27.875 56 \nQ 33.9375 56 38.25 53.625 \nQ 42.578125 51.265625 45.40625 46.390625 \nz\nM 14.796875 27.296875 \nQ 14.796875 17.390625 18.875 11.75 \nQ 22.953125 6.109375 30.078125 6.109375 \nQ 37.203125 6.109375 41.296875 11.75 \nQ 45.40625 17.390625 45.40625 27.296875 \nQ 45.40625 37.203125 41.296875 42.84375 \nQ 37.203125 48.484375 30.078125 48.484375 \nQ 22.953125 48.484375 18.875 42.84375 \nQ 14.796875 37.203125 14.796875 27.296875 \nz\n\" id=\"DejaVuSans-100\"/>\n      </defs>\n      <g transform=\"translate(385.264063 334.597188)rotate(-90)scale(0.1 -0.1)\">\n       <use xlink:href=\"#DejaVuSans-83\"/>\n       <use x=\"63.476562\" xlink:href=\"#DejaVuSans-116\"/>\n       <use x=\"102.685547\" xlink:href=\"#DejaVuSans-114\"/>\n       <use x=\"141.548828\" xlink:href=\"#DejaVuSans-111\"/>\n       <use x=\"202.730469\" xlink:href=\"#DejaVuSans-110\"/>\n       <use x=\"266.109375\" xlink:href=\"#DejaVuSans-103\"/>\n       <use x=\"329.585938\" xlink:href=\"#DejaVuSans-108\"/>\n       <use x=\"357.369141\" xlink:href=\"#DejaVuSans-121\"/>\n       <use x=\"416.548828\" xlink:href=\"#DejaVuSans-32\"/>\n       <use x=\"448.335938\" xlink:href=\"#DejaVuSans-100\"/>\n       <use x=\"511.8125\" xlink:href=\"#DejaVuSans-105\"/>\n       <use x=\"539.595703\" xlink:href=\"#DejaVuSans-115\"/>\n       <use x=\"591.695312\" xlink:href=\"#DejaVuSans-97\"/>\n       <use x=\"652.974609\" xlink:href=\"#DejaVuSans-103\"/>\n       <use x=\"716.451172\" xlink:href=\"#DejaVuSans-114\"/>\n       <use x=\"755.314453\" xlink:href=\"#DejaVuSans-101\"/>\n       <use x=\"816.837891\" xlink:href=\"#DejaVuSans-101\"/>\n      </g>\n     </g>\n    </g>\n   </g>\n   <g id=\"matplotlib.axis_2\">\n    <g id=\"ytick_1\">\n     <g id=\"line2d_6\">\n      <defs>\n       <path d=\"M 0 0 \nL -3.5 0 \n\" id=\"m3fcfb78eac\" style=\"stroke:#000000;stroke-width:0.8;\"/>\n      </defs>\n      <g>\n       <use style=\"stroke:#000000;stroke-width:0.8;\" x=\"81.184687\" xlink:href=\"#m3fcfb78eac\" y=\"239.758125\"/>\n      </g>\n     </g>\n     <g id=\"text_6\">\n      <!-- 0.00 -->\n      <defs>\n       <path d=\"M 31.78125 66.40625 \nQ 24.171875 66.40625 20.328125 58.90625 \nQ 16.5 51.421875 16.5 36.375 \nQ 16.5 21.390625 20.328125 13.890625 \nQ 24.171875 6.390625 31.78125 6.390625 \nQ 39.453125 6.390625 43.28125 13.890625 \nQ 47.125 21.390625 47.125 36.375 \nQ 47.125 51.421875 43.28125 58.90625 \nQ 39.453125 66.40625 31.78125 66.40625 \nz\nM 31.78125 74.21875 \nQ 44.046875 74.21875 50.515625 64.515625 \nQ 56.984375 54.828125 56.984375 36.375 \nQ 56.984375 17.96875 50.515625 8.265625 \nQ 44.046875 -1.421875 31.78125 -1.421875 \nQ 19.53125 -1.421875 13.0625 8.265625 \nQ 6.59375 17.96875 6.59375 36.375 \nQ 6.59375 54.828125 13.0625 64.515625 \nQ 19.53125 74.21875 31.78125 74.21875 \nz\n\" id=\"DejaVuSans-48\"/>\n       <path d=\"M 10.6875 12.40625 \nL 21 12.40625 \nL 21 0 \nL 10.6875 0 \nz\n\" id=\"DejaVuSans-46\"/>\n      </defs>\n      <g transform=\"translate(51.919062 243.557344)scale(0.1 -0.1)\">\n       <use xlink:href=\"#DejaVuSans-48\"/>\n       <use x=\"63.623047\" xlink:href=\"#DejaVuSans-46\"/>\n       <use x=\"95.410156\" xlink:href=\"#DejaVuSans-48\"/>\n       <use x=\"159.033203\" xlink:href=\"#DejaVuSans-48\"/>\n      </g>\n     </g>\n    </g>\n    <g id=\"ytick_2\">\n     <g id=\"line2d_7\">\n      <g>\n       <use style=\"stroke:#000000;stroke-width:0.8;\" x=\"81.184687\" xlink:href=\"#m3fcfb78eac\" y=\"195.454782\"/>\n      </g>\n     </g>\n     <g id=\"text_7\">\n      <!-- 0.05 -->\n      <defs>\n       <path d=\"M 10.796875 72.90625 \nL 49.515625 72.90625 \nL 49.515625 64.59375 \nL 19.828125 64.59375 \nL 19.828125 46.734375 \nQ 21.96875 47.46875 24.109375 47.828125 \nQ 26.265625 48.1875 28.421875 48.1875 \nQ 40.625 48.1875 47.75 41.5 \nQ 54.890625 34.8125 54.890625 23.390625 \nQ 54.890625 11.625 47.5625 5.09375 \nQ 40.234375 -1.421875 26.90625 -1.421875 \nQ 22.3125 -1.421875 17.546875 -0.640625 \nQ 12.796875 0.140625 7.71875 1.703125 \nL 7.71875 11.625 \nQ 12.109375 9.234375 16.796875 8.0625 \nQ 21.484375 6.890625 26.703125 6.890625 \nQ 35.15625 6.890625 40.078125 11.328125 \nQ 45.015625 15.765625 45.015625 23.390625 \nQ 45.015625 31 40.078125 35.4375 \nQ 35.15625 39.890625 26.703125 39.890625 \nQ 22.75 39.890625 18.8125 39.015625 \nQ 14.890625 38.140625 10.796875 36.28125 \nz\n\" id=\"DejaVuSans-53\"/>\n      </defs>\n      <g transform=\"translate(51.919062 199.254001)scale(0.1 -0.1)\">\n       <use xlink:href=\"#DejaVuSans-48\"/>\n       <use x=\"63.623047\" xlink:href=\"#DejaVuSans-46\"/>\n       <use x=\"95.410156\" xlink:href=\"#DejaVuSans-48\"/>\n       <use x=\"159.033203\" xlink:href=\"#DejaVuSans-53\"/>\n      </g>\n     </g>\n    </g>\n    <g id=\"ytick_3\">\n     <g id=\"line2d_8\">\n      <g>\n       <use style=\"stroke:#000000;stroke-width:0.8;\" x=\"81.184687\" xlink:href=\"#m3fcfb78eac\" y=\"151.151439\"/>\n      </g>\n     </g>\n     <g id=\"text_8\">\n      <!-- 0.10 -->\n      <defs>\n       <path d=\"M 12.40625 8.296875 \nL 28.515625 8.296875 \nL 28.515625 63.921875 \nL 10.984375 60.40625 \nL 10.984375 69.390625 \nL 28.421875 72.90625 \nL 38.28125 72.90625 \nL 38.28125 8.296875 \nL 54.390625 8.296875 \nL 54.390625 0 \nL 12.40625 0 \nz\n\" id=\"DejaVuSans-49\"/>\n      </defs>\n      <g transform=\"translate(51.919062 154.950658)scale(0.1 -0.1)\">\n       <use xlink:href=\"#DejaVuSans-48\"/>\n       <use x=\"63.623047\" xlink:href=\"#DejaVuSans-46\"/>\n       <use x=\"95.410156\" xlink:href=\"#DejaVuSans-49\"/>\n       <use x=\"159.033203\" xlink:href=\"#DejaVuSans-48\"/>\n      </g>\n     </g>\n    </g>\n    <g id=\"ytick_4\">\n     <g id=\"line2d_9\">\n      <g>\n       <use style=\"stroke:#000000;stroke-width:0.8;\" x=\"81.184687\" xlink:href=\"#m3fcfb78eac\" y=\"106.848096\"/>\n      </g>\n     </g>\n     <g id=\"text_9\">\n      <!-- 0.15 -->\n      <g transform=\"translate(51.919062 110.647315)scale(0.1 -0.1)\">\n       <use xlink:href=\"#DejaVuSans-48\"/>\n       <use x=\"63.623047\" xlink:href=\"#DejaVuSans-46\"/>\n       <use x=\"95.410156\" xlink:href=\"#DejaVuSans-49\"/>\n       <use x=\"159.033203\" xlink:href=\"#DejaVuSans-53\"/>\n      </g>\n     </g>\n    </g>\n    <g id=\"ytick_5\">\n     <g id=\"line2d_10\">\n      <g>\n       <use style=\"stroke:#000000;stroke-width:0.8;\" x=\"81.184687\" xlink:href=\"#m3fcfb78eac\" y=\"62.544753\"/>\n      </g>\n     </g>\n     <g id=\"text_10\">\n      <!-- 0.20 -->\n      <defs>\n       <path d=\"M 19.1875 8.296875 \nL 53.609375 8.296875 \nL 53.609375 0 \nL 7.328125 0 \nL 7.328125 8.296875 \nQ 12.9375 14.109375 22.625 23.890625 \nQ 32.328125 33.6875 34.8125 36.53125 \nQ 39.546875 41.84375 41.421875 45.53125 \nQ 43.3125 49.21875 43.3125 52.78125 \nQ 43.3125 58.59375 39.234375 62.25 \nQ 35.15625 65.921875 28.609375 65.921875 \nQ 23.96875 65.921875 18.8125 64.3125 \nQ 13.671875 62.703125 7.8125 59.421875 \nL 7.8125 69.390625 \nQ 13.765625 71.78125 18.9375 73 \nQ 24.125 74.21875 28.421875 74.21875 \nQ 39.75 74.21875 46.484375 68.546875 \nQ 53.21875 62.890625 53.21875 53.421875 \nQ 53.21875 48.921875 51.53125 44.890625 \nQ 49.859375 40.875 45.40625 35.40625 \nQ 44.1875 33.984375 37.640625 27.21875 \nQ 31.109375 20.453125 19.1875 8.296875 \nz\n\" id=\"DejaVuSans-50\"/>\n      </defs>\n      <g transform=\"translate(51.919062 66.343972)scale(0.1 -0.1)\">\n       <use xlink:href=\"#DejaVuSans-48\"/>\n       <use x=\"63.623047\" xlink:href=\"#DejaVuSans-46\"/>\n       <use x=\"95.410156\" xlink:href=\"#DejaVuSans-50\"/>\n       <use x=\"159.033203\" xlink:href=\"#DejaVuSans-48\"/>\n      </g>\n     </g>\n    </g>\n   </g>\n   <g id=\"patch_8\">\n    <path d=\"M 81.184687 239.758125 \nL 81.184687 22.318125 \n\" style=\"fill:none;stroke:#000000;stroke-linecap:square;stroke-linejoin:miter;stroke-width:0.8;\"/>\n   </g>\n   <g id=\"patch_9\">\n    <path d=\"M 415.984688 239.758125 \nL 415.984688 22.318125 \n\" style=\"fill:none;stroke:#000000;stroke-linecap:square;stroke-linejoin:miter;stroke-width:0.8;\"/>\n   </g>\n   <g id=\"patch_10\">\n    <path d=\"M 81.184687 239.758125 \nL 415.984688 239.758125 \n\" style=\"fill:none;stroke:#000000;stroke-linecap:square;stroke-linejoin:miter;stroke-width:0.8;\"/>\n   </g>\n   <g id=\"patch_11\">\n    <path d=\"M 81.184687 22.318125 \nL 415.984688 22.318125 \n\" style=\"fill:none;stroke:#000000;stroke-linecap:square;stroke-linejoin:miter;stroke-width:0.8;\"/>\n   </g>\n   <g id=\"text_11\">\n    <!-- Agree/Disagree with the statement that 'Diversity in the workplace is important' -->\n    <defs>\n     <path d=\"M 25.390625 72.90625 \nL 33.6875 72.90625 \nL 8.296875 -9.28125 \nL 0 -9.28125 \nz\n\" id=\"DejaVuSans-47\"/>\n     <path d=\"M 17.921875 72.90625 \nL 17.921875 45.796875 \nL 9.625 45.796875 \nL 9.625 72.90625 \nz\n\" id=\"DejaVuSans-39\"/>\n     <path d=\"M 2.984375 54.6875 \nL 12.5 54.6875 \nL 29.59375 8.796875 \nL 46.6875 54.6875 \nL 56.203125 54.6875 \nL 35.6875 0 \nL 23.484375 0 \nz\n\" id=\"DejaVuSans-118\"/>\n     <path d=\"M 9.078125 75.984375 \nL 18.109375 75.984375 \nL 18.109375 31.109375 \nL 44.921875 54.6875 \nL 56.390625 54.6875 \nL 27.390625 29.109375 \nL 57.625 0 \nL 45.90625 0 \nL 18.109375 26.703125 \nL 18.109375 0 \nL 9.078125 0 \nz\n\" id=\"DejaVuSans-107\"/>\n     <path d=\"M 18.109375 8.203125 \nL 18.109375 -20.796875 \nL 9.078125 -20.796875 \nL 9.078125 54.6875 \nL 18.109375 54.6875 \nL 18.109375 46.390625 \nQ 20.953125 51.265625 25.265625 53.625 \nQ 29.59375 56 35.59375 56 \nQ 45.5625 56 51.78125 48.09375 \nQ 58.015625 40.1875 58.015625 27.296875 \nQ 58.015625 14.40625 51.78125 6.484375 \nQ 45.5625 -1.421875 35.59375 -1.421875 \nQ 29.59375 -1.421875 25.265625 0.953125 \nQ 20.953125 3.328125 18.109375 8.203125 \nz\nM 48.6875 27.296875 \nQ 48.6875 37.203125 44.609375 42.84375 \nQ 40.53125 48.484375 33.40625 48.484375 \nQ 26.265625 48.484375 22.1875 42.84375 \nQ 18.109375 37.203125 18.109375 27.296875 \nQ 18.109375 17.390625 22.1875 11.75 \nQ 26.265625 6.109375 33.40625 6.109375 \nQ 40.53125 6.109375 44.609375 11.75 \nQ 48.6875 17.390625 48.6875 27.296875 \nz\n\" id=\"DejaVuSans-112\"/>\n     <path d=\"M 48.78125 52.59375 \nL 48.78125 44.1875 \nQ 44.96875 46.296875 41.140625 47.34375 \nQ 37.3125 48.390625 33.40625 48.390625 \nQ 24.65625 48.390625 19.8125 42.84375 \nQ 14.984375 37.3125 14.984375 27.296875 \nQ 14.984375 17.28125 19.8125 11.734375 \nQ 24.65625 6.203125 33.40625 6.203125 \nQ 37.3125 6.203125 41.140625 7.25 \nQ 44.96875 8.296875 48.78125 10.40625 \nL 48.78125 2.09375 \nQ 45.015625 0.34375 40.984375 -0.53125 \nQ 36.96875 -1.421875 32.421875 -1.421875 \nQ 20.0625 -1.421875 12.78125 6.34375 \nQ 5.515625 14.109375 5.515625 27.296875 \nQ 5.515625 40.671875 12.859375 48.328125 \nQ 20.21875 56 33.015625 56 \nQ 37.15625 56 41.109375 55.140625 \nQ 45.0625 54.296875 48.78125 52.59375 \nz\n\" id=\"DejaVuSans-99\"/>\n    </defs>\n    <g transform=\"translate(7.2 16.318125)scale(0.12 -0.12)\">\n     <use xlink:href=\"#DejaVuSans-65\"/>\n     <use x=\"68.408203\" xlink:href=\"#DejaVuSans-103\"/>\n     <use x=\"131.884766\" xlink:href=\"#DejaVuSans-114\"/>\n     <use x=\"170.748047\" xlink:href=\"#DejaVuSans-101\"/>\n     <use x=\"232.271484\" xlink:href=\"#DejaVuSans-101\"/>\n     <use x=\"293.794922\" xlink:href=\"#DejaVuSans-47\"/>\n     <use x=\"327.486328\" xlink:href=\"#DejaVuSans-68\"/>\n     <use x=\"404.488281\" xlink:href=\"#DejaVuSans-105\"/>\n     <use x=\"432.271484\" xlink:href=\"#DejaVuSans-115\"/>\n     <use x=\"484.371094\" xlink:href=\"#DejaVuSans-97\"/>\n     <use x=\"545.650391\" xlink:href=\"#DejaVuSans-103\"/>\n     <use x=\"609.126953\" xlink:href=\"#DejaVuSans-114\"/>\n     <use x=\"647.990234\" xlink:href=\"#DejaVuSans-101\"/>\n     <use x=\"709.513672\" xlink:href=\"#DejaVuSans-101\"/>\n     <use x=\"771.037109\" xlink:href=\"#DejaVuSans-32\"/>\n     <use x=\"802.824219\" xlink:href=\"#DejaVuSans-119\"/>\n     <use x=\"884.611328\" xlink:href=\"#DejaVuSans-105\"/>\n     <use x=\"912.394531\" xlink:href=\"#DejaVuSans-116\"/>\n     <use x=\"951.603516\" xlink:href=\"#DejaVuSans-104\"/>\n     <use x=\"1014.982422\" xlink:href=\"#DejaVuSans-32\"/>\n     <use x=\"1046.769531\" xlink:href=\"#DejaVuSans-116\"/>\n     <use x=\"1085.978516\" xlink:href=\"#DejaVuSans-104\"/>\n     <use x=\"1149.357422\" xlink:href=\"#DejaVuSans-101\"/>\n     <use x=\"1210.880859\" xlink:href=\"#DejaVuSans-32\"/>\n     <use x=\"1242.667969\" xlink:href=\"#DejaVuSans-115\"/>\n     <use x=\"1294.767578\" xlink:href=\"#DejaVuSans-116\"/>\n     <use x=\"1333.976562\" xlink:href=\"#DejaVuSans-97\"/>\n     <use x=\"1395.255859\" xlink:href=\"#DejaVuSans-116\"/>\n     <use x=\"1434.464844\" xlink:href=\"#DejaVuSans-101\"/>\n     <use x=\"1495.988281\" xlink:href=\"#DejaVuSans-109\"/>\n     <use x=\"1593.400391\" xlink:href=\"#DejaVuSans-101\"/>\n     <use x=\"1654.923828\" xlink:href=\"#DejaVuSans-110\"/>\n     <use x=\"1718.302734\" xlink:href=\"#DejaVuSans-116\"/>\n     <use x=\"1757.511719\" xlink:href=\"#DejaVuSans-32\"/>\n     <use x=\"1789.298828\" xlink:href=\"#DejaVuSans-116\"/>\n     <use x=\"1828.507812\" xlink:href=\"#DejaVuSans-104\"/>\n     <use x=\"1891.886719\" xlink:href=\"#DejaVuSans-97\"/>\n     <use x=\"1953.166016\" xlink:href=\"#DejaVuSans-116\"/>\n     <use x=\"1992.375\" xlink:href=\"#DejaVuSans-32\"/>\n     <use x=\"2024.162109\" xlink:href=\"#DejaVuSans-39\"/>\n     <use x=\"2051.652344\" xlink:href=\"#DejaVuSans-68\"/>\n     <use x=\"2128.654297\" xlink:href=\"#DejaVuSans-105\"/>\n     <use x=\"2156.4375\" xlink:href=\"#DejaVuSans-118\"/>\n     <use x=\"2215.617188\" xlink:href=\"#DejaVuSans-101\"/>\n     <use x=\"2277.140625\" xlink:href=\"#DejaVuSans-114\"/>\n     <use x=\"2318.253906\" xlink:href=\"#DejaVuSans-115\"/>\n     <use x=\"2370.353516\" xlink:href=\"#DejaVuSans-105\"/>\n     <use x=\"2398.136719\" xlink:href=\"#DejaVuSans-116\"/>\n     <use x=\"2437.345703\" xlink:href=\"#DejaVuSans-121\"/>\n     <use x=\"2496.525391\" xlink:href=\"#DejaVuSans-32\"/>\n     <use x=\"2528.3125\" xlink:href=\"#DejaVuSans-105\"/>\n     <use x=\"2556.095703\" xlink:href=\"#DejaVuSans-110\"/>\n     <use x=\"2619.474609\" xlink:href=\"#DejaVuSans-32\"/>\n     <use x=\"2651.261719\" xlink:href=\"#DejaVuSans-116\"/>\n     <use x=\"2690.470703\" xlink:href=\"#DejaVuSans-104\"/>\n     <use x=\"2753.849609\" xlink:href=\"#DejaVuSans-101\"/>\n     <use x=\"2815.373047\" xlink:href=\"#DejaVuSans-32\"/>\n     <use x=\"2847.160156\" xlink:href=\"#DejaVuSans-119\"/>\n     <use x=\"2928.947266\" xlink:href=\"#DejaVuSans-111\"/>\n     <use x=\"2990.128906\" xlink:href=\"#DejaVuSans-114\"/>\n     <use x=\"3031.242188\" xlink:href=\"#DejaVuSans-107\"/>\n     <use x=\"3089.152344\" xlink:href=\"#DejaVuSans-112\"/>\n     <use x=\"3152.628906\" xlink:href=\"#DejaVuSans-108\"/>\n     <use x=\"3180.412109\" xlink:href=\"#DejaVuSans-97\"/>\n     <use x=\"3241.691406\" xlink:href=\"#DejaVuSans-99\"/>\n     <use x=\"3296.671875\" xlink:href=\"#DejaVuSans-101\"/>\n     <use x=\"3358.195312\" xlink:href=\"#DejaVuSans-32\"/>\n     <use x=\"3389.982422\" xlink:href=\"#DejaVuSans-105\"/>\n     <use x=\"3417.765625\" xlink:href=\"#DejaVuSans-115\"/>\n     <use x=\"3469.865234\" xlink:href=\"#DejaVuSans-32\"/>\n     <use x=\"3501.652344\" xlink:href=\"#DejaVuSans-105\"/>\n     <use x=\"3529.435547\" xlink:href=\"#DejaVuSans-109\"/>\n     <use x=\"3626.847656\" xlink:href=\"#DejaVuSans-112\"/>\n     <use x=\"3690.324219\" xlink:href=\"#DejaVuSans-111\"/>\n     <use x=\"3751.505859\" xlink:href=\"#DejaVuSans-114\"/>\n     <use x=\"3792.619141\" xlink:href=\"#DejaVuSans-116\"/>\n     <use x=\"3831.828125\" xlink:href=\"#DejaVuSans-97\"/>\n     <use x=\"3893.107422\" xlink:href=\"#DejaVuSans-110\"/>\n     <use x=\"3956.486328\" xlink:href=\"#DejaVuSans-116\"/>\n     <use x=\"3995.695312\" xlink:href=\"#DejaVuSans-39\"/>\n    </g>\n   </g>\n  </g>\n </g>\n <defs>\n  <clipPath id=\"p6ec8da4e21\">\n   <rect height=\"217.44\" width=\"334.8\" x=\"81.184687\" y=\"22.318125\"/>\n  </clipPath>\n </defs>\n</svg>\n",
      "image/png": "[encoded data removed]"
     },
     "metadata": {
      "needs_background": "light"
     }
    }
   ],
   "source": [
    "diversity_importance_value_counts = df_2017['DiversityImportant'].value_counts()\n",
    "(diversity_importance_value_counts/df_2017.shape[0]).plot(kind=\"bar\")\n",
    "plt.title(\"Agree/Disagree with the statement that 'Diversity in the workplace is important'\")"
   ]
  },
  {
   "cell_type": "code",
   "execution_count": 77,
   "metadata": {},
   "outputs": [
    {
     "output_type": "execute_result",
     "data": {
      "text/plain": "1.0     5901\n0.0     5129\n2.0     2933\n3.0     1233\n4.0     1096\n5.0      958\n10.0     559\n40.0     476\n6.0      427\n8.0      325\n7.0      266\n20.0     259\n15.0     134\n12.0     126\n9.0       93\n14.0      77\n11.0      58\n30.0      55\n35.0      46\n19.0      45\n16.0      41\n13.0      37\n21.0      34\n25.0      34\n24.0      33\n18.0      30\n17.0      25\n22.0      22\n39.0      18\n37.0      16\n38.0      16\n36.0      15\n26.0      14\n27.0      12\n23.0      11\n32.0      11\n28.0      10\n34.0       9\n29.0       7\n31.0       5\n33.0       4\nName: HoursPerWeek, dtype: int64"
     },
     "metadata": {},
     "execution_count": 77
    }
   ],
   "source": [
    "df_2017[\"HoursPerWeek\"].value_counts()"
   ]
  },
  {
   "cell_type": "code",
   "execution_count": null,
   "metadata": {},
   "outputs": [],
   "source": []
  },
  {
   "cell_type": "code",
   "execution_count": 9,
   "metadata": {},
   "outputs": [],
   "source": [
    "remote_worker_strict_list = [\"All or almost all the time (I'm full-time remote)\"]\n",
    "remote_worker_lax_list = [\"All or almost all the time (I'm full-time remote)\", \"Less than half the time, but at least one day each week\", \"More than half, but not all, the time\", \"About half the time\"]\n",
    "diversity_imprtnt_strict = [\"Strongly agree\", \"Agree\"]\n",
    "diversity_imprtnt_lax = [\"Strongly agree\", \"Agree\", \"Somewhat agree\"]\n"
   ]
  },
  {
   "cell_type": "code",
   "execution_count": 75,
   "metadata": {},
   "outputs": [],
   "source": [
    "# Collapse and dummy HomeRemote and DiversityImportant columns\n",
    "df_2017['RemoteWorker_Strict']=df_2017['HomeRemote'].apply(collapse_cat_and_dummy, args=(remote_worker_strict_list,))\n",
    "df_2017['RemoteWorker_Lax']=df_2017['HomeRemote'].apply(collapse_cat_and_dummy, args=(remote_worker_lax_list,))"
   ]
  },
  {
   "cell_type": "code",
   "execution_count": 11,
   "metadata": {},
   "outputs": [],
   "source": [
    "#Check that function works\n",
    "assert df_2017['RemoteWorker_Strict'].sum() == home_remote_value_counts.filter(items=remote_worker_strict_list).sum()\n",
    "assert df_2017['RemoteWorker_Lax'].sum() == home_remote_value_counts.filter(items=remote_worker_lax_list).sum()"
   ]
  },
  {
   "cell_type": "code",
   "execution_count": 54,
   "metadata": {},
   "outputs": [],
   "source": [
    "remote_strict_1 = df_2017[df_2017['RemoteWorker_Strict'] == 1] # Subset df to only those with RemoteWorker_Strict of 1\n",
    "remote_strict_0 = df_2017[df_2017['RemoteWorker_Strict'] == 0] # Subset df to only those with RemoteWorker_Strict of 0\n"
   ]
  },
  {
   "cell_type": "code",
   "execution_count": 65,
   "metadata": {},
   "outputs": [],
   "source": [
    "job_sat_remote_strict_1 = remote_strict_1['JobSatisfaction'].value_counts()/remote_strict_1.shape[0]\n",
    "job_sat_remote_strict_0 = remote_strict_0['JobSatisfaction'].value_counts()/remote_strict_0.shape[0]\n",
    "career_sat_remote_strict_1 = remote_strict_1['CareerSatisfaction'].value_counts()/remote_strict_1.shape[0]\n",
    "career_sat_remote_strict_0 = remote_strict_0['CareerSatisfaction'].value_counts()/remote_strict_0.shape[0]"
   ]
  },
  {
   "cell_type": "code",
   "execution_count": 64,
   "metadata": {},
   "outputs": [
    {
     "output_type": "execute_result",
     "data": {
      "text/plain": "<pandas.io.formats.style.Styler at 0x1392e7f10>",
      "text/html": "<style  type=\"text/css\" >\n    #T_27a768a6_9c3a_11ea_910b_acde48001122row0_col2 {\n            width:  10em;\n             height:  80%;\n            background:  linear-gradient(90deg, transparent 0%, transparent 9.1%, #5fba7d 9.1%, #5fba7d 10.6%, transparent 10.6%);\n        }    #T_27a768a6_9c3a_11ea_910b_acde48001122row1_col2 {\n            width:  10em;\n             height:  80%;\n            background:  linear-gradient(90deg, transparent 0%, transparent 8.7%, #d65f5f 8.7%, #d65f5f 9.1%, transparent 9.1%);\n        }    #T_27a768a6_9c3a_11ea_910b_acde48001122row2_col2 {\n            width:  10em;\n             height:  80%;\n            background:  linear-gradient(90deg, transparent 0%, transparent 3.9%, #d65f5f 3.9%, #d65f5f 9.1%, transparent 9.1%);\n        }    #T_27a768a6_9c3a_11ea_910b_acde48001122row3_col2 {\n            width:  10em;\n             height:  80%;\n            background:  linear-gradient(90deg, transparent 0%, transparent 5.0%, #d65f5f 5.0%, #d65f5f 9.1%, transparent 9.1%);\n        }    #T_27a768a6_9c3a_11ea_910b_acde48001122row4_col2 {\n            width:  10em;\n             height:  80%;\n            background:  linear-gradient(90deg, transparent 0%, transparent 0.0%, #d65f5f 0.0%, #d65f5f 9.1%, transparent 9.1%);\n        }    #T_27a768a6_9c3a_11ea_910b_acde48001122row5_col2 {\n            width:  10em;\n             height:  80%;\n            background:  linear-gradient(90deg, transparent 0%, transparent 6.5%, #d65f5f 6.5%, #d65f5f 9.1%, transparent 9.1%);\n        }    #T_27a768a6_9c3a_11ea_910b_acde48001122row6_col2 {\n            width:  10em;\n             height:  80%;\n            background:  linear-gradient(90deg, transparent 0%, transparent 3.3%, #d65f5f 3.3%, #d65f5f 9.1%, transparent 9.1%);\n        }    #T_27a768a6_9c3a_11ea_910b_acde48001122row7_col2 {\n            width:  10em;\n             height:  80%;\n            background:  linear-gradient(90deg, transparent 0%, transparent 7.3%, #d65f5f 7.3%, #d65f5f 9.1%, transparent 9.1%);\n        }    #T_27a768a6_9c3a_11ea_910b_acde48001122row8_col2 {\n            width:  10em;\n             height:  80%;\n            background:  linear-gradient(90deg, transparent 0%, transparent 9.1%, #5fba7d 9.1%, #5fba7d 23.1%, transparent 23.1%);\n        }    #T_27a768a6_9c3a_11ea_910b_acde48001122row9_col2 {\n            width:  10em;\n             height:  80%;\n            background:  linear-gradient(90deg, transparent 0%, transparent 9.1%, #5fba7d 9.1%, #5fba7d 51.3%, transparent 51.3%);\n        }    #T_27a768a6_9c3a_11ea_910b_acde48001122row10_col2 {\n            width:  10em;\n             height:  80%;\n            background:  linear-gradient(90deg, transparent 0%, transparent 9.1%, #5fba7d 9.1%, #5fba7d 100.0%, transparent 100.0%);\n        }</style>  \n<table id=\"T_27a768a6_9c3a_11ea_910b_acde48001122\" > \n<thead>    <tr> \n        <th class=\"blank level0\" ></th> \n        <th class=\"col_heading level0 col0\" >job_sat_remote_strict_1</th> \n        <th class=\"col_heading level0 col1\" >job_sat_remote_strict_0</th> \n        <th class=\"col_heading level0 col2\" >Diff_Remote_Strict_Vals</th> \n    </tr></thead> \n<tbody>    <tr> \n        <th id=\"T_27a768a6_9c3a_11ea_910b_acde48001122level0_row0\" class=\"row_heading level0 row0\" >0.0</th> \n        <td id=\"T_27a768a6_9c3a_11ea_910b_acde48001122row0_col0\" class=\"data row0 col0\" >0.0103976</td> \n        <td id=\"T_27a768a6_9c3a_11ea_910b_acde48001122row0_col1\" class=\"data row0 col1\" >0.00894874</td> \n        <td id=\"T_27a768a6_9c3a_11ea_910b_acde48001122row0_col2\" class=\"data row0 col2\" >0.00144882</td> \n    </tr>    <tr> \n        <th id=\"T_27a768a6_9c3a_11ea_910b_acde48001122level0_row1\" class=\"row_heading level0 row1\" >1.0</th> \n        <td id=\"T_27a768a6_9c3a_11ea_910b_acde48001122row1_col0\" class=\"data row1 col0\" >0.0069317</td> \n        <td id=\"T_27a768a6_9c3a_11ea_910b_acde48001122row1_col1\" class=\"data row1 col1\" >0.00729236</td> \n        <td id=\"T_27a768a6_9c3a_11ea_910b_acde48001122row1_col2\" class=\"data row1 col2\" >-0.000360659</td> \n    </tr>    <tr> \n        <th id=\"T_27a768a6_9c3a_11ea_910b_acde48001122level0_row2\" class=\"row_heading level0 row2\" >2.0</th> \n        <td id=\"T_27a768a6_9c3a_11ea_910b_acde48001122row2_col0\" class=\"data row2 col0\" >0.012844</td> \n        <td id=\"T_27a768a6_9c3a_11ea_910b_acde48001122row2_col1\" class=\"data row2 col1\" >0.0177469</td> \n        <td id=\"T_27a768a6_9c3a_11ea_910b_acde48001122row2_col2\" class=\"data row2 col2\" >-0.00490286</td> \n    </tr>    <tr> \n        <th id=\"T_27a768a6_9c3a_11ea_910b_acde48001122level0_row3\" class=\"row_heading level0 row3\" >3.0</th> \n        <td id=\"T_27a768a6_9c3a_11ea_910b_acde48001122row3_col0\" class=\"data row3 col0\" >0.0283384</td> \n        <td id=\"T_27a768a6_9c3a_11ea_910b_acde48001122row3_col1\" class=\"data row3 col1\" >0.032181</td> \n        <td id=\"T_27a768a6_9c3a_11ea_910b_acde48001122row3_col2\" class=\"data row3 col2\" >-0.00384261</td> \n    </tr>    <tr> \n        <th id=\"T_27a768a6_9c3a_11ea_910b_acde48001122level0_row4\" class=\"row_heading level0 row4\" >4.0</th> \n        <td id=\"T_27a768a6_9c3a_11ea_910b_acde48001122row4_col0\" class=\"data row4 col0\" >0.0285423</td> \n        <td id=\"T_27a768a6_9c3a_11ea_910b_acde48001122row4_col1\" class=\"data row4 col1\" >0.0371071</td> \n        <td id=\"T_27a768a6_9c3a_11ea_910b_acde48001122row4_col2\" class=\"data row4 col2\" >-0.00856484</td> \n    </tr>    <tr> \n        <th id=\"T_27a768a6_9c3a_11ea_910b_acde48001122level0_row5\" class=\"row_heading level0 row5\" >5.0</th> \n        <td id=\"T_27a768a6_9c3a_11ea_910b_acde48001122row5_col0\" class=\"data row5 col0\" >0.0707441</td> \n        <td id=\"T_27a768a6_9c3a_11ea_910b_acde48001122row5_col1\" class=\"data row5 col1\" >0.0731817</td> \n        <td id=\"T_27a768a6_9c3a_11ea_910b_acde48001122row5_col2\" class=\"data row5 col2\" >-0.00243761</td> \n    </tr>    <tr> \n        <th id=\"T_27a768a6_9c3a_11ea_910b_acde48001122level0_row6\" class=\"row_heading level0 row6\" >6.0</th> \n        <td id=\"T_27a768a6_9c3a_11ea_910b_acde48001122row6_col0\" class=\"data row6 col0\" >0.087054</td> \n        <td id=\"T_27a768a6_9c3a_11ea_910b_acde48001122row6_col1\" class=\"data row6 col1\" >0.0924775</td> \n        <td id=\"T_27a768a6_9c3a_11ea_910b_acde48001122row6_col2\" class=\"data row6 col2\" >-0.00542344</td> \n    </tr>    <tr> \n        <th id=\"T_27a768a6_9c3a_11ea_910b_acde48001122level0_row7\" class=\"row_heading level0 row7\" >7.0</th> \n        <td id=\"T_27a768a6_9c3a_11ea_910b_acde48001122row7_col0\" class=\"data row7 col0\" >0.153517</td> \n        <td id=\"T_27a768a6_9c3a_11ea_910b_acde48001122row7_col1\" class=\"data row7 col1\" >0.155226</td> \n        <td id=\"T_27a768a6_9c3a_11ea_910b_acde48001122row7_col2\" class=\"data row7 col2\" >-0.00170937</td> \n    </tr>    <tr> \n        <th id=\"T_27a768a6_9c3a_11ea_910b_acde48001122level0_row8\" class=\"row_heading level0 row8\" >8.0</th> \n        <td id=\"T_27a768a6_9c3a_11ea_910b_acde48001122row8_col0\" class=\"data row8 col0\" >0.186748</td> \n        <td id=\"T_27a768a6_9c3a_11ea_910b_acde48001122row8_col1\" class=\"data row8 col1\" >0.173532</td> \n        <td id=\"T_27a768a6_9c3a_11ea_910b_acde48001122row8_col2\" class=\"data row8 col2\" >0.0132158</td> \n    </tr>    <tr> \n        <th id=\"T_27a768a6_9c3a_11ea_910b_acde48001122level0_row9\" class=\"row_heading level0 row9\" >9.0</th> \n        <td id=\"T_27a768a6_9c3a_11ea_910b_acde48001122row9_col0\" class=\"data row9 col0\" >0.144546</td> \n        <td id=\"T_27a768a6_9c3a_11ea_910b_acde48001122row9_col1\" class=\"data row9 col1\" >0.104631</td> \n        <td id=\"T_27a768a6_9c3a_11ea_910b_acde48001122row9_col2\" class=\"data row9 col2\" >0.039915</td> \n    </tr>    <tr> \n        <th id=\"T_27a768a6_9c3a_11ea_910b_acde48001122level0_row10\" class=\"row_heading level0 row10\" >10.0</th> \n        <td id=\"T_27a768a6_9c3a_11ea_910b_acde48001122row10_col0\" class=\"data row10 col0\" >0.15841</td> \n        <td id=\"T_27a768a6_9c3a_11ea_910b_acde48001122row10_col1\" class=\"data row10 col1\" >0.0725149</td> \n        <td id=\"T_27a768a6_9c3a_11ea_910b_acde48001122row10_col2\" class=\"data row10 col2\" >0.0858949</td> \n    </tr></tbody> \n</table> "
     },
     "metadata": {},
     "execution_count": 64
    }
   ],
   "source": [
    "comp_df = pd.concat([job_sat_remote_strict_1, job_sat_remote_strict_0], axis=1)\n",
    "comp_df.columns = ['job_sat_remote_strict_1', 'job_sat_remote_strict_0']\n",
    "comp_df['Diff_Remote_Strict_Vals'] = comp_df['job_sat_remote_strict_1'] - comp_df['job_sat_remote_strict_0']\n",
    "comp_df.style.bar(subset=['Diff_Remote_Strict_Vals'], align='mid', color=['#d65f5f', '#5fba7d'])\n"
   ]
  },
  {
   "cell_type": "code",
   "execution_count": 66,
   "metadata": {},
   "outputs": [
    {
     "output_type": "execute_result",
     "data": {
      "text/plain": "<pandas.io.formats.style.Styler at 0x139fa8d90>",
      "text/html": "<style  type=\"text/css\" >\n    #T_021db53a_9c3b_11ea_910b_acde48001122row0_col2 {\n            width:  10em;\n             height:  80%;\n            background:  linear-gradient(90deg, transparent 0%, transparent 8.3%, #d65f5f 8.3%, #d65f5f 12.5%, transparent 12.5%);\n        }    #T_021db53a_9c3b_11ea_910b_acde48001122row1_col2 {\n            width:  10em;\n             height:  80%;\n            background:  linear-gradient(90deg, transparent 0%, transparent 12.1%, #d65f5f 12.1%, #d65f5f 12.5%, transparent 12.5%);\n        }    #T_021db53a_9c3b_11ea_910b_acde48001122row2_col2 {\n            width:  10em;\n             height:  80%;\n            background:  linear-gradient(90deg, transparent 0%, transparent 10.5%, #d65f5f 10.5%, #d65f5f 12.5%, transparent 12.5%);\n        }    #T_021db53a_9c3b_11ea_910b_acde48001122row3_col2 {\n            width:  10em;\n             height:  80%;\n            background:  linear-gradient(90deg, transparent 0%, transparent 7.4%, #d65f5f 7.4%, #d65f5f 12.5%, transparent 12.5%);\n        }    #T_021db53a_9c3b_11ea_910b_acde48001122row4_col2 {\n            width:  10em;\n             height:  80%;\n            background:  linear-gradient(90deg, transparent 0%, transparent 8.2%, #d65f5f 8.2%, #d65f5f 12.5%, transparent 12.5%);\n        }    #T_021db53a_9c3b_11ea_910b_acde48001122row5_col2 {\n            width:  10em;\n             height:  80%;\n            background:  linear-gradient(90deg, transparent 0%, transparent 7.1%, #d65f5f 7.1%, #d65f5f 12.5%, transparent 12.5%);\n        }    #T_021db53a_9c3b_11ea_910b_acde48001122row6_col2 {\n            width:  10em;\n             height:  80%;\n            background:  linear-gradient(90deg, transparent 0%, transparent 0.8%, #d65f5f 0.8%, #d65f5f 12.5%, transparent 12.5%);\n        }    #T_021db53a_9c3b_11ea_910b_acde48001122row7_col2 {\n            width:  10em;\n             height:  80%;\n            background:  linear-gradient(90deg, transparent 0%, transparent 0.0%, #d65f5f 0.0%, #d65f5f 12.5%, transparent 12.5%);\n        }    #T_021db53a_9c3b_11ea_910b_acde48001122row8_col2 {\n            width:  10em;\n             height:  80%;\n            background:  linear-gradient(90deg, transparent 0%, transparent 12.5%, #5fba7d 12.5%, #5fba7d 16.9%, transparent 16.9%);\n        }    #T_021db53a_9c3b_11ea_910b_acde48001122row9_col2 {\n            width:  10em;\n             height:  80%;\n            background:  linear-gradient(90deg, transparent 0%, transparent 12.5%, #5fba7d 12.5%, #5fba7d 43.8%, transparent 43.8%);\n        }    #T_021db53a_9c3b_11ea_910b_acde48001122row10_col2 {\n            width:  10em;\n             height:  80%;\n            background:  linear-gradient(90deg, transparent 0%, transparent 12.5%, #5fba7d 12.5%, #5fba7d 100.0%, transparent 100.0%);\n        }</style>  \n<table id=\"T_021db53a_9c3b_11ea_910b_acde48001122\" > \n<thead>    <tr> \n        <th class=\"blank level0\" ></th> \n        <th class=\"col_heading level0 col0\" >career_sat_remote_strict_1</th> \n        <th class=\"col_heading level0 col1\" >career_sat_remote_strict_0</th> \n        <th class=\"col_heading level0 col2\" >Diff_Remote_Strict_Vals</th> \n    </tr></thead> \n<tbody>    <tr> \n        <th id=\"T_021db53a_9c3b_11ea_910b_acde48001122level0_row0\" class=\"row_heading level0 row0\" >0.0</th> \n        <td id=\"T_021db53a_9c3b_11ea_910b_acde48001122row0_col0\" class=\"data row0 col0\" >0.00448522</td> \n        <td id=\"T_021db53a_9c3b_11ea_910b_acde48001122row0_col1\" class=\"data row0 col1\" >0.00795921</td> \n        <td id=\"T_021db53a_9c3b_11ea_910b_acde48001122row0_col2\" class=\"data row0 col2\" >-0.003474</td> \n    </tr>    <tr> \n        <th id=\"T_021db53a_9c3b_11ea_910b_acde48001122level0_row1\" class=\"row_heading level0 row1\" >1.0</th> \n        <td id=\"T_021db53a_9c3b_11ea_910b_acde48001122row1_col0\" class=\"data row1 col0\" >0.0038736</td> \n        <td id=\"T_021db53a_9c3b_11ea_910b_acde48001122row1_col1\" class=\"data row1 col1\" >0.00413019</td> \n        <td id=\"T_021db53a_9c3b_11ea_910b_acde48001122row1_col2\" class=\"data row1 col2\" >-0.000256589</td> \n    </tr>    <tr> \n        <th id=\"T_021db53a_9c3b_11ea_910b_acde48001122level0_row2\" class=\"row_heading level0 row2\" >2.0</th> \n        <td id=\"T_021db53a_9c3b_11ea_910b_acde48001122row2_col0\" class=\"data row2 col0\" >0.00815494</td> \n        <td id=\"T_021db53a_9c3b_11ea_910b_acde48001122row2_col1\" class=\"data row2 col1\" >0.00978768</td> \n        <td id=\"T_021db53a_9c3b_11ea_910b_acde48001122row2_col2\" class=\"data row2 col2\" >-0.00163274</td> \n    </tr>    <tr> \n        <th id=\"T_021db53a_9c3b_11ea_910b_acde48001122level0_row3\" class=\"row_heading level0 row3\" >3.0</th> \n        <td id=\"T_021db53a_9c3b_11ea_910b_acde48001122row3_col0\" class=\"data row3 col0\" >0.0165138</td> \n        <td id=\"T_021db53a_9c3b_11ea_910b_acde48001122row3_col1\" class=\"data row3 col1\" >0.0207585</td> \n        <td id=\"T_021db53a_9c3b_11ea_910b_acde48001122row3_col2\" class=\"data row3 col2\" >-0.00424473</td> \n    </tr>    <tr> \n        <th id=\"T_021db53a_9c3b_11ea_910b_acde48001122level0_row4\" class=\"row_heading level0 row4\" >4.0</th> \n        <td id=\"T_021db53a_9c3b_11ea_910b_acde48001122row4_col0\" class=\"data row4 col0\" >0.0230377</td> \n        <td id=\"T_021db53a_9c3b_11ea_910b_acde48001122row4_col1\" class=\"data row4 col1\" >0.0266526</td> \n        <td id=\"T_021db53a_9c3b_11ea_910b_acde48001122row4_col2\" class=\"data row4 col2\" >-0.0036149</td> \n    </tr>    <tr> \n        <th id=\"T_021db53a_9c3b_11ea_910b_acde48001122level0_row5\" class=\"row_heading level0 row5\" >5.0</th> \n        <td id=\"T_021db53a_9c3b_11ea_910b_acde48001122row5_col0\" class=\"data row5 col0\" >0.0556575</td> \n        <td id=\"T_021db53a_9c3b_11ea_910b_acde48001122row5_col1\" class=\"data row5 col1\" >0.0601674</td> \n        <td id=\"T_021db53a_9c3b_11ea_910b_acde48001122row5_col2\" class=\"data row5 col2\" >-0.00450987</td> \n    </tr>    <tr> \n        <th id=\"T_021db53a_9c3b_11ea_910b_acde48001122level0_row6\" class=\"row_heading level0 row6\" >6.0</th> \n        <td id=\"T_021db53a_9c3b_11ea_910b_acde48001122row6_col0\" class=\"data row6 col0\" >0.0829766</td> \n        <td id=\"T_021db53a_9c3b_11ea_910b_acde48001122row6_col1\" class=\"data row6 col1\" >0.0928001</td> \n        <td id=\"T_021db53a_9c3b_11ea_910b_acde48001122row6_col2\" class=\"data row6 col2\" >-0.00982358</td> \n    </tr>    <tr> \n        <th id=\"T_021db53a_9c3b_11ea_910b_acde48001122level0_row7\" class=\"row_heading level0 row7\" >7.0</th> \n        <td id=\"T_021db53a_9c3b_11ea_910b_acde48001122row7_col0\" class=\"data row7 col0\" >0.173089</td> \n        <td id=\"T_021db53a_9c3b_11ea_910b_acde48001122row7_col1\" class=\"data row7 col1\" >0.1836</td> \n        <td id=\"T_021db53a_9c3b_11ea_910b_acde48001122row7_col2\" class=\"data row7 col2\" >-0.010511</td> \n    </tr>    <tr> \n        <th id=\"T_021db53a_9c3b_11ea_910b_acde48001122level0_row8\" class=\"row_heading level0 row8\" >8.0</th> \n        <td id=\"T_021db53a_9c3b_11ea_910b_acde48001122row8_col0\" class=\"data row8 col0\" >0.218145</td> \n        <td id=\"T_021db53a_9c3b_11ea_910b_acde48001122row8_col1\" class=\"data row8 col1\" >0.214404</td> \n        <td id=\"T_021db53a_9c3b_11ea_910b_acde48001122row8_col2\" class=\"data row8 col2\" >0.00374072</td> \n    </tr>    <tr> \n        <th id=\"T_021db53a_9c3b_11ea_910b_acde48001122level0_row9\" class=\"row_heading level0 row9\" >9.0</th> \n        <td id=\"T_021db53a_9c3b_11ea_910b_acde48001122row9_col0\" class=\"data row9 col0\" >0.132518</td> \n        <td id=\"T_021db53a_9c3b_11ea_910b_acde48001122row9_col1\" class=\"data row9 col1\" >0.10603</td> \n        <td id=\"T_021db53a_9c3b_11ea_910b_acde48001122row9_col2\" class=\"data row9 col2\" >0.0264882</td> \n    </tr>    <tr> \n        <th id=\"T_021db53a_9c3b_11ea_910b_acde48001122level0_row10\" class=\"row_heading level0 row10\" >10.0</th> \n        <td id=\"T_021db53a_9c3b_11ea_910b_acde48001122row10_col0\" class=\"data row10 col0\" >0.172069</td> \n        <td id=\"T_021db53a_9c3b_11ea_910b_acde48001122row10_col1\" class=\"data row10 col1\" >0.098178</td> \n        <td id=\"T_021db53a_9c3b_11ea_910b_acde48001122row10_col2\" class=\"data row10 col2\" >0.0738913</td> \n    </tr></tbody> \n</table> "
     },
     "metadata": {},
     "execution_count": 66
    }
   ],
   "source": [
    "comp_df = pd.concat([career_sat_remote_strict_1, career_sat_remote_strict_0], axis=1)\n",
    "comp_df.columns = ['career_sat_remote_strict_1', 'career_sat_remote_strict_0']\n",
    "comp_df['Diff_Remote_Strict_Vals'] = comp_df['career_sat_remote_strict_1'] - comp_df['career_sat_remote_strict_0']\n",
    "comp_df.style.bar(subset=['Diff_Remote_Strict_Vals'], align='mid', color=['#d65f5f', '#5fba7d'])\n"
   ]
  },
  {
   "cell_type": "code",
   "execution_count": 67,
   "metadata": {},
   "outputs": [
    {
     "output_type": "execute_result",
     "data": {
      "text/plain": "         Respondent  CareerSatisfaction  JobSatisfaction  HoursPerWeek  \\\ncount  51392.000000        42695.000000     40376.000000  20600.000000   \nmean   25696.500000            7.300574         6.957078      3.952282   \nstd    14835.736854            1.955444         2.167652      7.564722   \nmin        1.000000            0.000000         0.000000      0.000000   \n25%    12848.750000            6.000000         6.000000      1.000000   \n50%    25696.500000            8.000000         7.000000      1.000000   \n75%    38544.250000            9.000000         8.000000      4.000000   \nmax    51392.000000           10.000000        10.000000     40.000000   \n\n       StackOverflowSatisfaction         Salary  ExpectedSalary  \\\ncount               36592.000000   12891.000000     2566.000000   \nmean                    8.429875   56298.480641    33142.220468   \nstd                     1.390635   39880.905277    30162.988829   \nmin                     0.000000       0.000000        0.000000   \n25%                     8.000000   26440.371839     4490.492484   \n50%                     9.000000   50000.000000    29364.263691   \n75%                    10.000000   80000.000000    50403.225806   \nmax                    10.000000  197000.000000   187500.000000   \n\n       RemoteWorker_Strict  RemoteWorker_Lax  \ncount         51392.000000      51392.000000  \nmean              0.095443          0.247704  \nstd               0.293829          0.431683  \nmin               0.000000          0.000000  \n25%               0.000000          0.000000  \n50%               0.000000          0.000000  \n75%               0.000000          0.000000  \nmax               1.000000          1.000000  ",
      "text/html": "<div>\n<style scoped>\n    .dataframe tbody tr th:only-of-type {\n        vertical-align: middle;\n    }\n\n    .dataframe tbody tr th {\n        vertical-align: top;\n    }\n\n    .dataframe thead th {\n        text-align: right;\n    }\n</style>\n<table border=\"1\" class=\"dataframe\">\n  <thead>\n    <tr style=\"text-align: right;\">\n      <th></th>\n      <th>Respondent</th>\n      <th>CareerSatisfaction</th>\n      <th>JobSatisfaction</th>\n      <th>HoursPerWeek</th>\n      <th>StackOverflowSatisfaction</th>\n      <th>Salary</th>\n      <th>ExpectedSalary</th>\n      <th>RemoteWorker_Strict</th>\n      <th>RemoteWorker_Lax</th>\n    </tr>\n  </thead>\n  <tbody>\n    <tr>\n      <th>count</th>\n      <td>51392.000000</td>\n      <td>42695.000000</td>\n      <td>40376.000000</td>\n      <td>20600.000000</td>\n      <td>36592.000000</td>\n      <td>12891.000000</td>\n      <td>2566.000000</td>\n      <td>51392.000000</td>\n      <td>51392.000000</td>\n    </tr>\n    <tr>\n      <th>mean</th>\n      <td>25696.500000</td>\n      <td>7.300574</td>\n      <td>6.957078</td>\n      <td>3.952282</td>\n      <td>8.429875</td>\n      <td>56298.480641</td>\n      <td>33142.220468</td>\n      <td>0.095443</td>\n      <td>0.247704</td>\n    </tr>\n    <tr>\n      <th>std</th>\n      <td>14835.736854</td>\n      <td>1.955444</td>\n      <td>2.167652</td>\n      <td>7.564722</td>\n      <td>1.390635</td>\n      <td>39880.905277</td>\n      <td>30162.988829</td>\n      <td>0.293829</td>\n      <td>0.431683</td>\n    </tr>\n    <tr>\n      <th>min</th>\n      <td>1.000000</td>\n      <td>0.000000</td>\n      <td>0.000000</td>\n      <td>0.000000</td>\n      <td>0.000000</td>\n      <td>0.000000</td>\n      <td>0.000000</td>\n      <td>0.000000</td>\n      <td>0.000000</td>\n    </tr>\n    <tr>\n      <th>25%</th>\n      <td>12848.750000</td>\n      <td>6.000000</td>\n      <td>6.000000</td>\n      <td>1.000000</td>\n      <td>8.000000</td>\n      <td>26440.371839</td>\n      <td>4490.492484</td>\n      <td>0.000000</td>\n      <td>0.000000</td>\n    </tr>\n    <tr>\n      <th>50%</th>\n      <td>25696.500000</td>\n      <td>8.000000</td>\n      <td>7.000000</td>\n      <td>1.000000</td>\n      <td>9.000000</td>\n      <td>50000.000000</td>\n      <td>29364.263691</td>\n      <td>0.000000</td>\n      <td>0.000000</td>\n    </tr>\n    <tr>\n      <th>75%</th>\n      <td>38544.250000</td>\n      <td>9.000000</td>\n      <td>8.000000</td>\n      <td>4.000000</td>\n      <td>10.000000</td>\n      <td>80000.000000</td>\n      <td>50403.225806</td>\n      <td>0.000000</td>\n      <td>0.000000</td>\n    </tr>\n    <tr>\n      <th>max</th>\n      <td>51392.000000</td>\n      <td>10.000000</td>\n      <td>10.000000</td>\n      <td>40.000000</td>\n      <td>10.000000</td>\n      <td>197000.000000</td>\n      <td>187500.000000</td>\n      <td>1.000000</td>\n      <td>1.000000</td>\n    </tr>\n  </tbody>\n</table>\n</div>"
     },
     "metadata": {},
     "execution_count": 67
    }
   ],
   "source": [
    "df.describe()"
   ]
  },
  {
   "cell_type": "code",
   "execution_count": 56,
   "metadata": {},
   "outputs": [
    {
     "output_type": "execute_result",
     "data": {
      "text/plain": "8.0     8983\n7.0     7969\n9.0     5573\n6.0     4726\n10.0    4148\n5.0     3749\n4.0     1865\n3.0     1635\n2.0      888\n0.0      467\n1.0      373\nName: JobSatisfaction, dtype: int64"
     },
     "metadata": {},
     "execution_count": 56
    }
   ],
   "source": [
    "df_2017.groupby('HomeRemote')['JobSatisfaction'].mean()\n",
    "df_2017['JobSatisfaction'].value_counts()"
   ]
  },
  {
   "cell_type": "code",
   "execution_count": 16,
   "metadata": {},
   "outputs": [
    {
     "output_type": "execute_result",
     "data": {
      "text/plain": "                                       DeveloperType WebDeveloperType  \\\n0                                                NaN              NaN   \n1                                                NaN              NaN   \n2                                              Other              NaN   \n3                                                NaN              NaN   \n4  Mobile developer; Graphics programming; Deskto...              NaN   \n\n  MobileDeveloperType NonDeveloperType  \n0                 NaN              NaN  \n1                 NaN              NaN  \n2                 NaN              NaN  \n3                 NaN   Data scientist  \n4                 NaN              NaN  ",
      "text/html": "<div>\n<style scoped>\n    .dataframe tbody tr th:only-of-type {\n        vertical-align: middle;\n    }\n\n    .dataframe tbody tr th {\n        vertical-align: top;\n    }\n\n    .dataframe thead th {\n        text-align: right;\n    }\n</style>\n<table border=\"1\" class=\"dataframe\">\n  <thead>\n    <tr style=\"text-align: right;\">\n      <th></th>\n      <th>DeveloperType</th>\n      <th>WebDeveloperType</th>\n      <th>MobileDeveloperType</th>\n      <th>NonDeveloperType</th>\n    </tr>\n  </thead>\n  <tbody>\n    <tr>\n      <th>0</th>\n      <td>NaN</td>\n      <td>NaN</td>\n      <td>NaN</td>\n      <td>NaN</td>\n    </tr>\n    <tr>\n      <th>1</th>\n      <td>NaN</td>\n      <td>NaN</td>\n      <td>NaN</td>\n      <td>NaN</td>\n    </tr>\n    <tr>\n      <th>2</th>\n      <td>Other</td>\n      <td>NaN</td>\n      <td>NaN</td>\n      <td>NaN</td>\n    </tr>\n    <tr>\n      <th>3</th>\n      <td>NaN</td>\n      <td>NaN</td>\n      <td>NaN</td>\n      <td>Data scientist</td>\n    </tr>\n    <tr>\n      <th>4</th>\n      <td>Mobile developer; Graphics programming; Deskto...</td>\n      <td>NaN</td>\n      <td>NaN</td>\n      <td>NaN</td>\n    </tr>\n  </tbody>\n</table>\n</div>"
     },
     "metadata": {},
     "execution_count": 16
    }
   ],
   "source": [
    "df_2017[['DeveloperType','WebDeveloperType','MobileDeveloperType','NonDeveloperType']].head()\n",
    "# pd.__version__"
   ]
  },
  {
   "cell_type": "code",
   "execution_count": 17,
   "metadata": {},
   "outputs": [
    {
     "output_type": "execute_result",
     "data": {
      "text/plain": "CompanyType\nGovernment agency or public school/university                             2451\nI don't know                                                              3233\nI prefer not to answer                                                    1816\nNon-profit/non-governmental organization or private school/university     1225\nPre-series A startup                                                      1288\nPrivately-held limited company, not in startup mode                      16709\nPublicly-traded corporation                                               5871\nSole proprietorship or partnership, not in startup mode                   2831\nSomething else                                                             342\nState-owned company                                                        670\nVenture-funded startup                                                    2387\ndtype: int64"
     },
     "metadata": {},
     "execution_count": 17
    }
   ],
   "source": [
    "df_2017.groupby(['CompanyType']).size()"
   ]
  },
  {
   "cell_type": "code",
   "execution_count": 18,
   "metadata": {},
   "outputs": [],
   "source": [
    "def recode_null_not_null_as_0_1(df, cols_not_to_recode):\n",
    "    '''\n",
    "    This function will split the data frame into columns that can easily be\n",
    "    recoded as 0/1, and those that cannot. More specifically, if a column\n",
    "    has a single non-NaN string value, and the relevant information is already contained\n",
    "    in the column name, then it will convert that column to a 0/1 dummy\n",
    "    '''\n",
    "    \n",
    "    # Split the dataframe into columns that will be operated on, and those that won't\n",
    "    df_recode = df.drop(columns = cols_not_to_recode)\n",
    "    df = df[cols_not_to_recode]\n",
    "    df_recode = df_recode.notnull().astype('int')\n",
    "    df = pd.concat([df, df_recode], axis=1)\n",
    "    return df"
   ]
  },
  {
   "cell_type": "code",
   "execution_count": 20,
   "metadata": {},
   "outputs": [],
   "source": [
    "def df_missingness_stats(df, year):\n",
    "    df.name = year + ' data'\n",
    "    print('Number of Rows in {}: {}'.format(df.name, df.shape[0]))\n",
    "    print('Number of Columns in {}: {}'.format(df.name, df.shape[1]))\n",
    "    print('Number of Columns in {} with no missing values: {}'.format(df.name, len(set(df.columns[~df.isnull().any()]))))\n",
    "    print('Number of Columns in {} with > 75% missing values: {}'.format(df.name, \n",
    "                                                                         len(set(df.columns[df.isnull().sum()/len(df) > .75]))))\n",
    "    print('Number of Columns in {} with all missing values: {}'.format(df.name, \n",
    "                                                                         len(set(df.columns[df.isnull().sum()/len(df) == 1]))))\n",
    "    print('Columns in {} with no missing values: {}'.format(df.name, \n",
    "                                                            set(df.columns[~df.isnull().any()])))\n",
    "    print('Columns in {} with > 75% missing values: {}'.format(df.name, \n",
    "                                                               set(df.columns[df.isnull().sum()/len(df) > .75])))"
   ]
  },
  {
   "cell_type": "code",
   "execution_count": 21,
   "metadata": {},
   "outputs": [
    {
     "output_type": "stream",
     "name": "stdout",
     "text": "Number of Rows in 2017 data: 51392\nNumber of Columns in 2017 data: 156\nNumber of Columns in 2017 data with no missing values: 9\nNumber of Columns in 2017 data with > 75% missing values: 14\nNumber of Columns in 2017 data with all missing values: 0\nColumns in 2017 data with no missing values: {'ProgramHobby', 'Respondent', 'FormalEducation', 'RemoteWorker_Strict', 'Professional', 'RemoteWorker_Lax', 'University', 'EmploymentStatus', 'Country'}\nColumns in 2017 data with > 75% missing values: {'ExCoderBelonged', 'ExpectedSalary', 'ExCoderActive', 'NonDeveloperType', 'ExCoderReturn', 'ExCoderSkills', 'ExCoderWillNotCode', 'ExCoderNotForMe', 'TimeAfterBootcamp', 'YearsCodedJobPast', 'ExCoderBalance', 'MobileDeveloperType', 'WebDeveloperType', 'ExCoder10Years'}\n"
    }
   ],
   "source": [
    "df_missingness_stats(df_2017, '2017')"
   ]
  },
  {
   "cell_type": "code",
   "execution_count": 22,
   "metadata": {},
   "outputs": [
    {
     "output_type": "execute_result",
     "data": {
      "text/plain": "Professional developer                                  36131\nStudent                                                  8224\nProfessional non-developer who sometimes writes code     5140\nUsed to be a professional developer                       983\nNone of these                                             914\nName: Professional, dtype: int64"
     },
     "metadata": {},
     "execution_count": 22
    }
   ],
   "source": [
    "df_2017['Professional'].value_counts()"
   ]
  },
  {
   "cell_type": "code",
   "execution_count": 23,
   "metadata": {},
   "outputs": [
    {
     "output_type": "execute_result",
     "data": {
      "text/plain": "Yes, I program as a hobby                    24801\nYes, both                                    13756\nNo                                            9787\nYes, I contribute to open source projects     3048\nName: ProgramHobby, dtype: int64"
     },
     "metadata": {},
     "execution_count": 23
    }
   ],
   "source": [
    "df_2017['ProgramHobby'].value_counts()"
   ]
  },
  {
   "cell_type": "code",
   "execution_count": 24,
   "metadata": {},
   "outputs": [
    {
     "output_type": "execute_result",
     "data": {
      "text/plain": "No                     37543\nYes, full-time          9369\nYes, part-time          3352\nI prefer not to say     1128\nName: University, dtype: int64"
     },
     "metadata": {},
     "execution_count": 24
    }
   ],
   "source": [
    "df_2017['University'].value_counts()"
   ]
  },
  {
   "cell_type": "code",
   "execution_count": 25,
   "metadata": {},
   "outputs": [
    {
     "output_type": "execute_result",
     "data": {
      "text/plain": "Employed full-time                                      36148\nIndependent contractor, freelancer, or self-employed     5233\nEmployed part-time                                       3180\nNot employed, and not looking for work                   2791\nNot employed, but looking for work                       2786\nI prefer not to say                                      1086\nRetired                                                   168\nName: EmploymentStatus, dtype: int64"
     },
     "metadata": {},
     "execution_count": 25
    }
   ],
   "source": [
    "df_2017['EmploymentStatus'].value_counts()"
   ]
  },
  {
   "cell_type": "code",
   "execution_count": 26,
   "metadata": {},
   "outputs": [
    {
     "output_type": "execute_result",
     "data": {
      "text/plain": "Bachelor's degree                                                    21609\nMaster's degree                                                      11141\nSome college/university study without earning a bachelor's degree     8129\nSecondary school                                                      5908\nDoctoral degree                                                       1308\nI prefer not to answer                                                1109\nPrimary/elementary school                                             1047\nProfessional degree                                                    715\nI never completed any formal education                                 426\nName: FormalEducation, dtype: int64"
     },
     "metadata": {},
     "execution_count": 26
    }
   ],
   "source": [
    "df_2017['FormalEducation'].value_counts()"
   ]
  },
  {
   "cell_type": "code",
   "execution_count": 27,
   "metadata": {},
   "outputs": [
    {
     "output_type": "execute_result",
     "data": {
      "text/plain": "Computer science or software engineering                        21409\nComputer engineering or electrical/electronics engineering       4364\nComputer programming or Web development                          3883\nInformation technology, networking, or system administration     2140\nA natural science                                                1865\nA non-computer-focused engineering discipline                    1789\nMathematics or statistics                                        1648\nSomething else                                                   1060\nA humanities discipline                                           901\nA business discipline                                             900\nManagement information systems                                    654\nFine arts or performing arts                                      646\nA social science                                                  633\nI never declared a major                                          592\nPsychology                                                        215\nA health science                                                  142\nName: MajorUndergrad, dtype: int64"
     },
     "metadata": {},
     "execution_count": 27
    }
   ],
   "source": [
    "df_2017['MajorUndergrad'].value_counts()"
   ]
  },
  {
   "cell_type": "code",
   "execution_count": 28,
   "metadata": {},
   "outputs": [
    {
     "output_type": "execute_result",
     "data": {
      "text/plain": "A few days each month                                      15454\nNever                                                      13975\nAll or almost all the time (I'm full-time remote)           4905\nLess than half the time, but at least one day each week     4147\nMore than half, but not all, the time                       1909\nIt's complicated                                            1849\nAbout half the time                                         1769\nName: HomeRemote, dtype: int64"
     },
     "metadata": {},
     "execution_count": 28
    }
   ],
   "source": [
    "df_2017['HomeRemote'].value_counts()"
   ]
  },
  {
   "cell_type": "code",
   "execution_count": 29,
   "metadata": {},
   "outputs": [
    {
     "output_type": "execute_result",
     "data": {
      "text/plain": "20 to 99 employees          8587\n100 to 499 employees        7274\n10,000 or more employees    5680\n10 to 19 employees          4103\n1,000 to 4,999 employees    3831\nFewer than 10 employees     3807\n500 to 999 employees        2486\n5,000 to 9,999 employees    1604\nI don't know                 869\nI prefer not to answer       681\nName: CompanySize, dtype: int64"
     },
     "metadata": {},
     "execution_count": 29
    }
   ],
   "source": [
    "df_2017['CompanySize'].value_counts()"
   ]
  },
  {
   "cell_type": "code",
   "execution_count": 30,
   "metadata": {},
   "outputs": [
    {
     "output_type": "execute_result",
     "data": {
      "text/plain": "Privately-held limited company, not in startup mode                      16709\nPublicly-traded corporation                                               5871\nI don't know                                                              3233\nSole proprietorship or partnership, not in startup mode                   2831\nGovernment agency or public school/university                             2451\nVenture-funded startup                                                    2387\nI prefer not to answer                                                    1816\nPre-series A startup                                                      1288\nNon-profit/non-governmental organization or private school/university     1225\nState-owned company                                                        670\nSomething else                                                             342\nName: CompanyType, dtype: int64"
     },
     "metadata": {},
     "execution_count": 30
    }
   ],
   "source": [
    "df_2017['CompanyType'].value_counts()"
   ]
  },
  {
   "cell_type": "code",
   "execution_count": 31,
   "metadata": {},
   "outputs": [
    {
     "output_type": "execute_result",
     "data": {
      "text/plain": "20 or more years    8817\n4 to 5 years        3865\n3 to 4 years        3701\n5 to 6 years        3572\n2 to 3 years        3251\n9 to 10 years       3197\n6 to 7 years        2869\n1 to 2 years        2773\n7 to 8 years        2466\n10 to 11 years      2178\n14 to 15 years      2011\n8 to 9 years        1910\n15 to 16 years      1669\nLess than a year    1484\n11 to 12 years      1389\n12 to 13 years      1307\n13 to 14 years      1092\n16 to 17 years      1046\n19 to 20 years      1021\n17 to 18 years       879\n18 to 19 years       648\nName: YearsProgram, dtype: int64"
     },
     "metadata": {},
     "execution_count": 31
    }
   ],
   "source": [
    "df_2017['YearsProgram'].value_counts()"
   ]
  },
  {
   "cell_type": "code",
   "execution_count": 32,
   "metadata": {},
   "outputs": [
    {
     "output_type": "execute_result",
     "data": {
      "text/plain": "1 to 2 years        5289\n2 to 3 years        4767\n3 to 4 years        4003\n4 to 5 years        3405\n20 or more years    3067\nLess than a year    3034\n5 to 6 years        2990\n9 to 10 years       1956\n6 to 7 years        1912\n10 to 11 years      1678\n7 to 8 years        1638\n8 to 9 years        1287\n15 to 16 years       845\n14 to 15 years       840\n11 to 12 years       838\n12 to 13 years       741\n16 to 17 years       694\n17 to 18 years       545\n13 to 14 years       531\n19 to 20 years       427\n18 to 19 years       403\nName: YearsCodedJob, dtype: int64"
     },
     "metadata": {},
     "execution_count": 32
    }
   ],
   "source": [
    "df_2017['YearsCodedJob'].value_counts()"
   ]
  },
  {
   "cell_type": "code",
   "execution_count": 33,
   "metadata": {},
   "outputs": [
    {
     "output_type": "execute_result",
     "data": {
      "text/plain": "20 or more years    154\n1 to 2 years         80\n2 to 3 years         78\n4 to 5 years         66\n3 to 4 years         65\n9 to 10 years        59\nLess than a year     57\n10 to 11 years       50\n5 to 6 years         48\n7 to 8 years         46\n15 to 16 years       42\n14 to 15 years       39\n6 to 7 years         30\n11 to 12 years       28\n8 to 9 years         28\n19 to 20 years       23\n12 to 13 years       20\n16 to 17 years       19\n17 to 18 years       19\n13 to 14 years       17\n18 to 19 years        6\nName: YearsCodedJobPast, dtype: int64"
     },
     "metadata": {},
     "execution_count": 33
    }
   ],
   "source": [
    "df_2017['YearsCodedJobPast'].value_counts()"
   ]
  },
  {
   "cell_type": "code",
   "execution_count": 34,
   "metadata": {},
   "outputs": [],
   "source": [
    "test = df_2017['DeveloperType'].str.split(\";\")\n",
    "test.loc[test.isnull()] = test.loc[test.isnull()].apply(lambda x: []) \n",
    "test = test.apply(lambda x: sorted(x))"
   ]
  },
  {
   "cell_type": "code",
   "execution_count": 35,
   "metadata": {},
   "outputs": [
    {
     "output_type": "execute_result",
     "data": {
      "text/plain": "0                                                    []\n1                                                    []\n2                                               [Other]\n3                                                    []\n4     [ Desktop applications developer,  Graphics pr...\n5                                                    []\n6                                                    []\n7                                       [Web developer]\n8                    [ Mobile developer, Web developer]\n9     [ Desktop applications developer, Mobile devel...\n10                                                   []\n11                                      [Web developer]\n12                                                   []\n13                                      [Web developer]\n14            [Embedded applications/devices developer]\n15                     [Desktop applications developer]\n16                                      [Web developer]\n17    [ DevOps specialist,  Embedded applications/de...\n18                                      [Web developer]\n19                             [ Other, Data scientist]\nName: DeveloperType, dtype: object"
     },
     "metadata": {},
     "execution_count": 35
    }
   ],
   "source": [
    "test.head(20)"
   ]
  },
  {
   "cell_type": "code",
   "execution_count": 36,
   "metadata": {},
   "outputs": [],
   "source": [
    "test1 = test.apply(pd.Series)"
   ]
  },
  {
   "cell_type": "code",
   "execution_count": 37,
   "metadata": {},
   "outputs": [
    {
     "output_type": "execute_result",
     "data": {
      "text/plain": "pandas.core.frame.DataFrame"
     },
     "metadata": {},
     "execution_count": 37
    }
   ],
   "source": [
    "type(test1)"
   ]
  },
  {
   "cell_type": "code",
   "execution_count": 38,
   "metadata": {},
   "outputs": [
    {
     "output_type": "execute_result",
     "data": {
      "text/plain": "                                0                      1                 2   \\\n0                              NaN                    NaN               NaN   \n1                              NaN                    NaN               NaN   \n2                            Other                    NaN               NaN   \n3                              NaN                    NaN               NaN   \n4   Desktop applications developer   Graphics programming  Mobile developer   \n\n    3    4    5    6    7    8    9    10   11   12   13  \n0  NaN  NaN  NaN  NaN  NaN  NaN  NaN  NaN  NaN  NaN  NaN  \n1  NaN  NaN  NaN  NaN  NaN  NaN  NaN  NaN  NaN  NaN  NaN  \n2  NaN  NaN  NaN  NaN  NaN  NaN  NaN  NaN  NaN  NaN  NaN  \n3  NaN  NaN  NaN  NaN  NaN  NaN  NaN  NaN  NaN  NaN  NaN  \n4  NaN  NaN  NaN  NaN  NaN  NaN  NaN  NaN  NaN  NaN  NaN  ",
      "text/html": "<div>\n<style scoped>\n    .dataframe tbody tr th:only-of-type {\n        vertical-align: middle;\n    }\n\n    .dataframe tbody tr th {\n        vertical-align: top;\n    }\n\n    .dataframe thead th {\n        text-align: right;\n    }\n</style>\n<table border=\"1\" class=\"dataframe\">\n  <thead>\n    <tr style=\"text-align: right;\">\n      <th></th>\n      <th>0</th>\n      <th>1</th>\n      <th>2</th>\n      <th>3</th>\n      <th>4</th>\n      <th>5</th>\n      <th>6</th>\n      <th>7</th>\n      <th>8</th>\n      <th>9</th>\n      <th>10</th>\n      <th>11</th>\n      <th>12</th>\n      <th>13</th>\n    </tr>\n  </thead>\n  <tbody>\n    <tr>\n      <th>0</th>\n      <td>NaN</td>\n      <td>NaN</td>\n      <td>NaN</td>\n      <td>NaN</td>\n      <td>NaN</td>\n      <td>NaN</td>\n      <td>NaN</td>\n      <td>NaN</td>\n      <td>NaN</td>\n      <td>NaN</td>\n      <td>NaN</td>\n      <td>NaN</td>\n      <td>NaN</td>\n      <td>NaN</td>\n    </tr>\n    <tr>\n      <th>1</th>\n      <td>NaN</td>\n      <td>NaN</td>\n      <td>NaN</td>\n      <td>NaN</td>\n      <td>NaN</td>\n      <td>NaN</td>\n      <td>NaN</td>\n      <td>NaN</td>\n      <td>NaN</td>\n      <td>NaN</td>\n      <td>NaN</td>\n      <td>NaN</td>\n      <td>NaN</td>\n      <td>NaN</td>\n    </tr>\n    <tr>\n      <th>2</th>\n      <td>Other</td>\n      <td>NaN</td>\n      <td>NaN</td>\n      <td>NaN</td>\n      <td>NaN</td>\n      <td>NaN</td>\n      <td>NaN</td>\n      <td>NaN</td>\n      <td>NaN</td>\n      <td>NaN</td>\n      <td>NaN</td>\n      <td>NaN</td>\n      <td>NaN</td>\n      <td>NaN</td>\n    </tr>\n    <tr>\n      <th>3</th>\n      <td>NaN</td>\n      <td>NaN</td>\n      <td>NaN</td>\n      <td>NaN</td>\n      <td>NaN</td>\n      <td>NaN</td>\n      <td>NaN</td>\n      <td>NaN</td>\n      <td>NaN</td>\n      <td>NaN</td>\n      <td>NaN</td>\n      <td>NaN</td>\n      <td>NaN</td>\n      <td>NaN</td>\n    </tr>\n    <tr>\n      <th>4</th>\n      <td>Desktop applications developer</td>\n      <td>Graphics programming</td>\n      <td>Mobile developer</td>\n      <td>NaN</td>\n      <td>NaN</td>\n      <td>NaN</td>\n      <td>NaN</td>\n      <td>NaN</td>\n      <td>NaN</td>\n      <td>NaN</td>\n      <td>NaN</td>\n      <td>NaN</td>\n      <td>NaN</td>\n      <td>NaN</td>\n    </tr>\n  </tbody>\n</table>\n</div>"
     },
     "metadata": {},
     "execution_count": 38
    }
   ],
   "source": [
    "test1.head()"
   ]
  },
  {
   "cell_type": "code",
   "execution_count": null,
   "metadata": {},
   "outputs": [],
   "source": []
  },
  {
   "cell_type": "code",
   "execution_count": null,
   "metadata": {},
   "outputs": [],
   "source": []
  },
  {
   "cell_type": "code",
   "execution_count": null,
   "metadata": {},
   "outputs": [],
   "source": []
  },
  {
   "cell_type": "code",
   "execution_count": null,
   "metadata": {},
   "outputs": [],
   "source": []
  },
  {
   "cell_type": "code",
   "execution_count": null,
   "metadata": {},
   "outputs": [],
   "source": []
  },
  {
   "cell_type": "code",
   "execution_count": 39,
   "metadata": {},
   "outputs": [],
   "source": [
    "def create_dummy_df(df, cols_to_dummy, dummy_na=True):\n",
    "    '''\n",
    "    INPUT:\n",
    "    df - pandas dataframe with categorical variables you want to dummy\n",
    "    cat_cols - list of strings that are associated with names of the categorical columns\n",
    "    dummy_na - Bool holding whether you want to dummy NA vals of categorical columns or not\n",
    "    \n",
    "    OUTPUT:\n",
    "    df - a new dataframe that has the following characteristics:\n",
    "            1. contains all columns that were not specified as categorical\n",
    "            2. removes all the original columns in cat_cols\n",
    "            3. dummy columns for each of the categorical columns in cat_cols\n",
    "            4. if dummy_na is True - it also contains dummy columns for the NaN values\n",
    "            5. Use a prefix of the column name with an underscore (_) for separating \n",
    "    '''\n",
    "    for col in cols_to_dummy:\n",
    "        try:\n",
    "            df = pd.concat([df.drop(col, axis=1), pd.get_dummies(df[col], \n",
    "                                                                 prefix=col, \n",
    "                                                                 prefix_sep='_', \n",
    "                                                                 drop_first=True,\n",
    "                                                                 dummy_na=dummy_na\n",
    "                                                                )], axis=1)\n",
    "        except:\n",
    "            continue\n",
    "\n",
    "    return df"
   ]
  },
  {
   "cell_type": "code",
   "execution_count": 40,
   "metadata": {},
   "outputs": [],
   "source": [
    "#creating labelEncoder\n",
    "def process_y_var_split_data(df, yvar):\n",
    "    df[yvar] = df[yvar].str.replace('<', 'less than ')\n",
    "    df[yvar] = df[yvar].str.replace('>', 'greater than ')\n",
    "    df[yvar] = df[yvar].astype('str')\n",
    "    df = df[df[yvar]!='nan']\n",
    "    \n",
    "    print(df[yvar].value_counts())\n",
    "    le = preprocessing.LabelEncoder()\n",
    "    X = df.drop(columns=[yvar])\n",
    "    y = le.fit_transform(df[yvar])\n",
    "    \n",
    "    return X, y \n"
   ]
  },
  {
   "cell_type": "code",
   "execution_count": 41,
   "metadata": {},
   "outputs": [
    {
     "output_type": "error",
     "ename": "NameError",
     "evalue": "name 'df_2013' is not defined",
     "traceback": [
      "\u001b[0;31m---------------------------------------------------------------------------\u001b[0m",
      "\u001b[0;31mNameError\u001b[0m                                 Traceback (most recent call last)",
      "\u001b[0;32m<ipython-input-41-1dd5a10b20f0>\u001b[0m in \u001b[0;36m<module>\u001b[0;34m\u001b[0m\n\u001b[0;32m----> 1\u001b[0;31m \u001b[0mX_2013\u001b[0m\u001b[0;34m,\u001b[0m \u001b[0my_2013\u001b[0m \u001b[0;34m=\u001b[0m \u001b[0mprocess_y_var_split_data\u001b[0m\u001b[0;34m(\u001b[0m\u001b[0mdf_2013\u001b[0m\u001b[0;34m,\u001b[0m \u001b[0;34m'TotalCompensation'\u001b[0m\u001b[0;34m)\u001b[0m\u001b[0;34m\u001b[0m\u001b[0;34m\u001b[0m\u001b[0m\n\u001b[0m",
      "\u001b[0;31mNameError\u001b[0m: name 'df_2013' is not defined"
     ]
    }
   ],
   "source": [
    "X_2013, y_2013 = process_y_var_split_data(df_2013, 'TotalCompensation')"
   ]
  },
  {
   "cell_type": "code",
   "execution_count": 42,
   "metadata": {},
   "outputs": [
    {
     "output_type": "error",
     "ename": "NameError",
     "evalue": "name 'df_2014' is not defined",
     "traceback": [
      "\u001b[0;31m---------------------------------------------------------------------------\u001b[0m",
      "\u001b[0;31mNameError\u001b[0m                                 Traceback (most recent call last)",
      "\u001b[0;32m<ipython-input-42-118946509184>\u001b[0m in \u001b[0;36m<module>\u001b[0;34m\u001b[0m\n\u001b[0;32m----> 1\u001b[0;31m \u001b[0mX_2014\u001b[0m\u001b[0;34m,\u001b[0m \u001b[0my_2014\u001b[0m \u001b[0;34m=\u001b[0m \u001b[0mprocess_y_var_split_data\u001b[0m\u001b[0;34m(\u001b[0m\u001b[0mdf_2014\u001b[0m\u001b[0;34m,\u001b[0m \u001b[0;34m'TotalCompensation'\u001b[0m\u001b[0;34m)\u001b[0m\u001b[0;34m\u001b[0m\u001b[0;34m\u001b[0m\u001b[0m\n\u001b[0m",
      "\u001b[0;31mNameError\u001b[0m: name 'df_2014' is not defined"
     ]
    }
   ],
   "source": [
    "X_2014, y_2014 = process_y_var_split_data(df_2014, 'TotalCompensation')"
   ]
  },
  {
   "cell_type": "code",
   "execution_count": 43,
   "metadata": {},
   "outputs": [
    {
     "output_type": "error",
     "ename": "NameError",
     "evalue": "name 'df_2015' is not defined",
     "traceback": [
      "\u001b[0;31m---------------------------------------------------------------------------\u001b[0m",
      "\u001b[0;31mNameError\u001b[0m                                 Traceback (most recent call last)",
      "\u001b[0;32m<ipython-input-43-7e863f1c5a80>\u001b[0m in \u001b[0;36m<module>\u001b[0;34m\u001b[0m\n\u001b[0;32m----> 1\u001b[0;31m \u001b[0mX_2015\u001b[0m\u001b[0;34m,\u001b[0m \u001b[0my_2015\u001b[0m \u001b[0;34m=\u001b[0m \u001b[0mprocess_y_var_split_data\u001b[0m\u001b[0;34m(\u001b[0m\u001b[0mdf_2015\u001b[0m\u001b[0;34m,\u001b[0m \u001b[0;34m'Compensation'\u001b[0m\u001b[0;34m)\u001b[0m\u001b[0;34m\u001b[0m\u001b[0;34m\u001b[0m\u001b[0m\n\u001b[0m",
      "\u001b[0;31mNameError\u001b[0m: name 'df_2015' is not defined"
     ]
    }
   ],
   "source": [
    "X_2015, y_2015 = process_y_var_split_data(df_2015, 'Compensation')"
   ]
  },
  {
   "cell_type": "code",
   "execution_count": 44,
   "metadata": {},
   "outputs": [],
   "source": [
    "# Split dataset into training set and test set\n",
    "def compare_classifiers(X, y):\n",
    "    X_train, X_test, y_train, y_test = train_test_split(X, y, test_size=0.3,random_state=42) # 70% training and 30% test\n",
    "\n",
    "\n",
    "    #Create a Gaussian Classifier\n",
    "    gnb = GaussianNB()\n",
    "\n",
    "    #Train the model using the training sets\n",
    "    gnb.fit(X_train, y_train)\n",
    "\n",
    "    #Predict the response for test dataset\n",
    "    y_pred_gnb = gnb.predict(X_test)\n",
    "\n",
    "    # Logistic Regression Classifier\n",
    "    logreg = LogisticRegression()\n",
    "\n",
    "    #Train the model using the training sets\n",
    "    logreg.fit(X_train, y_train)\n",
    "\n",
    "    #Predict the response for test dataset\n",
    "    y_pred_lr = logreg.predict(X_test)\n",
    "\n",
    "    # Random Forest Classifier\n",
    "    rf = RandomForestClassifier()\n",
    "\n",
    "    #Train the model using the training sets\n",
    "    rf.fit(X_train, y_train)\n",
    "\n",
    "    #Predict the response for test dataset\n",
    "    y_pred_rf = rf.predict(X_test)\n",
    "\n",
    "    # Adaboost Classifier\n",
    "    ada = AdaBoostClassifier()\n",
    "\n",
    "    #Train the model using the training sets\n",
    "    ada.fit(X_train, y_train)\n",
    "\n",
    "    #Predict the response for test dataset\n",
    "    y_pred_ada = ada.predict(X_test)\n",
    "\n",
    "    print(\"GNB Accuracy:\",metrics.accuracy_score(y_test, y_pred_gnb))\n",
    "\n",
    "    print(\"Logistic Regression Accuracy:\",metrics.accuracy_score(y_test, y_pred_lr))\n",
    "\n",
    "    print(\"Random Forest Accuracy:\",metrics.accuracy_score(y_test, y_pred_rf))\n",
    "\n",
    "    print(\"AdaBoost Accuracy:\",metrics.accuracy_score(y_test, y_pred_ada))\n"
   ]
  },
  {
   "cell_type": "code",
   "execution_count": 45,
   "metadata": {},
   "outputs": [],
   "source": [
    "# Split dataset into training set and test set\n",
    "def compare_classifiers(X, y):\n",
    "    X_train, X_test, y_train, y_test = train_test_split(X, y, test_size=0.3,random_state=42) # 70% training and 30% test\n",
    "\n",
    "    #Create a Gaussian Classifier\n",
    "    gnb = GaussianNB()\n",
    "\n",
    "    #Train the model using the training sets\n",
    "    gnb.fit(X_train, y_train)\n",
    "\n",
    "    #Predict the response for test dataset\n",
    "    y_pred_gnb = gnb.predict(X_test)\n",
    "\n",
    "    # Logistic Regression Classifier\n",
    "    logreg = LogisticRegression()\n",
    "\n",
    "    #Train the model using the training sets\n",
    "    logreg.fit(X_train, y_train)\n",
    "\n",
    "    #Predict the response for test dataset\n",
    "    y_pred_lr = logreg.predict(X_test)\n",
    "\n",
    "    # Random Forest Classifier\n",
    "    rf = RandomForestClassifier()\n",
    "\n",
    "    #Train the model using the training sets\n",
    "    rf.fit(X_train, y_train)\n",
    "\n",
    "    #Predict the response for test dataset\n",
    "    y_pred_rf = rf.predict(X_test)\n",
    "\n",
    "    # Adaboost Classifier\n",
    "    ada = AdaBoostClassifier()\n",
    "\n",
    "    #Train the model using the training sets\n",
    "    ada.fit(X_train, y_train)\n",
    "\n",
    "    #Predict the response for test dataset\n",
    "    y_pred_ada = ada.predict(X_test)\n",
    "\n",
    "    print(\"GNB Accuracy:\",metrics.accuracy_score(y_test, y_pred_gnb))\n",
    "\n",
    "    print(\"Logistic Regression Accuracy:\",metrics.accuracy_score(y_test, y_pred_lr))\n",
    "\n",
    "    print(\"Random Forest Accuracy:\",metrics.accuracy_score(y_test, y_pred_rf))\n",
    "\n",
    "    print(\"AdaBoost Accuracy:\",metrics.accuracy_score(y_test, y_pred_ada))"
   ]
  },
  {
   "cell_type": "code",
   "execution_count": 46,
   "metadata": {},
   "outputs": [
    {
     "output_type": "error",
     "ename": "NameError",
     "evalue": "name 'X_2014' is not defined",
     "traceback": [
      "\u001b[0;31m---------------------------------------------------------------------------\u001b[0m",
      "\u001b[0;31mNameError\u001b[0m                                 Traceback (most recent call last)",
      "\u001b[0;32m<ipython-input-46-bea758e5dfb4>\u001b[0m in \u001b[0;36m<module>\u001b[0;34m\u001b[0m\n\u001b[0;32m----> 1\u001b[0;31m \u001b[0mcompare_classifiers\u001b[0m\u001b[0;34m(\u001b[0m\u001b[0mX_2014\u001b[0m\u001b[0;34m,\u001b[0m \u001b[0my_2014\u001b[0m\u001b[0;34m)\u001b[0m\u001b[0;34m\u001b[0m\u001b[0;34m\u001b[0m\u001b[0m\n\u001b[0m",
      "\u001b[0;31mNameError\u001b[0m: name 'X_2014' is not defined"
     ]
    }
   ],
   "source": [
    "compare_classifiers(X_2014, y_2014)"
   ]
  },
  {
   "cell_type": "code",
   "execution_count": 47,
   "metadata": {},
   "outputs": [
    {
     "output_type": "error",
     "ename": "NameError",
     "evalue": "name 'X_2015' is not defined",
     "traceback": [
      "\u001b[0;31m---------------------------------------------------------------------------\u001b[0m",
      "\u001b[0;31mNameError\u001b[0m                                 Traceback (most recent call last)",
      "\u001b[0;32m<ipython-input-47-2beea2202b8a>\u001b[0m in \u001b[0;36m<module>\u001b[0;34m\u001b[0m\n\u001b[0;32m----> 1\u001b[0;31m \u001b[0mcompare_classifiers\u001b[0m\u001b[0;34m(\u001b[0m\u001b[0mX_2015\u001b[0m\u001b[0;34m,\u001b[0m \u001b[0my_2015\u001b[0m\u001b[0;34m)\u001b[0m\u001b[0;34m\u001b[0m\u001b[0;34m\u001b[0m\u001b[0m\n\u001b[0m",
      "\u001b[0;31mNameError\u001b[0m: name 'X_2015' is not defined"
     ]
    }
   ],
   "source": [
    "compare_classifiers(X_2015, y_2015)"
   ]
  },
  {
   "cell_type": "code",
   "execution_count": 48,
   "metadata": {},
   "outputs": [],
   "source": [
    "# pp.pprint(crd.column_name_map_2014)"
   ]
  },
  {
   "cell_type": "code",
   "execution_count": 49,
   "metadata": {},
   "outputs": [],
   "source": [
    "# pp.pprint(list(df_2014.columns))"
   ]
  },
  {
   "cell_type": "code",
   "execution_count": 50,
   "metadata": {},
   "outputs": [],
   "source": [
    "def plot_value_counts(df, col, plot_title):\n",
    "    status_vals = df[col].value_counts() \n",
    "    print(status_vals)\n",
    "    # The below is a bar chart of the proportion of observations in each category of df[col]\n",
    "    (status_vals/df.shape[0]).plot(kind=\"bar\");\n",
    "    plt.title(\"What kind of developer are you?\");"
   ]
  },
  {
   "cell_type": "code",
   "execution_count": 51,
   "metadata": {},
   "outputs": [
    {
     "output_type": "error",
     "ename": "NameError",
     "evalue": "name 'schema' is not defined",
     "traceback": [
      "\u001b[0;31m---------------------------------------------------------------------------\u001b[0m",
      "\u001b[0;31mNameError\u001b[0m                                 Traceback (most recent call last)",
      "\u001b[0;32m<ipython-input-51-cbb0fa65ea7c>\u001b[0m in \u001b[0;36m<module>\u001b[0;34m\u001b[0m\n\u001b[0;32m----> 1\u001b[0;31m \u001b[0;32mdef\u001b[0m \u001b[0mget_description\u001b[0m\u001b[0;34m(\u001b[0m\u001b[0mcolumn_name\u001b[0m\u001b[0;34m,\u001b[0m \u001b[0mschema\u001b[0m\u001b[0;34m=\u001b[0m\u001b[0mschema\u001b[0m\u001b[0;34m)\u001b[0m\u001b[0;34m:\u001b[0m\u001b[0;34m\u001b[0m\u001b[0;34m\u001b[0m\u001b[0m\n\u001b[0m\u001b[1;32m      2\u001b[0m     '''\n\u001b[1;32m      3\u001b[0m     \u001b[0mINPUT\u001b[0m \u001b[0;34m-\u001b[0m \u001b[0mschema\u001b[0m \u001b[0;34m-\u001b[0m \u001b[0mpandas\u001b[0m \u001b[0mdataframe\u001b[0m \u001b[0;32mwith\u001b[0m \u001b[0mthe\u001b[0m \u001b[0mschema\u001b[0m \u001b[0mof\u001b[0m \u001b[0mthe\u001b[0m \u001b[0mdevelopers\u001b[0m \u001b[0msurvey\u001b[0m\u001b[0;34m\u001b[0m\u001b[0;34m\u001b[0m\u001b[0m\n\u001b[1;32m      4\u001b[0m             \u001b[0mcolumn_name\u001b[0m \u001b[0;34m-\u001b[0m \u001b[0mstring\u001b[0m \u001b[0;34m-\u001b[0m \u001b[0mthe\u001b[0m \u001b[0mname\u001b[0m \u001b[0mof\u001b[0m \u001b[0mthe\u001b[0m \u001b[0mcolumn\u001b[0m \u001b[0myou\u001b[0m \u001b[0mwould\u001b[0m \u001b[0mlike\u001b[0m \u001b[0mto\u001b[0m \u001b[0mknow\u001b[0m \u001b[0mabout\u001b[0m\u001b[0;34m\u001b[0m\u001b[0;34m\u001b[0m\u001b[0m\n\u001b[1;32m      5\u001b[0m     \u001b[0mOUTPUT\u001b[0m \u001b[0;34m-\u001b[0m\u001b[0;34m\u001b[0m\u001b[0;34m\u001b[0m\u001b[0m\n",
      "\u001b[0;31mNameError\u001b[0m: name 'schema' is not defined"
     ]
    }
   ],
   "source": [
    "def get_description(column_name, schema=schema):\n",
    "    '''\n",
    "    INPUT - schema - pandas dataframe with the schema of the developers survey\n",
    "            column_name - string - the name of the column you would like to know about\n",
    "    OUTPUT - \n",
    "            desc - string - the description of the column\n",
    "    '''\n",
    "    desc = schema['Question'][schema['Column']==column_name].values[0]\n",
    "    return desc"
   ]
  },
  {
   "cell_type": "code",
   "execution_count": 52,
   "metadata": {},
   "outputs": [
    {
     "output_type": "error",
     "ename": "NameError",
     "evalue": "name 'df' is not defined",
     "traceback": [
      "\u001b[0;31m---------------------------------------------------------------------------\u001b[0m",
      "\u001b[0;31mNameError\u001b[0m                                 Traceback (most recent call last)",
      "\u001b[0;32m<ipython-input-52-e3114d069e21>\u001b[0m in \u001b[0;36m<module>\u001b[0;34m\u001b[0m\n\u001b[1;32m     29\u001b[0m     \u001b[0;32mreturn\u001b[0m \u001b[0mprops_study_df\u001b[0m\u001b[0;34m\u001b[0m\u001b[0;34m\u001b[0m\u001b[0m\n\u001b[1;32m     30\u001b[0m \u001b[0;34m\u001b[0m\u001b[0m\n\u001b[0;32m---> 31\u001b[0;31m \u001b[0mprops_df\u001b[0m \u001b[0;34m=\u001b[0m \u001b[0mclean_and_plot\u001b[0m\u001b[0;34m(\u001b[0m\u001b[0mdf\u001b[0m\u001b[0;34m)\u001b[0m\u001b[0;34m\u001b[0m\u001b[0;34m\u001b[0m\u001b[0m\n\u001b[0m",
      "\u001b[0;31mNameError\u001b[0m: name 'df' is not defined"
     ]
    }
   ],
   "source": [
    "possible_vals = [\"Take online courses\", \"Buy books and work through the exercises\", \n",
    "                 \"None of these\", \"Part-time/evening courses\", \"Return to college\",\n",
    "                 \"Contribute to open source\", \"Conferences/meet-ups\", \"Bootcamp\",\n",
    "                 \"Get a job as a QA tester\", \"Participate in online coding competitions\",\n",
    "                 \"Master's degree\", \"Participate in hackathons\", \"Other\"]\n",
    "\n",
    "def clean_and_plot(df, title='Method of Educating Suggested', plot=True):\n",
    "    '''\n",
    "    INPUT \n",
    "        df - a dataframe holding the CousinEducation column\n",
    "        title - string the title of your plot\n",
    "        axis - axis object\n",
    "        plot - bool providing whether or not you want a plot back\n",
    "        \n",
    "    OUTPUT\n",
    "        study_df - a dataframe with the count of how many individuals\n",
    "        Displays a plot of pretty things related to the CousinEducation column.\n",
    "    '''\n",
    "    study = df['CousinEducation'].value_counts().reset_index()\n",
    "    study.rename(columns={'index': 'method', 'CousinEducation': 'count'}, inplace=True)\n",
    "    study_df = t.total_count(study, 'method', 'count', possible_vals)\n",
    "\n",
    "    study_df.set_index('method', inplace=True)\n",
    "    if plot:\n",
    "        (study_df/study_df.sum()).plot(kind='bar', legend=None);\n",
    "        plt.title(title);\n",
    "        plt.show()\n",
    "    props_study_df = study_df/study_df.sum()\n",
    "    return props_study_df\n",
    "    \n",
    "props_df = clean_and_plot(df)"
   ]
  },
  {
   "cell_type": "code",
   "execution_count": null,
   "metadata": {},
   "outputs": [],
   "source": []
  }
 ],
 "metadata": {
  "kernelspec": {
   "display_name": "Python 3.7.5 64-bit",
   "language": "python",
   "name": "python37564bitc38d59e534f34b659c3486983a929f38"
  },
  "language_info": {
   "codemirror_mode": {
    "name": "ipython",
    "version": 3
   },
   "file_extension": ".py",
   "mimetype": "text/x-python",
   "name": "python",
   "nbconvert_exporter": "python",
   "pygments_lexer": "ipython3",
   "version": "3.7.5-final"
  }
 },
 "nbformat": 4,
 "nbformat_minor": 2
}