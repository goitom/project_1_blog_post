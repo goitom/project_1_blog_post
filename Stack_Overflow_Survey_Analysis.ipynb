{
 "cells": [
  {
   "cell_type": "markdown",
   "metadata": {},
   "source": [
    "### Exploratory Analysis of Stack Overflow Survey Data\n",
    "\n",
    "#### Broadly speaking, we are interested in answering the following questions: \n",
    "\n",
    "1. What relates to remote vs. office work?\n",
    "2. What relates to career satisfaction?\n",
    "3. What relates to attitudes about diversity in the workplace?"
   ]
  },
  {
   "cell_type": "code",
   "execution_count": 1,
   "metadata": {},
   "outputs": [],
   "source": [
    "import numpy as np\n",
    "import pandas as pd\n",
    "import matplotlib.pyplot as plt\n",
    "from sklearn import preprocessing\n",
    "from sklearn.naive_bayes import GaussianNB\n",
    "from sklearn.linear_model import LogisticRegression\n",
    "from sklearn.ensemble import RandomForestClassifier, AdaBoostClassifier\n",
    "from sklearn.model_selection import train_test_split\n",
    "import sklearn.metrics as metrics\n",
    "import seaborn as sns\n",
    "import os\n",
    "import pprint\n",
    "import column_rename_dicts as crd\n",
    "%matplotlib inline\n",
    "pd.options.display.max_seq_items = 500"
   ]
  },
  {
   "cell_type": "code",
   "execution_count": 2,
   "metadata": {},
   "outputs": [],
   "source": [
    "#regex patterns needed in data cleaning\n",
    "date_pattern = r\"^([1-9]|1[012])[- /.]([1-9]|[12][0-9]|3[01])[- /.](19|20)\\d\\d$\""
   ]
  },
  {
   "cell_type": "code",
   "execution_count": 63,
   "metadata": {},
   "outputs": [
    {
     "output_type": "execute_result",
     "data": {
      "text/plain": "Agree                12011\nStrongly agree        8022\nSomewhat agree        7363\nDisagree              2327\nStrongly disagree     1180\nName: DiversityImportant, dtype: int64"
     },
     "metadata": {},
     "execution_count": 63
    }
   ],
   "source": [
    "df_2017['DiversityImportant'].value_counts()"
   ]
  },
  {
   "cell_type": "code",
   "execution_count": null,
   "metadata": {},
   "outputs": [],
   "source": []
  },
  {
   "cell_type": "code",
   "execution_count": null,
   "metadata": {},
   "outputs": [],
   "source": []
  },
  {
   "cell_type": "code",
   "execution_count": 3,
   "metadata": {},
   "outputs": [],
   "source": [
    "#Load Data\n",
    "df_2017 = pd.read_csv('./so-survey-2017/survey_results_public.csv')"
   ]
  },
  {
   "cell_type": "code",
   "execution_count": 4,
   "metadata": {},
   "outputs": [
    {
     "output_type": "execute_result",
     "data": {
      "text/plain": "                                       DeveloperType WebDeveloperType  \\\n0                                                NaN              NaN   \n1                                                NaN              NaN   \n2                                              Other              NaN   \n3                                                NaN              NaN   \n4  Mobile developer; Graphics programming; Deskto...              NaN   \n\n  MobileDeveloperType NonDeveloperType  \n0                 NaN              NaN  \n1                 NaN              NaN  \n2                 NaN              NaN  \n3                 NaN   Data scientist  \n4                 NaN              NaN  ",
      "text/html": "<div>\n<style scoped>\n    .dataframe tbody tr th:only-of-type {\n        vertical-align: middle;\n    }\n\n    .dataframe tbody tr th {\n        vertical-align: top;\n    }\n\n    .dataframe thead th {\n        text-align: right;\n    }\n</style>\n<table border=\"1\" class=\"dataframe\">\n  <thead>\n    <tr style=\"text-align: right;\">\n      <th></th>\n      <th>DeveloperType</th>\n      <th>WebDeveloperType</th>\n      <th>MobileDeveloperType</th>\n      <th>NonDeveloperType</th>\n    </tr>\n  </thead>\n  <tbody>\n    <tr>\n      <th>0</th>\n      <td>NaN</td>\n      <td>NaN</td>\n      <td>NaN</td>\n      <td>NaN</td>\n    </tr>\n    <tr>\n      <th>1</th>\n      <td>NaN</td>\n      <td>NaN</td>\n      <td>NaN</td>\n      <td>NaN</td>\n    </tr>\n    <tr>\n      <th>2</th>\n      <td>Other</td>\n      <td>NaN</td>\n      <td>NaN</td>\n      <td>NaN</td>\n    </tr>\n    <tr>\n      <th>3</th>\n      <td>NaN</td>\n      <td>NaN</td>\n      <td>NaN</td>\n      <td>Data scientist</td>\n    </tr>\n    <tr>\n      <th>4</th>\n      <td>Mobile developer; Graphics programming; Deskto...</td>\n      <td>NaN</td>\n      <td>NaN</td>\n      <td>NaN</td>\n    </tr>\n  </tbody>\n</table>\n</div>"
     },
     "metadata": {},
     "execution_count": 4
    }
   ],
   "source": [
    "df_2017[['DeveloperType','WebDeveloperType','MobileDeveloperType','NonDeveloperType']].head()\n",
    "# pd.__version__"
   ]
  },
  {
   "cell_type": "code",
   "execution_count": 5,
   "metadata": {},
   "outputs": [
    {
     "output_type": "execute_result",
     "data": {
      "text/plain": "CompanyType\nGovernment agency or public school/university                             2451\nI don't know                                                              3233\nI prefer not to answer                                                    1816\nNon-profit/non-governmental organization or private school/university     1225\nPre-series A startup                                                      1288\nPrivately-held limited company, not in startup mode                      16709\nPublicly-traded corporation                                               5871\nSole proprietorship or partnership, not in startup mode                   2831\nSomething else                                                             342\nState-owned company                                                        670\nVenture-funded startup                                                    2387\ndtype: int64"
     },
     "metadata": {},
     "execution_count": 5
    }
   ],
   "source": [
    "df_2017.groupby(['CompanyType']).size()"
   ]
  },
  {
   "cell_type": "markdown",
   "metadata": {},
   "source": [
    "The first few rows of the 2013 and 2014 data indicate that there are date values in the following variables that do not make sense, given the expected variable type:\n",
    "* 'YearsProgram'\n",
    "* 'CompanySize'\n",
    "* 'NumDevsAtCompany'\n",
    "* 'SizeOfTeam'\n",
    "\n",
    "The fact that they are all 2013 dates suggests that they may be some sort of date stamp in lieu of a non-response. Since it is not clear what they ought to be, we will recode them as missing."
   ]
  },
  {
   "cell_type": "code",
   "execution_count": 6,
   "metadata": {},
   "outputs": [],
   "source": [
    "def recode_null_not_null_as_0_1(df, cols_not_to_recode):\n",
    "    '''\n",
    "    This function will split the data frame into columns that can easily be\n",
    "    recoded as 0/1, and those that cannot. More specifically, if a column\n",
    "    has a single non-NaN string value, and the relevant information is already contained\n",
    "    in the column name, then it will convert that column to a 0/1 dummy\n",
    "    '''\n",
    "    \n",
    "    # Split the dataframe into columns that will be operated on, and those that won't\n",
    "    df_recode = df.drop(columns = cols_not_to_recode)\n",
    "    df = df[cols_not_to_recode]\n",
    "    df_recode = df_recode.notnull().astype('int')\n",
    "    df = pd.concat([df, df_recode], axis=1)\n",
    "    return df"
   ]
  },
  {
   "cell_type": "code",
   "execution_count": null,
   "metadata": {},
   "outputs": [],
   "source": [
    "possible_vals = [\"Take online courses\", \"Buy books and work through the exercises\", \n",
    "                 \"None of these\", \"Part-time/evening courses\", \"Return to college\",\n",
    "                 \"Contribute to open source\", \"Conferences/meet-ups\", \"Bootcamp\",\n",
    "                 \"Get a job as a QA tester\", \"Participate in online coding competitions\",\n",
    "                 \"Master's degree\", \"Participate in hackathons\", \"Other\"]\n",
    "\n",
    "def clean_and_plot(df, title='Method of Educating Suggested', plot=True):\n",
    "    '''\n",
    "    INPUT \n",
    "        df - a dataframe holding the CousinEducation column\n",
    "        title - string the title of your plot\n",
    "        axis - axis object\n",
    "        plot - bool providing whether or not you want a plot back\n",
    "        \n",
    "    OUTPUT\n",
    "        study_df - a dataframe with the count of how many individuals\n",
    "        Displays a plot of pretty things related to the CousinEducation column.\n",
    "    '''\n",
    "    study = df['CousinEducation'].value_counts().reset_index()\n",
    "    study.rename(columns={'index': 'method', 'CousinEducation': 'count'}, inplace=True)\n",
    "    study_df = t.total_count(study, 'method', 'count', possible_vals)\n",
    "\n",
    "    study_df.set_index('method', inplace=True)\n",
    "    if plot:\n",
    "        (study_df/study_df.sum()).plot(kind='bar', legend=None);\n",
    "        plt.title(title);\n",
    "        plt.show()\n",
    "    props_study_df = study_df/study_df.sum()\n",
    "    return props_study_df\n",
    "    \n",
    "props_df = clean_and_plot(df)"
   ]
  },
  {
   "cell_type": "code",
   "execution_count": 31,
   "metadata": {},
   "outputs": [],
   "source": [
    "def df_missingness_stats(df, year):\n",
    "    df.name = year + ' data'\n",
    "    print('Number of Rows in {}: {}'.format(df.name, df.shape[0]))\n",
    "    print('Number of Columns in {}: {}'.format(df.name, df.shape[1]))\n",
    "    print('Number of Columns in {} with no missing values: {}'.format(df.name, len(set(df.columns[~df.isnull().any()]))))\n",
    "    print('Number of Columns in {} with > 75% missing values: {}'.format(df.name, \n",
    "                                                                         len(set(df.columns[df.isnull().sum()/len(df) > .75]))))\n",
    "    print('Number of Columns in {} with all missing values: {}'.format(df.name, \n",
    "                                                                         len(set(df.columns[df.isnull().sum()/len(df) == 1]))))\n",
    "    print('Columns in {} with no missing values: {}'.format(df.name, \n",
    "                                                            set(df.columns[~df.isnull().any()])))\n",
    "    print('Columns in {} with > 75% missing values: {}'.format(df.name, \n",
    "                                                               set(df.columns[df.isnull().sum()/len(df) > .75])))"
   ]
  },
  {
   "cell_type": "code",
   "execution_count": 32,
   "metadata": {},
   "outputs": [
    {
     "output_type": "stream",
     "name": "stdout",
     "text": "Number of Rows in 2017 data: 51392\nNumber of Columns in 2017 data: 154\nNumber of Columns in 2017 data with no missing values: 7\nNumber of Columns in 2017 data with > 75% missing values: 14\nNumber of Columns in 2017 data with all missing values: 0\nColumns in 2017 data with no missing values: {'ProgramHobby', 'Professional', 'EmploymentStatus', 'Respondent', 'FormalEducation', 'Country', 'University'}\nColumns in 2017 data with > 75% missing values: {'ExCoder10Years', 'ExpectedSalary', 'ExCoderReturn', 'ExCoderWillNotCode', 'TimeAfterBootcamp', 'MobileDeveloperType', 'WebDeveloperType', 'NonDeveloperType', 'ExCoderNotForMe', 'ExCoderSkills', 'ExCoderBelonged', 'ExCoderBalance', 'YearsCodedJobPast', 'ExCoderActive'}\n"
    }
   ],
   "source": [
    "df_missingness_stats(df_2017, '2017')"
   ]
  },
  {
   "cell_type": "code",
   "execution_count": 33,
   "metadata": {},
   "outputs": [
    {
     "output_type": "execute_result",
     "data": {
      "text/plain": "Professional developer                                  36131\nStudent                                                  8224\nProfessional non-developer who sometimes writes code     5140\nUsed to be a professional developer                       983\nNone of these                                             914\nName: Professional, dtype: int64"
     },
     "metadata": {},
     "execution_count": 33
    }
   ],
   "source": [
    "df_2017['Professional'].value_counts()"
   ]
  },
  {
   "cell_type": "code",
   "execution_count": 34,
   "metadata": {},
   "outputs": [
    {
     "output_type": "execute_result",
     "data": {
      "text/plain": "Yes, I program as a hobby                    24801\nYes, both                                    13756\nNo                                            9787\nYes, I contribute to open source projects     3048\nName: ProgramHobby, dtype: int64"
     },
     "metadata": {},
     "execution_count": 34
    }
   ],
   "source": [
    "df_2017['ProgramHobby'].value_counts()"
   ]
  },
  {
   "cell_type": "code",
   "execution_count": 35,
   "metadata": {},
   "outputs": [
    {
     "output_type": "execute_result",
     "data": {
      "text/plain": "No                     37543\nYes, full-time          9369\nYes, part-time          3352\nI prefer not to say     1128\nName: University, dtype: int64"
     },
     "metadata": {},
     "execution_count": 35
    }
   ],
   "source": [
    "df_2017['University'].value_counts()"
   ]
  },
  {
   "cell_type": "code",
   "execution_count": 36,
   "metadata": {},
   "outputs": [
    {
     "output_type": "execute_result",
     "data": {
      "text/plain": "Employed full-time                                      36148\nIndependent contractor, freelancer, or self-employed     5233\nEmployed part-time                                       3180\nNot employed, and not looking for work                   2791\nNot employed, but looking for work                       2786\nI prefer not to say                                      1086\nRetired                                                   168\nName: EmploymentStatus, dtype: int64"
     },
     "metadata": {},
     "execution_count": 36
    }
   ],
   "source": [
    "df_2017['EmploymentStatus'].value_counts()"
   ]
  },
  {
   "cell_type": "code",
   "execution_count": 37,
   "metadata": {},
   "outputs": [
    {
     "output_type": "execute_result",
     "data": {
      "text/plain": "Bachelor's degree                                                    21609\nMaster's degree                                                      11141\nSome college/university study without earning a bachelor's degree     8129\nSecondary school                                                      5908\nDoctoral degree                                                       1308\nI prefer not to answer                                                1109\nPrimary/elementary school                                             1047\nProfessional degree                                                    715\nI never completed any formal education                                 426\nName: FormalEducation, dtype: int64"
     },
     "metadata": {},
     "execution_count": 37
    }
   ],
   "source": [
    "df_2017['FormalEducation'].value_counts()"
   ]
  },
  {
   "cell_type": "code",
   "execution_count": 38,
   "metadata": {},
   "outputs": [
    {
     "output_type": "execute_result",
     "data": {
      "text/plain": "Computer science or software engineering                        21409\nComputer engineering or electrical/electronics engineering       4364\nComputer programming or Web development                          3883\nInformation technology, networking, or system administration     2140\nA natural science                                                1865\nA non-computer-focused engineering discipline                    1789\nMathematics or statistics                                        1648\nSomething else                                                   1060\nA humanities discipline                                           901\nA business discipline                                             900\nManagement information systems                                    654\nFine arts or performing arts                                      646\nA social science                                                  633\nI never declared a major                                          592\nPsychology                                                        215\nA health science                                                  142\nName: MajorUndergrad, dtype: int64"
     },
     "metadata": {},
     "execution_count": 38
    }
   ],
   "source": [
    "df_2017['MajorUndergrad'].value_counts()"
   ]
  },
  {
   "cell_type": "code",
   "execution_count": 39,
   "metadata": {},
   "outputs": [
    {
     "output_type": "execute_result",
     "data": {
      "text/plain": "A few days each month                                      15454\nNever                                                      13975\nAll or almost all the time (I'm full-time remote)           4905\nLess than half the time, but at least one day each week     4147\nMore than half, but not all, the time                       1909\nIt's complicated                                            1849\nAbout half the time                                         1769\nName: HomeRemote, dtype: int64"
     },
     "metadata": {},
     "execution_count": 39
    }
   ],
   "source": [
    "df_2017['HomeRemote'].value_counts()"
   ]
  },
  {
   "cell_type": "code",
   "execution_count": 40,
   "metadata": {},
   "outputs": [
    {
     "output_type": "execute_result",
     "data": {
      "text/plain": "20 to 99 employees          8587\n100 to 499 employees        7274\n10,000 or more employees    5680\n10 to 19 employees          4103\n1,000 to 4,999 employees    3831\nFewer than 10 employees     3807\n500 to 999 employees        2486\n5,000 to 9,999 employees    1604\nI don't know                 869\nI prefer not to answer       681\nName: CompanySize, dtype: int64"
     },
     "metadata": {},
     "execution_count": 40
    }
   ],
   "source": [
    "df_2017['CompanySize'].value_counts()"
   ]
  },
  {
   "cell_type": "code",
   "execution_count": 55,
   "metadata": {},
   "outputs": [
    {
     "output_type": "execute_result",
     "data": {
      "text/plain": "Privately-held limited company, not in startup mode                      16709\nPublicly-traded corporation                                               5871\nI don't know                                                              3233\nSole proprietorship or partnership, not in startup mode                   2831\nGovernment agency or public school/university                             2451\nVenture-funded startup                                                    2387\nI prefer not to answer                                                    1816\nPre-series A startup                                                      1288\nNon-profit/non-governmental organization or private school/university     1225\nState-owned company                                                        670\nSomething else                                                             342\nName: CompanyType, dtype: int64"
     },
     "metadata": {},
     "execution_count": 55
    }
   ],
   "source": [
    "df_2017['CompanyType'].value_counts()"
   ]
  },
  {
   "cell_type": "code",
   "execution_count": 56,
   "metadata": {},
   "outputs": [
    {
     "output_type": "execute_result",
     "data": {
      "text/plain": "20 or more years    8817\n4 to 5 years        3865\n3 to 4 years        3701\n5 to 6 years        3572\n2 to 3 years        3251\n9 to 10 years       3197\n6 to 7 years        2869\n1 to 2 years        2773\n7 to 8 years        2466\n10 to 11 years      2178\n14 to 15 years      2011\n8 to 9 years        1910\n15 to 16 years      1669\nLess than a year    1484\n11 to 12 years      1389\n12 to 13 years      1307\n13 to 14 years      1092\n16 to 17 years      1046\n19 to 20 years      1021\n17 to 18 years       879\n18 to 19 years       648\nName: YearsProgram, dtype: int64"
     },
     "metadata": {},
     "execution_count": 56
    }
   ],
   "source": [
    "df_2017['YearsProgram'].value_counts()"
   ]
  },
  {
   "cell_type": "code",
   "execution_count": 57,
   "metadata": {},
   "outputs": [
    {
     "output_type": "execute_result",
     "data": {
      "text/plain": "1 to 2 years        5289\n2 to 3 years        4767\n3 to 4 years        4003\n4 to 5 years        3405\n20 or more years    3067\nLess than a year    3034\n5 to 6 years        2990\n9 to 10 years       1956\n6 to 7 years        1912\n10 to 11 years      1678\n7 to 8 years        1638\n8 to 9 years        1287\n15 to 16 years       845\n14 to 15 years       840\n11 to 12 years       838\n12 to 13 years       741\n16 to 17 years       694\n17 to 18 years       545\n13 to 14 years       531\n19 to 20 years       427\n18 to 19 years       403\nName: YearsCodedJob, dtype: int64"
     },
     "metadata": {},
     "execution_count": 57
    }
   ],
   "source": [
    "df_2017['YearsCodedJob'].value_counts()"
   ]
  },
  {
   "cell_type": "code",
   "execution_count": 58,
   "metadata": {},
   "outputs": [
    {
     "output_type": "execute_result",
     "data": {
      "text/plain": "20 or more years    154\n1 to 2 years         80\n2 to 3 years         78\n4 to 5 years         66\n3 to 4 years         65\n9 to 10 years        59\nLess than a year     57\n10 to 11 years       50\n5 to 6 years         48\n7 to 8 years         46\n15 to 16 years       42\n14 to 15 years       39\n6 to 7 years         30\n11 to 12 years       28\n8 to 9 years         28\n19 to 20 years       23\n12 to 13 years       20\n16 to 17 years       19\n17 to 18 years       19\n13 to 14 years       17\n18 to 19 years        6\nName: YearsCodedJobPast, dtype: int64"
     },
     "metadata": {},
     "execution_count": 58
    }
   ],
   "source": [
    "df_2017['YearsCodedJobPast'].value_counts()"
   ]
  },
  {
   "cell_type": "code",
   "execution_count": 61,
   "metadata": {},
   "outputs": [
    {
     "output_type": "execute_result",
     "data": {
      "text/plain": "Web developer                                                                                                                                                                                                                                                                       10683\nWeb developer; Desktop applications developer                                                                                                                                                                                                                                        1849\nMobile developer                                                                                                                                                                                                                                                                     1556\nWeb developer; Mobile developer                                                                                                                                                                                                                                                      1503\nDesktop applications developer                                                                                                                                                                                                                                                       1433\nOther                                                                                                                                                                                                                                                                                1174\nWeb developer; Mobile developer; Desktop applications developer                                                                                                                                                                                                                       754\nWeb developer; DevOps specialist                                                                                                                                                                                                                                                      713\nEmbedded applications/devices developer                                                                                                                                                                                                                                               664\nWeb developer; Database administrator                                                                                                                                                                                                                                                 505\nDeveloper with a statistics or mathematics background                                                                                                                                                                                                                                 485\nWeb developer; Developer with a statistics or mathematics background                                                                                                                                                                                                                  453\nWeb developer; Desktop applications developer; Database administrator                                                                                                                                                                                                                 381\nWeb developer; Database administrator; Systems administrator                                                                                                                                                                                                                          295\nWeb developer; Systems administrator                                                                                                                                                                                                                                                  279\nWeb developer; Other                                                                                                                                                                                                                                                                  276\nData scientist                                                                                                                                                                                                                                                                        249\nMobile developer; Desktop applications developer                                                                                                                                                                                                                                      244\nEmbedded applications/devices developer; Desktop applications developer                                                                                                                                                                                                               228\nWeb developer; Systems administrator; DevOps specialist                                                                                                                                                                                                                               226\nWeb developer; Database administrator; Systems administrator; DevOps specialist                                                                                                                                                                                                       205\nWeb developer; Graphic designer                                                                                                                                                                                                                                                       204\nWeb developer; Data scientist                                                                                                                                                                                                                                                         198\nDevOps specialist                                                                                                                                                                                                                                                                     192\nWeb developer; Developer with a statistics or mathematics background; Desktop applications developer                                                                                                                                                                                  183\nWeb developer; Desktop applications developer; DevOps specialist                                                                                                                                                                                                                      178\nWeb developer; Desktop applications developer; Database administrator; Systems administrator                                                                                                                                                                                          161\nDeveloper with a statistics or mathematics background; Desktop applications developer                                                                                                                                                                                                 147\nWeb developer; Embedded applications/devices developer; Desktop applications developer                                                                                                                                                                                                141\nWeb developer; Mobile developer; Desktop applications developer; Database administrator                                                                                                                                                                                               138\n                                                                                                                                                                                                                                                                                    ...  \nWeb developer; Graphics programming; Desktop applications developer; Systems administrator; Other                                                                                                                                                                                       1\nWeb developer; Data scientist; Systems administrator; DevOps specialist; Other                                                                                                                                                                                                          1\nEmbedded applications/devices developer; Machine learning specialist; Developer with a statistics or mathematics background; Quality assurance engineer                                                                                                                                 1\nMobile developer; Embedded applications/devices developer; Machine learning specialist; Developer with a statistics or mathematics background; Data scientist; Graphic designer; Desktop applications developer; Database administrator; Systems administrator                          1\nWeb developer; Embedded applications/devices developer; Data scientist; Graphic designer; Desktop applications developer; Database administrator; Systems administrator; DevOps specialist; Other                                                                                       1\nWeb developer; Graphics programming; Machine learning specialist; Developer with a statistics or mathematics background; Database administrator                                                                                                                                         1\nWeb developer; Embedded applications/devices developer; Database administrator; Systems administrator; Quality assurance engineer                                                                                                                                                       1\nWeb developer; Mobile developer; Graphics programming; Developer with a statistics or mathematics background; Data scientist; Graphic designer; Desktop applications developer; Database administrator; Systems administrator; DevOps specialist; Quality assurance engineer            1\nWeb developer; Embedded applications/devices developer; Graphic designer; Desktop applications developer; Systems administrator                                                                                                                                                         1\nWeb developer; Mobile developer; Embedded applications/devices developer; Graphics programming; Developer with a statistics or mathematics background; Data scientist; Desktop applications developer; Database administrator; Systems administrator                                    1\nEmbedded applications/devices developer; Machine learning specialist; Desktop applications developer; Other                                                                                                                                                                             1\nWeb developer; Mobile developer; Data scientist; Desktop applications developer; Quality assurance engineer; Other                                                                                                                                                                      1\nGraphics programming; Machine learning specialist; Desktop applications developer; Systems administrator                                                                                                                                                                                1\nWeb developer; Graphics programming; Desktop applications developer; Quality assurance engineer; Other                                                                                                                                                                                  1\nWeb developer; Mobile developer; Embedded applications/devices developer; Graphics programming; Developer with a statistics or mathematics background; Graphic designer; Desktop applications developer; Database administrator; Systems administrator                                  1\nGraphics programming; DevOps specialist; Other                                                                                                                                                                                                                                          1\nWeb developer; Graphics programming; Machine learning specialist; Developer with a statistics or mathematics background; Graphic designer; Desktop applications developer; DevOps specialist                                                                                            1\nWeb developer; Graphics programming; Database administrator; Systems administrator; Quality assurance engineer                                                                                                                                                                          1\nEmbedded applications/devices developer; Graphics programming; Developer with a statistics or mathematics background; Graphic designer; Systems administrator                                                                                                                           1\nWeb developer; Mobile developer; Embedded applications/devices developer; Desktop applications developer; Systems administrator; Other                                                                                                                                                  1\nWeb developer; Mobile developer; Embedded applications/devices developer; Machine learning specialist; Data scientist; Desktop applications developer; Database administrator; Systems administrator; DevOps specialist                                                                 1\nWeb developer; Embedded applications/devices developer; Graphics programming; Graphic designer; Desktop applications developer; Database administrator; Systems administrator                                                                                                           1\nWeb developer; Mobile developer; Embedded applications/devices developer; Graphics programming; Developer with a statistics or mathematics background; Desktop applications developer; Database administrator; Systems administrator; DevOps specialist                                 1\nMachine learning specialist; Data scientist; Desktop applications developer; Database administrator; DevOps specialist                                                                                                                                                                  1\nData scientist; Graphic designer; Systems administrator; DevOps specialist                                                                                                                                                                                                              1\nWeb developer; Mobile developer; Quality assurance engineer; Other                                                                                                                                                                                                                      1\nMobile developer; Embedded applications/devices developer; Graphics programming; Machine learning specialist; Developer with a statistics or mathematics background; Data scientist; Graphic designer; Desktop applications developer; Database administrator; DevOps specialist        1\nWeb developer; Mobile developer; Graphics programming; Machine learning specialist; Desktop applications developer                                                                                                                                                                      1\nWeb developer; Machine learning specialist; Developer with a statistics or mathematics background; Data scientist; Desktop applications developer; Systems administrator; DevOps specialist; Quality assurance engineer                                                                 1\nMobile developer; Embedded applications/devices developer; Graphic designer; Desktop applications developer                                                                                                                                                                             1\nName: DeveloperType, Length: 1823, dtype: int64"
     },
     "metadata": {},
     "execution_count": 61
    }
   ],
   "source": [
    "df_2017['DeveloperType'].value_counts()"
   ]
  },
  {
   "cell_type": "code",
   "execution_count": 41,
   "metadata": {},
   "outputs": [],
   "source": [
    "def create_dummy_df(df, cols_to_dummy, dummy_na=True):\n",
    "    '''\n",
    "    INPUT:\n",
    "    df - pandas dataframe with categorical variables you want to dummy\n",
    "    cat_cols - list of strings that are associated with names of the categorical columns\n",
    "    dummy_na - Bool holding whether you want to dummy NA vals of categorical columns or not\n",
    "    \n",
    "    OUTPUT:\n",
    "    df - a new dataframe that has the following characteristics:\n",
    "            1. contains all columns that were not specified as categorical\n",
    "            2. removes all the original columns in cat_cols\n",
    "            3. dummy columns for each of the categorical columns in cat_cols\n",
    "            4. if dummy_na is True - it also contains dummy columns for the NaN values\n",
    "            5. Use a prefix of the column name with an underscore (_) for separating \n",
    "    '''\n",
    "    for col in cols_to_dummy:\n",
    "        try:\n",
    "            df = pd.concat([df.drop(col, axis=1), pd.get_dummies(df[col], \n",
    "                                                                 prefix=col, \n",
    "                                                                 prefix_sep='_', \n",
    "                                                                 drop_first=True,\n",
    "                                                                 dummy_na=dummy_na\n",
    "                                                                )], axis=1)\n",
    "        except:\n",
    "            continue\n",
    "\n",
    "    return df"
   ]
  },
  {
   "cell_type": "code",
   "execution_count": 42,
   "metadata": {},
   "outputs": [],
   "source": [
    "#creating labelEncoder\n",
    "def process_y_var_split_data(df, yvar):\n",
    "    df[yvar] = df[yvar].str.replace('<', 'less than ')\n",
    "    df[yvar] = df[yvar].str.replace('>', 'greater than ')\n",
    "    df[yvar] = df[yvar].astype('str')\n",
    "    df = df[df[yvar]!='nan']\n",
    "    \n",
    "    print(df[yvar].value_counts())\n",
    "    le = preprocessing.LabelEncoder()\n",
    "    X = df.drop(columns=[yvar])\n",
    "    y = le.fit_transform(df[yvar])\n",
    "    \n",
    "    return X, y \n"
   ]
  },
  {
   "cell_type": "code",
   "execution_count": 43,
   "metadata": {},
   "outputs": [
    {
     "output_type": "error",
     "ename": "NameError",
     "evalue": "name 'df_2013' is not defined",
     "traceback": [
      "\u001b[0;31m---------------------------------------------------------------------------\u001b[0m",
      "\u001b[0;31mNameError\u001b[0m                                 Traceback (most recent call last)",
      "\u001b[0;32m<ipython-input-43-1dd5a10b20f0>\u001b[0m in \u001b[0;36m<module>\u001b[0;34m\u001b[0m\n\u001b[0;32m----> 1\u001b[0;31m \u001b[0mX_2013\u001b[0m\u001b[0;34m,\u001b[0m \u001b[0my_2013\u001b[0m \u001b[0;34m=\u001b[0m \u001b[0mprocess_y_var_split_data\u001b[0m\u001b[0;34m(\u001b[0m\u001b[0mdf_2013\u001b[0m\u001b[0;34m,\u001b[0m \u001b[0;34m'TotalCompensation'\u001b[0m\u001b[0;34m)\u001b[0m\u001b[0;34m\u001b[0m\u001b[0;34m\u001b[0m\u001b[0m\n\u001b[0m",
      "\u001b[0;31mNameError\u001b[0m: name 'df_2013' is not defined"
     ]
    }
   ],
   "source": [
    "X_2013, y_2013 = process_y_var_split_data(df_2013, 'TotalCompensation')"
   ]
  },
  {
   "cell_type": "code",
   "execution_count": 44,
   "metadata": {},
   "outputs": [
    {
     "output_type": "error",
     "ename": "NameError",
     "evalue": "name 'df_2014' is not defined",
     "traceback": [
      "\u001b[0;31m---------------------------------------------------------------------------\u001b[0m",
      "\u001b[0;31mNameError\u001b[0m                                 Traceback (most recent call last)",
      "\u001b[0;32m<ipython-input-44-118946509184>\u001b[0m in \u001b[0;36m<module>\u001b[0;34m\u001b[0m\n\u001b[0;32m----> 1\u001b[0;31m \u001b[0mX_2014\u001b[0m\u001b[0;34m,\u001b[0m \u001b[0my_2014\u001b[0m \u001b[0;34m=\u001b[0m \u001b[0mprocess_y_var_split_data\u001b[0m\u001b[0;34m(\u001b[0m\u001b[0mdf_2014\u001b[0m\u001b[0;34m,\u001b[0m \u001b[0;34m'TotalCompensation'\u001b[0m\u001b[0;34m)\u001b[0m\u001b[0;34m\u001b[0m\u001b[0;34m\u001b[0m\u001b[0m\n\u001b[0m",
      "\u001b[0;31mNameError\u001b[0m: name 'df_2014' is not defined"
     ]
    }
   ],
   "source": [
    "X_2014, y_2014 = process_y_var_split_data(df_2014, 'TotalCompensation')"
   ]
  },
  {
   "cell_type": "code",
   "execution_count": 45,
   "metadata": {},
   "outputs": [
    {
     "output_type": "error",
     "ename": "NameError",
     "evalue": "name 'df_2015' is not defined",
     "traceback": [
      "\u001b[0;31m---------------------------------------------------------------------------\u001b[0m",
      "\u001b[0;31mNameError\u001b[0m                                 Traceback (most recent call last)",
      "\u001b[0;32m<ipython-input-45-7e863f1c5a80>\u001b[0m in \u001b[0;36m<module>\u001b[0;34m\u001b[0m\n\u001b[0;32m----> 1\u001b[0;31m \u001b[0mX_2015\u001b[0m\u001b[0;34m,\u001b[0m \u001b[0my_2015\u001b[0m \u001b[0;34m=\u001b[0m \u001b[0mprocess_y_var_split_data\u001b[0m\u001b[0;34m(\u001b[0m\u001b[0mdf_2015\u001b[0m\u001b[0;34m,\u001b[0m \u001b[0;34m'Compensation'\u001b[0m\u001b[0;34m)\u001b[0m\u001b[0;34m\u001b[0m\u001b[0;34m\u001b[0m\u001b[0m\n\u001b[0m",
      "\u001b[0;31mNameError\u001b[0m: name 'df_2015' is not defined"
     ]
    }
   ],
   "source": [
    "X_2015, y_2015 = process_y_var_split_data(df_2015, 'Compensation')"
   ]
  },
  {
   "cell_type": "code",
   "execution_count": 46,
   "metadata": {},
   "outputs": [],
   "source": [
    "# Split dataset into training set and test set\n",
    "def compare_classifiers(X, y):\n",
    "    X_train, X_test, y_train, y_test = train_test_split(X, y, test_size=0.3,random_state=42) # 70% training and 30% test\n",
    "\n",
    "\n",
    "    #Create a Gaussian Classifier\n",
    "    gnb = GaussianNB()\n",
    "\n",
    "    #Train the model using the training sets\n",
    "    gnb.fit(X_train, y_train)\n",
    "\n",
    "    #Predict the response for test dataset\n",
    "    y_pred_gnb = gnb.predict(X_test)\n",
    "\n",
    "    # Logistic Regression Classifier\n",
    "    logreg = LogisticRegression()\n",
    "\n",
    "    #Train the model using the training sets\n",
    "    logreg.fit(X_train, y_train)\n",
    "\n",
    "    #Predict the response for test dataset\n",
    "    y_pred_lr = logreg.predict(X_test)\n",
    "\n",
    "    # Random Forest Classifier\n",
    "    rf = RandomForestClassifier()\n",
    "\n",
    "    #Train the model using the training sets\n",
    "    rf.fit(X_train, y_train)\n",
    "\n",
    "    #Predict the response for test dataset\n",
    "    y_pred_rf = rf.predict(X_test)\n",
    "\n",
    "    # Adaboost Classifier\n",
    "    ada = AdaBoostClassifier()\n",
    "\n",
    "    #Train the model using the training sets\n",
    "    ada.fit(X_train, y_train)\n",
    "\n",
    "    #Predict the response for test dataset\n",
    "    y_pred_ada = ada.predict(X_test)\n",
    "\n",
    "    print(\"GNB Accuracy:\",metrics.accuracy_score(y_test, y_pred_gnb))\n",
    "\n",
    "    print(\"Logistic Regression Accuracy:\",metrics.accuracy_score(y_test, y_pred_lr))\n",
    "\n",
    "    print(\"Random Forest Accuracy:\",metrics.accuracy_score(y_test, y_pred_rf))\n",
    "\n",
    "    print(\"AdaBoost Accuracy:\",metrics.accuracy_score(y_test, y_pred_ada))\n"
   ]
  },
  {
   "cell_type": "code",
   "execution_count": 47,
   "metadata": {},
   "outputs": [],
   "source": [
    "# Split dataset into training set and test set\n",
    "def compare_classifiers(X, y):\n",
    "    X_train, X_test, y_train, y_test = train_test_split(X, y, test_size=0.3,random_state=42) # 70% training and 30% test\n",
    "\n",
    "    #Create a Gaussian Classifier\n",
    "    gnb = GaussianNB()\n",
    "\n",
    "    #Train the model using the training sets\n",
    "    gnb.fit(X_train, y_train)\n",
    "\n",
    "    #Predict the response for test dataset\n",
    "    y_pred_gnb = gnb.predict(X_test)\n",
    "\n",
    "    # Logistic Regression Classifier\n",
    "    logreg = LogisticRegression()\n",
    "\n",
    "    #Train the model using the training sets\n",
    "    logreg.fit(X_train, y_train)\n",
    "\n",
    "    #Predict the response for test dataset\n",
    "    y_pred_lr = logreg.predict(X_test)\n",
    "\n",
    "    # Random Forest Classifier\n",
    "    rf = RandomForestClassifier()\n",
    "\n",
    "    #Train the model using the training sets\n",
    "    rf.fit(X_train, y_train)\n",
    "\n",
    "    #Predict the response for test dataset\n",
    "    y_pred_rf = rf.predict(X_test)\n",
    "\n",
    "    # Adaboost Classifier\n",
    "    ada = AdaBoostClassifier()\n",
    "\n",
    "    #Train the model using the training sets\n",
    "    ada.fit(X_train, y_train)\n",
    "\n",
    "    #Predict the response for test dataset\n",
    "    y_pred_ada = ada.predict(X_test)\n",
    "\n",
    "    print(\"GNB Accuracy:\",metrics.accuracy_score(y_test, y_pred_gnb))\n",
    "\n",
    "    print(\"Logistic Regression Accuracy:\",metrics.accuracy_score(y_test, y_pred_lr))\n",
    "\n",
    "    print(\"Random Forest Accuracy:\",metrics.accuracy_score(y_test, y_pred_rf))\n",
    "\n",
    "    print(\"AdaBoost Accuracy:\",metrics.accuracy_score(y_test, y_pred_ada))"
   ]
  },
  {
   "cell_type": "code",
   "execution_count": 48,
   "metadata": {},
   "outputs": [
    {
     "output_type": "error",
     "ename": "NameError",
     "evalue": "name 'X_2014' is not defined",
     "traceback": [
      "\u001b[0;31m---------------------------------------------------------------------------\u001b[0m",
      "\u001b[0;31mNameError\u001b[0m                                 Traceback (most recent call last)",
      "\u001b[0;32m<ipython-input-48-bea758e5dfb4>\u001b[0m in \u001b[0;36m<module>\u001b[0;34m\u001b[0m\n\u001b[0;32m----> 1\u001b[0;31m \u001b[0mcompare_classifiers\u001b[0m\u001b[0;34m(\u001b[0m\u001b[0mX_2014\u001b[0m\u001b[0;34m,\u001b[0m \u001b[0my_2014\u001b[0m\u001b[0;34m)\u001b[0m\u001b[0;34m\u001b[0m\u001b[0;34m\u001b[0m\u001b[0m\n\u001b[0m",
      "\u001b[0;31mNameError\u001b[0m: name 'X_2014' is not defined"
     ]
    }
   ],
   "source": [
    "compare_classifiers(X_2014, y_2014)"
   ]
  },
  {
   "cell_type": "code",
   "execution_count": 49,
   "metadata": {},
   "outputs": [
    {
     "output_type": "error",
     "ename": "NameError",
     "evalue": "name 'X_2015' is not defined",
     "traceback": [
      "\u001b[0;31m---------------------------------------------------------------------------\u001b[0m",
      "\u001b[0;31mNameError\u001b[0m                                 Traceback (most recent call last)",
      "\u001b[0;32m<ipython-input-49-2beea2202b8a>\u001b[0m in \u001b[0;36m<module>\u001b[0;34m\u001b[0m\n\u001b[0;32m----> 1\u001b[0;31m \u001b[0mcompare_classifiers\u001b[0m\u001b[0;34m(\u001b[0m\u001b[0mX_2015\u001b[0m\u001b[0;34m,\u001b[0m \u001b[0my_2015\u001b[0m\u001b[0;34m)\u001b[0m\u001b[0;34m\u001b[0m\u001b[0;34m\u001b[0m\u001b[0m\n\u001b[0m",
      "\u001b[0;31mNameError\u001b[0m: name 'X_2015' is not defined"
     ]
    }
   ],
   "source": [
    "compare_classifiers(X_2015, y_2015)"
   ]
  },
  {
   "cell_type": "code",
   "execution_count": 50,
   "metadata": {},
   "outputs": [],
   "source": [
    "# pp.pprint(crd.column_name_map_2014)"
   ]
  },
  {
   "cell_type": "code",
   "execution_count": 51,
   "metadata": {},
   "outputs": [],
   "source": [
    "# pp.pprint(list(df_2014.columns))"
   ]
  },
  {
   "cell_type": "code",
   "execution_count": 52,
   "metadata": {},
   "outputs": [],
   "source": [
    "def plot_value_counts(df, col, plot_title):\n",
    "    status_vals = df[col].value_counts() \n",
    "    print(status_vals)\n",
    "    # The below is a bar chart of the proportion of observations in each category of df[col]\n",
    "    (status_vals/df.shape[0]).plot(kind=\"bar\");\n",
    "    plt.title(\"What kind of developer are you?\");"
   ]
  },
  {
   "cell_type": "code",
   "execution_count": 53,
   "metadata": {},
   "outputs": [
    {
     "output_type": "error",
     "ename": "NameError",
     "evalue": "name 'schema' is not defined",
     "traceback": [
      "\u001b[0;31m---------------------------------------------------------------------------\u001b[0m",
      "\u001b[0;31mNameError\u001b[0m                                 Traceback (most recent call last)",
      "\u001b[0;32m<ipython-input-53-cbb0fa65ea7c>\u001b[0m in \u001b[0;36m<module>\u001b[0;34m\u001b[0m\n\u001b[0;32m----> 1\u001b[0;31m \u001b[0;32mdef\u001b[0m \u001b[0mget_description\u001b[0m\u001b[0;34m(\u001b[0m\u001b[0mcolumn_name\u001b[0m\u001b[0;34m,\u001b[0m \u001b[0mschema\u001b[0m\u001b[0;34m=\u001b[0m\u001b[0mschema\u001b[0m\u001b[0;34m)\u001b[0m\u001b[0;34m:\u001b[0m\u001b[0;34m\u001b[0m\u001b[0;34m\u001b[0m\u001b[0m\n\u001b[0m\u001b[1;32m      2\u001b[0m     '''\n\u001b[1;32m      3\u001b[0m     \u001b[0mINPUT\u001b[0m \u001b[0;34m-\u001b[0m \u001b[0mschema\u001b[0m \u001b[0;34m-\u001b[0m \u001b[0mpandas\u001b[0m \u001b[0mdataframe\u001b[0m \u001b[0;32mwith\u001b[0m \u001b[0mthe\u001b[0m \u001b[0mschema\u001b[0m \u001b[0mof\u001b[0m \u001b[0mthe\u001b[0m \u001b[0mdevelopers\u001b[0m \u001b[0msurvey\u001b[0m\u001b[0;34m\u001b[0m\u001b[0;34m\u001b[0m\u001b[0m\n\u001b[1;32m      4\u001b[0m             \u001b[0mcolumn_name\u001b[0m \u001b[0;34m-\u001b[0m \u001b[0mstring\u001b[0m \u001b[0;34m-\u001b[0m \u001b[0mthe\u001b[0m \u001b[0mname\u001b[0m \u001b[0mof\u001b[0m \u001b[0mthe\u001b[0m \u001b[0mcolumn\u001b[0m \u001b[0myou\u001b[0m \u001b[0mwould\u001b[0m \u001b[0mlike\u001b[0m \u001b[0mto\u001b[0m \u001b[0mknow\u001b[0m \u001b[0mabout\u001b[0m\u001b[0;34m\u001b[0m\u001b[0;34m\u001b[0m\u001b[0m\n\u001b[1;32m      5\u001b[0m     \u001b[0mOUTPUT\u001b[0m \u001b[0;34m-\u001b[0m\u001b[0;34m\u001b[0m\u001b[0;34m\u001b[0m\u001b[0m\n",
      "\u001b[0;31mNameError\u001b[0m: name 'schema' is not defined"
     ]
    }
   ],
   "source": [
    "def get_description(column_name, schema=schema):\n",
    "    '''\n",
    "    INPUT - schema - pandas dataframe with the schema of the developers survey\n",
    "            column_name - string - the name of the column you would like to know about\n",
    "    OUTPUT - \n",
    "            desc - string - the description of the column\n",
    "    '''\n",
    "    desc = schema['Question'][schema['Column']==column_name].values[0]\n",
    "    return desc"
   ]
  },
  {
   "cell_type": "code",
   "execution_count": 54,
   "metadata": {},
   "outputs": [
    {
     "output_type": "error",
     "ename": "NameError",
     "evalue": "name 'df' is not defined",
     "traceback": [
      "\u001b[0;31m---------------------------------------------------------------------------\u001b[0m",
      "\u001b[0;31mNameError\u001b[0m                                 Traceback (most recent call last)",
      "\u001b[0;32m<ipython-input-54-e3114d069e21>\u001b[0m in \u001b[0;36m<module>\u001b[0;34m\u001b[0m\n\u001b[1;32m     29\u001b[0m     \u001b[0;32mreturn\u001b[0m \u001b[0mprops_study_df\u001b[0m\u001b[0;34m\u001b[0m\u001b[0;34m\u001b[0m\u001b[0m\n\u001b[1;32m     30\u001b[0m \u001b[0;34m\u001b[0m\u001b[0m\n\u001b[0;32m---> 31\u001b[0;31m \u001b[0mprops_df\u001b[0m \u001b[0;34m=\u001b[0m \u001b[0mclean_and_plot\u001b[0m\u001b[0;34m(\u001b[0m\u001b[0mdf\u001b[0m\u001b[0;34m)\u001b[0m\u001b[0;34m\u001b[0m\u001b[0;34m\u001b[0m\u001b[0m\n\u001b[0m",
      "\u001b[0;31mNameError\u001b[0m: name 'df' is not defined"
     ]
    }
   ],
   "source": [
    "possible_vals = [\"Take online courses\", \"Buy books and work through the exercises\", \n",
    "                 \"None of these\", \"Part-time/evening courses\", \"Return to college\",\n",
    "                 \"Contribute to open source\", \"Conferences/meet-ups\", \"Bootcamp\",\n",
    "                 \"Get a job as a QA tester\", \"Participate in online coding competitions\",\n",
    "                 \"Master's degree\", \"Participate in hackathons\", \"Other\"]\n",
    "\n",
    "def clean_and_plot(df, title='Method of Educating Suggested', plot=True):\n",
    "    '''\n",
    "    INPUT \n",
    "        df - a dataframe holding the CousinEducation column\n",
    "        title - string the title of your plot\n",
    "        axis - axis object\n",
    "        plot - bool providing whether or not you want a plot back\n",
    "        \n",
    "    OUTPUT\n",
    "        study_df - a dataframe with the count of how many individuals\n",
    "        Displays a plot of pretty things related to the CousinEducation column.\n",
    "    '''\n",
    "    study = df['CousinEducation'].value_counts().reset_index()\n",
    "    study.rename(columns={'index': 'method', 'CousinEducation': 'count'}, inplace=True)\n",
    "    study_df = t.total_count(study, 'method', 'count', possible_vals)\n",
    "\n",
    "    study_df.set_index('method', inplace=True)\n",
    "    if plot:\n",
    "        (study_df/study_df.sum()).plot(kind='bar', legend=None);\n",
    "        plt.title(title);\n",
    "        plt.show()\n",
    "    props_study_df = study_df/study_df.sum()\n",
    "    return props_study_df\n",
    "    \n",
    "props_df = clean_and_plot(df)"
   ]
  },
  {
   "cell_type": "code",
   "execution_count": null,
   "metadata": {},
   "outputs": [],
   "source": []
  }
 ],
 "metadata": {
  "kernelspec": {
   "display_name": "Python 3.7.5 64-bit",
   "language": "python",
   "name": "python37564bitc38d59e534f34b659c3486983a929f38"
  },
  "language_info": {
   "codemirror_mode": {
    "name": "ipython",
    "version": 3
   },
   "file_extension": ".py",
   "mimetype": "text/x-python",
   "name": "python",
   "nbconvert_exporter": "python",
   "pygments_lexer": "ipython3",
   "version": "3.7.5-final"
  }
 },
 "nbformat": 4,
 "nbformat_minor": 2
}