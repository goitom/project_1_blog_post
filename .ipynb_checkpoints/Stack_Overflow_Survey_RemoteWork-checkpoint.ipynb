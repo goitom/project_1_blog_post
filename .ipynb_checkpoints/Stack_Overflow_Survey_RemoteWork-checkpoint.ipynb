{
 "cells": [
  {
   "cell_type": "markdown",
   "metadata": {},
   "source": [
    "# Analysis of Stack Overflow Survey Responses about Remote Work\n",
    "\n",
    "### Table of Contents\n",
    "1. [Business Understanding](#1.-Business-Understanding)\n",
    "2. [Data Understanding](#2.-Data-Understanding)\n",
    "3. [Prepare Data](#3.-Prepare-Data)"
   ]
  },
  {
   "cell_type": "markdown",
   "metadata": {},
   "source": [
    "### 1. Business Understanding\n",
    "\n",
    "This analysis is motivated by the following business questions:\n",
    "* How does remote vs. office work relate to salary?\n",
    "* How does remote vs. office work relate to job/career satisfaction?\n"
   ]
  },
  {
   "cell_type": "code",
   "execution_count": 1,
   "metadata": {},
   "outputs": [],
   "source": [
    "import numpy as np\n",
    "import pandas as pd\n",
    "import matplotlib.pyplot as plt\n",
    "from sklearn import preprocessing\n",
    "from sklearn.naive_bayes import GaussianNB\n",
    "from sklearn.linear_model import LogisticRegression\n",
    "from sklearn.ensemble import RandomForestClassifier, AdaBoostClassifier\n",
    "from sklearn.model_selection import train_test_split\n",
    "import sklearn.metrics as metrics\n",
    "import seaborn as sns\n",
    "import os\n",
    "import pprint\n",
    "import column_rename_dicts as crd\n",
    "%matplotlib inline\n",
    "pd.options.display.max_seq_items = 500"
   ]
  },
  {
   "cell_type": "code",
   "execution_count": 2,
   "metadata": {},
   "outputs": [],
   "source": [
    "#regex patterns needed in data cleaning\n",
    "date_pattern = r\"^([1-9]|1[012])[- /.]([1-9]|[12][0-9]|3[01])[- /.](19|20)\\d\\d$\""
   ]
  },
  {
   "cell_type": "code",
   "execution_count": 3,
   "metadata": {},
   "outputs": [],
   "source": [
    "#Load Data\n",
    "df_2017 = pd.read_csv('./so-survey-2017/survey_results_public.csv')\n",
    "schema_2017 = pd.read_csv('./so-survey-2017/survey_results_schema.csv')"
   ]
  },
  {
   "cell_type": "code",
   "execution_count": 4,
   "metadata": {},
   "outputs": [],
   "source": [
    "def collapse_cat_and_dummy(value_str, value_list):\n",
    "    '''\n",
    "    INPUT\n",
    "        HomeRemoteStr - a string of one of the values from the column of interest\n",
    "\n",
    "    OUTPUT\n",
    "        return 1 if the string is in value_list\n",
    "        return 0 otherwise\n",
    "    '''\n",
    "    if value_str in value_list:\n",
    "        return 1\n",
    "    else:\n",
    "        return 0 "
   ]
  },
  {
   "cell_type": "code",
   "execution_count": 5,
   "metadata": {},
   "outputs": [],
   "source": [
    "def get_description(column_name, schema=schema_2017):\n",
    "    '''\n",
    "    INPUT - schema - pandas dataframe with the schema of the developers survey\n",
    "            column_name - string - the name of the column you would like to know about\n",
    "    OUTPUT - \n",
    "            desc - string - the description of the column\n",
    "    '''\n",
    "    desc = schema['Question'][schema['Column']==column_name].values[0]\n",
    "    return desc"
   ]
  },
  {
   "cell_type": "code",
   "execution_count": 6,
   "metadata": {},
   "outputs": [],
   "source": [
    "def df_missingness_stats(df, year):\n",
    "    df.name = year + ' data'\n",
    "    print('Number of Rows in {}: {}'.format(df.name, df.shape[0]))\n",
    "    print('Number of Columns in {}: {}'.format(df.name, df.shape[1]))\n",
    "    print('Number of Columns in {} with no missing values: {}'.format(df.name, len(set(df.columns[~df.isnull().any()]))))\n",
    "    print('Number of Columns in {} with > 75% missing values: {}'.format(df.name, \n",
    "                                                                         len(set(df.columns[df.isnull().sum()/len(df) > .75]))))\n",
    "    print('Number of Columns in {} with all missing values: {}'.format(df.name, \n",
    "                                                                         len(set(df.columns[df.isnull().sum()/len(df) == 1]))))\n",
    "    print('Columns in {} with no missing values: {}'.format(df.name, \n",
    "                                                            set(df.columns[~df.isnull().any()])))\n",
    "    print('Columns in {} with > 75% missing values: {}'.format(df.name, \n",
    "                                                               set(df.columns[df.isnull().sum()/len(df) > .75])))"
   ]
  },
  {
   "cell_type": "markdown",
   "metadata": {},
   "source": [
    "### 2. Data Understanding\n",
    "As a first step in answering these questions, we will look at the 2017 Stack \n",
    "Overflow Survey results. For these questions, we focus on the \n",
    "column `HomeRemote`, which corresponds to the following question:\n",
    "\n",
    "> How often do you work from home or remotely?\n",
    "\n",
    "The first question looks at the relationship between `HomeRemote` and \n",
    "`Salary`, which corresponds to the question:\n",
    "\n",
    "> What is your current annual base salary, before taxes, and excluding bonuses, grants, or other compensation?\n",
    "\n",
    "The second question looks at the relationship between `HomeRemote` and two measures of satisfaction at work: `JobSatisfaction` and `CareerSatisfaction` which each ask the respondent to rate on a scale of 1 (least) to 10 (most) their satisfaction with their job and their career, respectively."
   ]
  },
  {
   "cell_type": "markdown",
   "metadata": {},
   "source": [
    "#### How does remote vs. office work relate to salary?"
   ]
  },
  {
   "cell_type": "code",
   "execution_count": 7,
   "metadata": {},
   "outputs": [
    {
     "data": {
      "text/plain": [
       "A few days each month                                      15454\n",
       "Never                                                      13975\n",
       "NaN                                                         7384\n",
       "All or almost all the time (I'm full-time remote)           4905\n",
       "Less than half the time, but at least one day each week     4147\n",
       "More than half, but not all, the time                       1909\n",
       "It's complicated                                            1849\n",
       "About half the time                                         1769\n",
       "Name: HomeRemote, dtype: int64"
      ]
     },
     "execution_count": 7,
     "metadata": {},
     "output_type": "execute_result"
    }
   ],
   "source": [
    "df_2017['HomeRemote'].value_counts(dropna=False)"
   ]
  },
  {
   "cell_type": "code",
   "execution_count": 8,
   "metadata": {},
   "outputs": [
    {
     "data": {
      "text/plain": [
       "Text(0.5, 1.0, 'Frequency of Time Spent Remote Working')"
      ]
     },
     "execution_count": 8,
     "metadata": {},
     "output_type": "execute_result"
    },
    {
     "data": {
      "image/png": "[encoded data removed]",
      "text/plain": [
       "<Figure size 432x288 with 1 Axes>"
      ]
     },
     "metadata": {
      "needs_background": "light"
     },
     "output_type": "display_data"
    }
   ],
   "source": [
    "home_remote_value_counts = df_2017['HomeRemote'].value_counts(dropna=False)\n",
    "(home_remote_value_counts/df_2017.shape[0]).plot(kind=\"bar\")\n",
    "plt.title(\"Frequency of Time Spent Remote Working\")"
   ]
  },
  {
   "cell_type": "code",
   "execution_count": 9,
   "metadata": {},
   "outputs": [],
   "source": [
    "df_2017['HomeRemote_missing'] = df_2017['HomeRemote'].isna()"
   ]
  },
  {
   "cell_type": "code",
   "execution_count": 10,
   "metadata": {},
   "outputs": [
    {
     "data": {
      "text/plain": [
       "0.1436799501867995"
      ]
     },
     "execution_count": 10,
     "metadata": {},
     "output_type": "execute_result"
    }
   ],
   "source": [
    "df_2017['HomeRemote'].isnull().sum()/df_2017.shape[0]"
   ]
  },
  {
   "cell_type": "markdown",
   "metadata": {},
   "source": [
    "### 3. Prepare Data\n",
    "All three of the columns of interest require preparation, since the the columns \n",
    "of interest are categorical, and have missing data."
   ]
  },
  {
   "cell_type": "code",
   "execution_count": 11,
   "metadata": {},
   "outputs": [],
   "source": [
    "# Create different definitions for a remote worker\n",
    "# Strict definition: A remote worker is one that is full-time remote\n",
    "# Lax definition: A remote worker is one that spends at least one\n",
    "# day a week working remotely. \n",
    "# In either case, if are implicitly imputing missing values by treating them \n",
    "# as if they were the modal response (\"A few days each month\"). Both defin\n",
    "remote_worker_strict_list = [\"All or almost all the time (I'm full-time remote)\"]\n",
    "remote_worker_lax_list = [\"All or almost all the time (I'm full-time remote)\", \"Less than half the time, but at least one day each week\", \"More than half, but not all, the time\", \"About half the time\"]"
   ]
  },
  {
   "cell_type": "code",
   "execution_count": 12,
   "metadata": {},
   "outputs": [],
   "source": [
    "# Collapse and dummy HomeRemote and DiversityImportant columns\n",
    "df_2017['RemoteWorker_Strict']=df_2017['HomeRemote'].apply(collapse_cat_and_dummy, args=(remote_worker_strict_list,))\n",
    "df_2017['RemoteWorker_Lax']=df_2017['HomeRemote'].apply(collapse_cat_and_dummy, args=(remote_worker_lax_list,))"
   ]
  },
  {
   "cell_type": "code",
   "execution_count": 13,
   "metadata": {},
   "outputs": [],
   "source": [
    "#Check that function works\n",
    "assert df_2017['RemoteWorker_Strict'].sum() == home_remote_value_counts.filter(items=remote_worker_strict_list).sum()\n",
    "assert df_2017['RemoteWorker_Lax'].sum() == home_remote_value_counts.filter(items=remote_worker_lax_list).sum()"
   ]
  },
  {
   "cell_type": "code",
   "execution_count": 14,
   "metadata": {},
   "outputs": [],
   "source": [
    "remote_strict_1 = df_2017[df_2017['RemoteWorker_Strict'] == 1] # Subset df to only those with RemoteWorker_Strict of 1\n",
    "remote_strict_0 = df_2017[df_2017['RemoteWorker_Strict'] == 0] # Subset df to only those with RemoteWorker_Strict of 0\n"
   ]
  },
  {
   "cell_type": "markdown",
   "metadata": {},
   "source": [
    "#### Inspect Salary Field"
   ]
  },
  {
   "cell_type": "code",
   "execution_count": 15,
   "metadata": {},
   "outputs": [
    {
     "data": {
      "text/plain": [
       "NaN              38501\n",
       "120000.000000      167\n",
       "110000.000000      164\n",
       "100000.000000      155\n",
       "75000.000000       149\n",
       "                 ...  \n",
       "77322.000000         1\n",
       "76095.025984         1\n",
       "14262.132717         1\n",
       "33057.851240         1\n",
       "77700.000000         1\n",
       "Name: Salary, Length: 3050, dtype: int64"
      ]
     },
     "execution_count": 15,
     "metadata": {},
     "output_type": "execute_result"
    }
   ],
   "source": [
    "df_2017['Salary'].value_counts(dropna=False)"
   ]
  },
  {
   "cell_type": "code",
   "execution_count": 16,
   "metadata": {},
   "outputs": [],
   "source": [
    "df_2017['Salary_Imputed'] = df_2017['Salary'].fillna(df_2017['Salary'].mean()) #Fill all missing values with the mean of the column."
   ]
  },
  {
   "cell_type": "code",
   "execution_count": 17,
   "metadata": {},
   "outputs": [
    {
     "data": {
      "image/png": "[encoded data removed]",
      "text/plain": [
       "<Figure size 432x288 with 1 Axes>"
      ]
     },
     "metadata": {
      "needs_background": "light"
     },
     "output_type": "display_data"
    }
   ],
   "source": [
    "df_2017['Salary_Imputed'].plot(kind=\"hist\")\n",
    "plt.show()"
   ]
  },
  {
   "cell_type": "code",
   "execution_count": 18,
   "metadata": {},
   "outputs": [
    {
     "data": {
      "image/png": "[encoded data removed]",
      "text/plain": [
       "<Figure size 432x288 with 1 Axes>"
      ]
     },
     "metadata": {
      "needs_background": "light"
     },
     "output_type": "display_data"
    }
   ],
   "source": [
    "boxplot = sns.boxplot(y='Salary', x='HomeRemote', data=df_2017)\n",
    "boxplot.set_xticklabels(boxplot.get_xticklabels()\n",
    ", rotation=45\n",
    ", horizontalalignment='right')\n",
    "plt.show()"
   ]
  },
  {
   "cell_type": "code",
   "execution_count": 19,
   "metadata": {},
   "outputs": [
    {
     "data": {
      "image/png": "[encoded data removed]",
      "text/plain": [
       "<Figure size 432x288 with 1 Axes>"
      ]
     },
     "metadata": {
      "needs_background": "light"
     },
     "output_type": "display_data"
    }
   ],
   "source": [
    "sns.boxplot(y='Salary', x='RemoteWorker_Strict', data=df_2017)\n",
    "plt.show()\n"
   ]
  },
  {
   "cell_type": "code",
   "execution_count": 20,
   "metadata": {},
   "outputs": [
    {
     "data": {
      "image/png": "[encoded data removed]",
      "text/plain": [
       "<Figure size 432x288 with 1 Axes>"
      ]
     },
     "metadata": {
      "needs_background": "light"
     },
     "output_type": "display_data"
    }
   ],
   "source": [
    "sns.boxplot(y='Salary', x='RemoteWorker_Lax', data=df_2017)\n",
    "plt.show()"
   ]
  },
  {
   "cell_type": "markdown",
   "metadata": {},
   "source": [
    "#### Inspect Job/Career Satisfaction Fields"
   ]
  },
  {
   "cell_type": "code",
   "execution_count": 21,
   "metadata": {},
   "outputs": [
    {
     "data": {
      "text/plain": [
       "NaN     11016\n",
       "8.0      8983\n",
       "7.0      7969\n",
       "9.0      5573\n",
       "6.0      4726\n",
       "10.0     4148\n",
       "5.0      3749\n",
       "4.0      1865\n",
       "3.0      1635\n",
       "2.0       888\n",
       "0.0       467\n",
       "1.0       373\n",
       "Name: JobSatisfaction, dtype: int64"
      ]
     },
     "execution_count": 21,
     "metadata": {},
     "output_type": "execute_result"
    }
   ],
   "source": [
    "df_2017['JobSatisfaction'].value_counts(dropna=False)"
   ]
  },
  {
   "cell_type": "code",
   "execution_count": 22,
   "metadata": {},
   "outputs": [],
   "source": [
    "job_sat_remote_strict_1 = remote_strict_1['JobSatisfaction'].value_counts(dropna=False)/remote_strict_1.shape[0]\n",
    "job_sat_remote_strict_0 = remote_strict_0['JobSatisfaction'].value_counts(dropna=False)/remote_strict_0.shape[0]\n",
    "career_sat_remote_strict_1 = remote_strict_1['CareerSatisfaction'].value_counts(dropna=False)/remote_strict_1.shape[0]\n",
    "career_sat_remote_strict_0 = remote_strict_0['CareerSatisfaction'].value_counts(dropna=False)/remote_strict_0.shape[0]"
   ]
  },
  {
   "cell_type": "code",
   "execution_count": 23,
   "metadata": {},
   "outputs": [
    {
     "data": {
      "text/html": [
       "<style  type=\"text/css\" >\n",
       "    #T_95cf016a_bfc4_11ea_b4c6_acde48001122row0_col2 {\n",
       "            width:  10em;\n",
       "             height:  80%;\n",
       "            background:  linear-gradient(90deg, transparent 56.9%, #5fba7d 56.9%, #5fba7d 57.6%, transparent 57.6%);\n",
       "        }    #T_95cf016a_bfc4_11ea_b4c6_acde48001122row1_col2 {\n",
       "            width:  10em;\n",
       "             height:  80%;\n",
       "            background:  linear-gradient(90deg, transparent 56.7%, #d65f5f 56.7%, #d65f5f 56.9%, transparent 56.9%);\n",
       "        }    #T_95cf016a_bfc4_11ea_b4c6_acde48001122row2_col2 {\n",
       "            width:  10em;\n",
       "             height:  80%;\n",
       "            background:  linear-gradient(90deg, transparent 54.4%, #d65f5f 54.4%, #d65f5f 56.9%, transparent 56.9%);\n",
       "        }    #T_95cf016a_bfc4_11ea_b4c6_acde48001122row3_col2 {\n",
       "            width:  10em;\n",
       "             height:  80%;\n",
       "            background:  linear-gradient(90deg, transparent 54.9%, #d65f5f 54.9%, #d65f5f 56.9%, transparent 56.9%);\n",
       "        }    #T_95cf016a_bfc4_11ea_b4c6_acde48001122row4_col2 {\n",
       "            width:  10em;\n",
       "             height:  80%;\n",
       "            background:  linear-gradient(90deg, transparent 52.6%, #d65f5f 52.6%, #d65f5f 56.9%, transparent 56.9%);\n",
       "        }    #T_95cf016a_bfc4_11ea_b4c6_acde48001122row5_col2 {\n",
       "            width:  10em;\n",
       "             height:  80%;\n",
       "            background:  linear-gradient(90deg, transparent 55.6%, #d65f5f 55.6%, #d65f5f 56.9%, transparent 56.9%);\n",
       "        }    #T_95cf016a_bfc4_11ea_b4c6_acde48001122row6_col2 {\n",
       "            width:  10em;\n",
       "             height:  80%;\n",
       "            background:  linear-gradient(90deg, transparent 54.1%, #d65f5f 54.1%, #d65f5f 56.9%, transparent 56.9%);\n",
       "        }    #T_95cf016a_bfc4_11ea_b4c6_acde48001122row7_col2 {\n",
       "            width:  10em;\n",
       "             height:  80%;\n",
       "            background:  linear-gradient(90deg, transparent 56.0%, #d65f5f 56.0%, #d65f5f 56.9%, transparent 56.9%);\n",
       "        }    #T_95cf016a_bfc4_11ea_b4c6_acde48001122row8_col2 {\n",
       "            width:  10em;\n",
       "             height:  80%;\n",
       "            background:  linear-gradient(90deg, transparent 56.9%, #5fba7d 56.9%, #5fba7d 63.5%, transparent 63.5%);\n",
       "        }    #T_95cf016a_bfc4_11ea_b4c6_acde48001122row9_col2 {\n",
       "            width:  10em;\n",
       "             height:  80%;\n",
       "            background:  linear-gradient(90deg, transparent 56.9%, #5fba7d 56.9%, #5fba7d 76.9%, transparent 76.9%);\n",
       "        }    #T_95cf016a_bfc4_11ea_b4c6_acde48001122row10_col2 {\n",
       "            width:  10em;\n",
       "             height:  80%;\n",
       "            background:  linear-gradient(90deg, transparent 56.9%, #5fba7d 56.9%, #5fba7d 100.0%, transparent 100.0%);\n",
       "        }    #T_95cf016a_bfc4_11ea_b4c6_acde48001122row11_col2 {\n",
       "            width:  10em;\n",
       "             height:  80%;\n",
       "            background:  linear-gradient(90deg,#d65f5f 56.9%, transparent 56.9%);\n",
       "        }</style><table id=\"T_95cf016a_bfc4_11ea_b4c6_acde48001122\" ><thead>    <tr>        <th class=\"blank level0\" ></th>        <th class=\"col_heading level0 col0\" >job_sat_remote_strict_1</th>        <th class=\"col_heading level0 col1\" >job_sat_remote_strict_0</th>        <th class=\"col_heading level0 col2\" >Diff_Remote_Strict_Vals</th>    </tr></thead><tbody>\n",
       "                <tr>\n",
       "                        <th id=\"T_95cf016a_bfc4_11ea_b4c6_acde48001122level0_row0\" class=\"row_heading level0 row0\" >0.0</th>\n",
       "                        <td id=\"T_95cf016a_bfc4_11ea_b4c6_acde48001122row0_col0\" class=\"data row0 col0\" >0.010398</td>\n",
       "                        <td id=\"T_95cf016a_bfc4_11ea_b4c6_acde48001122row0_col1\" class=\"data row0 col1\" >0.008949</td>\n",
       "                        <td id=\"T_95cf016a_bfc4_11ea_b4c6_acde48001122row0_col2\" class=\"data row0 col2\" >0.001449</td>\n",
       "            </tr>\n",
       "            <tr>\n",
       "                        <th id=\"T_95cf016a_bfc4_11ea_b4c6_acde48001122level0_row1\" class=\"row_heading level0 row1\" >1.0</th>\n",
       "                        <td id=\"T_95cf016a_bfc4_11ea_b4c6_acde48001122row1_col0\" class=\"data row1 col0\" >0.006932</td>\n",
       "                        <td id=\"T_95cf016a_bfc4_11ea_b4c6_acde48001122row1_col1\" class=\"data row1 col1\" >0.007292</td>\n",
       "                        <td id=\"T_95cf016a_bfc4_11ea_b4c6_acde48001122row1_col2\" class=\"data row1 col2\" >-0.000361</td>\n",
       "            </tr>\n",
       "            <tr>\n",
       "                        <th id=\"T_95cf016a_bfc4_11ea_b4c6_acde48001122level0_row2\" class=\"row_heading level0 row2\" >2.0</th>\n",
       "                        <td id=\"T_95cf016a_bfc4_11ea_b4c6_acde48001122row2_col0\" class=\"data row2 col0\" >0.012844</td>\n",
       "                        <td id=\"T_95cf016a_bfc4_11ea_b4c6_acde48001122row2_col1\" class=\"data row2 col1\" >0.017747</td>\n",
       "                        <td id=\"T_95cf016a_bfc4_11ea_b4c6_acde48001122row2_col2\" class=\"data row2 col2\" >-0.004903</td>\n",
       "            </tr>\n",
       "            <tr>\n",
       "                        <th id=\"T_95cf016a_bfc4_11ea_b4c6_acde48001122level0_row3\" class=\"row_heading level0 row3\" >3.0</th>\n",
       "                        <td id=\"T_95cf016a_bfc4_11ea_b4c6_acde48001122row3_col0\" class=\"data row3 col0\" >0.028338</td>\n",
       "                        <td id=\"T_95cf016a_bfc4_11ea_b4c6_acde48001122row3_col1\" class=\"data row3 col1\" >0.032181</td>\n",
       "                        <td id=\"T_95cf016a_bfc4_11ea_b4c6_acde48001122row3_col2\" class=\"data row3 col2\" >-0.003843</td>\n",
       "            </tr>\n",
       "            <tr>\n",
       "                        <th id=\"T_95cf016a_bfc4_11ea_b4c6_acde48001122level0_row4\" class=\"row_heading level0 row4\" >4.0</th>\n",
       "                        <td id=\"T_95cf016a_bfc4_11ea_b4c6_acde48001122row4_col0\" class=\"data row4 col0\" >0.028542</td>\n",
       "                        <td id=\"T_95cf016a_bfc4_11ea_b4c6_acde48001122row4_col1\" class=\"data row4 col1\" >0.037107</td>\n",
       "                        <td id=\"T_95cf016a_bfc4_11ea_b4c6_acde48001122row4_col2\" class=\"data row4 col2\" >-0.008565</td>\n",
       "            </tr>\n",
       "            <tr>\n",
       "                        <th id=\"T_95cf016a_bfc4_11ea_b4c6_acde48001122level0_row5\" class=\"row_heading level0 row5\" >5.0</th>\n",
       "                        <td id=\"T_95cf016a_bfc4_11ea_b4c6_acde48001122row5_col0\" class=\"data row5 col0\" >0.070744</td>\n",
       "                        <td id=\"T_95cf016a_bfc4_11ea_b4c6_acde48001122row5_col1\" class=\"data row5 col1\" >0.073182</td>\n",
       "                        <td id=\"T_95cf016a_bfc4_11ea_b4c6_acde48001122row5_col2\" class=\"data row5 col2\" >-0.002438</td>\n",
       "            </tr>\n",
       "            <tr>\n",
       "                        <th id=\"T_95cf016a_bfc4_11ea_b4c6_acde48001122level0_row6\" class=\"row_heading level0 row6\" >6.0</th>\n",
       "                        <td id=\"T_95cf016a_bfc4_11ea_b4c6_acde48001122row6_col0\" class=\"data row6 col0\" >0.087054</td>\n",
       "                        <td id=\"T_95cf016a_bfc4_11ea_b4c6_acde48001122row6_col1\" class=\"data row6 col1\" >0.092477</td>\n",
       "                        <td id=\"T_95cf016a_bfc4_11ea_b4c6_acde48001122row6_col2\" class=\"data row6 col2\" >-0.005423</td>\n",
       "            </tr>\n",
       "            <tr>\n",
       "                        <th id=\"T_95cf016a_bfc4_11ea_b4c6_acde48001122level0_row7\" class=\"row_heading level0 row7\" >7.0</th>\n",
       "                        <td id=\"T_95cf016a_bfc4_11ea_b4c6_acde48001122row7_col0\" class=\"data row7 col0\" >0.153517</td>\n",
       "                        <td id=\"T_95cf016a_bfc4_11ea_b4c6_acde48001122row7_col1\" class=\"data row7 col1\" >0.155226</td>\n",
       "                        <td id=\"T_95cf016a_bfc4_11ea_b4c6_acde48001122row7_col2\" class=\"data row7 col2\" >-0.001709</td>\n",
       "            </tr>\n",
       "            <tr>\n",
       "                        <th id=\"T_95cf016a_bfc4_11ea_b4c6_acde48001122level0_row8\" class=\"row_heading level0 row8\" >8.0</th>\n",
       "                        <td id=\"T_95cf016a_bfc4_11ea_b4c6_acde48001122row8_col0\" class=\"data row8 col0\" >0.186748</td>\n",
       "                        <td id=\"T_95cf016a_bfc4_11ea_b4c6_acde48001122row8_col1\" class=\"data row8 col1\" >0.173532</td>\n",
       "                        <td id=\"T_95cf016a_bfc4_11ea_b4c6_acde48001122row8_col2\" class=\"data row8 col2\" >0.013216</td>\n",
       "            </tr>\n",
       "            <tr>\n",
       "                        <th id=\"T_95cf016a_bfc4_11ea_b4c6_acde48001122level0_row9\" class=\"row_heading level0 row9\" >9.0</th>\n",
       "                        <td id=\"T_95cf016a_bfc4_11ea_b4c6_acde48001122row9_col0\" class=\"data row9 col0\" >0.144546</td>\n",
       "                        <td id=\"T_95cf016a_bfc4_11ea_b4c6_acde48001122row9_col1\" class=\"data row9 col1\" >0.104631</td>\n",
       "                        <td id=\"T_95cf016a_bfc4_11ea_b4c6_acde48001122row9_col2\" class=\"data row9 col2\" >0.039915</td>\n",
       "            </tr>\n",
       "            <tr>\n",
       "                        <th id=\"T_95cf016a_bfc4_11ea_b4c6_acde48001122level0_row10\" class=\"row_heading level0 row10\" >10.0</th>\n",
       "                        <td id=\"T_95cf016a_bfc4_11ea_b4c6_acde48001122row10_col0\" class=\"data row10 col0\" >0.158410</td>\n",
       "                        <td id=\"T_95cf016a_bfc4_11ea_b4c6_acde48001122row10_col1\" class=\"data row10 col1\" >0.072515</td>\n",
       "                        <td id=\"T_95cf016a_bfc4_11ea_b4c6_acde48001122row10_col2\" class=\"data row10 col2\" >0.085895</td>\n",
       "            </tr>\n",
       "            <tr>\n",
       "                        <th id=\"T_95cf016a_bfc4_11ea_b4c6_acde48001122level0_row11\" class=\"row_heading level0 row11\" >nan</th>\n",
       "                        <td id=\"T_95cf016a_bfc4_11ea_b4c6_acde48001122row11_col0\" class=\"data row11 col0\" >0.111927</td>\n",
       "                        <td id=\"T_95cf016a_bfc4_11ea_b4c6_acde48001122row11_col1\" class=\"data row11 col1\" >0.225160</td>\n",
       "                        <td id=\"T_95cf016a_bfc4_11ea_b4c6_acde48001122row11_col2\" class=\"data row11 col2\" >-0.113233</td>\n",
       "            </tr>\n",
       "    </tbody></table>"
      ],
      "text/plain": [
       "<pandas.io.formats.style.Styler at 0x1029c7e50>"
      ]
     },
     "execution_count": 23,
     "metadata": {},
     "output_type": "execute_result"
    }
   ],
   "source": [
    "comp_df = pd.concat([job_sat_remote_strict_1, job_sat_remote_strict_0], axis=1)\n",
    "comp_df.columns = ['job_sat_remote_strict_1', 'job_sat_remote_strict_0']\n",
    "comp_df['Diff_Remote_Strict_Vals'] = comp_df['job_sat_remote_strict_1'] - comp_df['job_sat_remote_strict_0']\n",
    "comp_df.style.bar(subset=['Diff_Remote_Strict_Vals'], align='mid', color=['#d65f5f', '#5fba7d'])\n"
   ]
  },
  {
   "cell_type": "code",
   "execution_count": 24,
   "metadata": {},
   "outputs": [
    {
     "data": {
      "text/html": [
       "<style  type=\"text/css\" >\n",
       "    #T_95d20162_bfc4_11ea_b4c6_acde48001122row0_col2 {\n",
       "            width:  10em;\n",
       "             height:  80%;\n",
       "            background:  linear-gradient(90deg, transparent 44.7%, #d65f5f 44.7%, #d65f5f 47.2%, transparent 47.2%);\n",
       "        }    #T_95d20162_bfc4_11ea_b4c6_acde48001122row1_col2 {\n",
       "            width:  10em;\n",
       "             height:  80%;\n",
       "            background:  linear-gradient(90deg, transparent 47.0%, #d65f5f 47.0%, #d65f5f 47.2%, transparent 47.2%);\n",
       "        }    #T_95d20162_bfc4_11ea_b4c6_acde48001122row2_col2 {\n",
       "            width:  10em;\n",
       "             height:  80%;\n",
       "            background:  linear-gradient(90deg, transparent 46.0%, #d65f5f 46.0%, #d65f5f 47.2%, transparent 47.2%);\n",
       "        }    #T_95d20162_bfc4_11ea_b4c6_acde48001122row3_col2 {\n",
       "            width:  10em;\n",
       "             height:  80%;\n",
       "            background:  linear-gradient(90deg, transparent 44.2%, #d65f5f 44.2%, #d65f5f 47.2%, transparent 47.2%);\n",
       "        }    #T_95d20162_bfc4_11ea_b4c6_acde48001122row4_col2 {\n",
       "            width:  10em;\n",
       "             height:  80%;\n",
       "            background:  linear-gradient(90deg, transparent 44.6%, #d65f5f 44.6%, #d65f5f 47.2%, transparent 47.2%);\n",
       "        }    #T_95d20162_bfc4_11ea_b4c6_acde48001122row5_col2 {\n",
       "            width:  10em;\n",
       "             height:  80%;\n",
       "            background:  linear-gradient(90deg, transparent 44.0%, #d65f5f 44.0%, #d65f5f 47.2%, transparent 47.2%);\n",
       "        }    #T_95d20162_bfc4_11ea_b4c6_acde48001122row6_col2 {\n",
       "            width:  10em;\n",
       "             height:  80%;\n",
       "            background:  linear-gradient(90deg, transparent 40.2%, #d65f5f 40.2%, #d65f5f 47.2%, transparent 47.2%);\n",
       "        }    #T_95d20162_bfc4_11ea_b4c6_acde48001122row7_col2 {\n",
       "            width:  10em;\n",
       "             height:  80%;\n",
       "            background:  linear-gradient(90deg, transparent 39.7%, #d65f5f 39.7%, #d65f5f 47.2%, transparent 47.2%);\n",
       "        }    #T_95d20162_bfc4_11ea_b4c6_acde48001122row8_col2 {\n",
       "            width:  10em;\n",
       "             height:  80%;\n",
       "            background:  linear-gradient(90deg, transparent 47.2%, #5fba7d 47.2%, #5fba7d 49.9%, transparent 49.9%);\n",
       "        }    #T_95d20162_bfc4_11ea_b4c6_acde48001122row9_col2 {\n",
       "            width:  10em;\n",
       "             height:  80%;\n",
       "            background:  linear-gradient(90deg, transparent 47.2%, #5fba7d 47.2%, #5fba7d 66.1%, transparent 66.1%);\n",
       "        }    #T_95d20162_bfc4_11ea_b4c6_acde48001122row10_col2 {\n",
       "            width:  10em;\n",
       "             height:  80%;\n",
       "            background:  linear-gradient(90deg, transparent 47.2%, #5fba7d 47.2%, #5fba7d 100.0%, transparent 100.0%);\n",
       "        }    #T_95d20162_bfc4_11ea_b4c6_acde48001122row11_col2 {\n",
       "            width:  10em;\n",
       "             height:  80%;\n",
       "            background:  linear-gradient(90deg,#d65f5f 47.2%, transparent 47.2%);\n",
       "        }</style><table id=\"T_95d20162_bfc4_11ea_b4c6_acde48001122\" ><thead>    <tr>        <th class=\"blank level0\" ></th>        <th class=\"col_heading level0 col0\" >career_sat_remote_strict_1</th>        <th class=\"col_heading level0 col1\" >career_sat_remote_strict_0</th>        <th class=\"col_heading level0 col2\" >Diff_Remote_Strict_Vals</th>    </tr></thead><tbody>\n",
       "                <tr>\n",
       "                        <th id=\"T_95d20162_bfc4_11ea_b4c6_acde48001122level0_row0\" class=\"row_heading level0 row0\" >0.0</th>\n",
       "                        <td id=\"T_95d20162_bfc4_11ea_b4c6_acde48001122row0_col0\" class=\"data row0 col0\" >0.004485</td>\n",
       "                        <td id=\"T_95d20162_bfc4_11ea_b4c6_acde48001122row0_col1\" class=\"data row0 col1\" >0.007959</td>\n",
       "                        <td id=\"T_95d20162_bfc4_11ea_b4c6_acde48001122row0_col2\" class=\"data row0 col2\" >-0.003474</td>\n",
       "            </tr>\n",
       "            <tr>\n",
       "                        <th id=\"T_95d20162_bfc4_11ea_b4c6_acde48001122level0_row1\" class=\"row_heading level0 row1\" >1.0</th>\n",
       "                        <td id=\"T_95d20162_bfc4_11ea_b4c6_acde48001122row1_col0\" class=\"data row1 col0\" >0.003874</td>\n",
       "                        <td id=\"T_95d20162_bfc4_11ea_b4c6_acde48001122row1_col1\" class=\"data row1 col1\" >0.004130</td>\n",
       "                        <td id=\"T_95d20162_bfc4_11ea_b4c6_acde48001122row1_col2\" class=\"data row1 col2\" >-0.000257</td>\n",
       "            </tr>\n",
       "            <tr>\n",
       "                        <th id=\"T_95d20162_bfc4_11ea_b4c6_acde48001122level0_row2\" class=\"row_heading level0 row2\" >2.0</th>\n",
       "                        <td id=\"T_95d20162_bfc4_11ea_b4c6_acde48001122row2_col0\" class=\"data row2 col0\" >0.008155</td>\n",
       "                        <td id=\"T_95d20162_bfc4_11ea_b4c6_acde48001122row2_col1\" class=\"data row2 col1\" >0.009788</td>\n",
       "                        <td id=\"T_95d20162_bfc4_11ea_b4c6_acde48001122row2_col2\" class=\"data row2 col2\" >-0.001633</td>\n",
       "            </tr>\n",
       "            <tr>\n",
       "                        <th id=\"T_95d20162_bfc4_11ea_b4c6_acde48001122level0_row3\" class=\"row_heading level0 row3\" >3.0</th>\n",
       "                        <td id=\"T_95d20162_bfc4_11ea_b4c6_acde48001122row3_col0\" class=\"data row3 col0\" >0.016514</td>\n",
       "                        <td id=\"T_95d20162_bfc4_11ea_b4c6_acde48001122row3_col1\" class=\"data row3 col1\" >0.020758</td>\n",
       "                        <td id=\"T_95d20162_bfc4_11ea_b4c6_acde48001122row3_col2\" class=\"data row3 col2\" >-0.004245</td>\n",
       "            </tr>\n",
       "            <tr>\n",
       "                        <th id=\"T_95d20162_bfc4_11ea_b4c6_acde48001122level0_row4\" class=\"row_heading level0 row4\" >4.0</th>\n",
       "                        <td id=\"T_95d20162_bfc4_11ea_b4c6_acde48001122row4_col0\" class=\"data row4 col0\" >0.023038</td>\n",
       "                        <td id=\"T_95d20162_bfc4_11ea_b4c6_acde48001122row4_col1\" class=\"data row4 col1\" >0.026653</td>\n",
       "                        <td id=\"T_95d20162_bfc4_11ea_b4c6_acde48001122row4_col2\" class=\"data row4 col2\" >-0.003615</td>\n",
       "            </tr>\n",
       "            <tr>\n",
       "                        <th id=\"T_95d20162_bfc4_11ea_b4c6_acde48001122level0_row5\" class=\"row_heading level0 row5\" >5.0</th>\n",
       "                        <td id=\"T_95d20162_bfc4_11ea_b4c6_acde48001122row5_col0\" class=\"data row5 col0\" >0.055657</td>\n",
       "                        <td id=\"T_95d20162_bfc4_11ea_b4c6_acde48001122row5_col1\" class=\"data row5 col1\" >0.060167</td>\n",
       "                        <td id=\"T_95d20162_bfc4_11ea_b4c6_acde48001122row5_col2\" class=\"data row5 col2\" >-0.004510</td>\n",
       "            </tr>\n",
       "            <tr>\n",
       "                        <th id=\"T_95d20162_bfc4_11ea_b4c6_acde48001122level0_row6\" class=\"row_heading level0 row6\" >6.0</th>\n",
       "                        <td id=\"T_95d20162_bfc4_11ea_b4c6_acde48001122row6_col0\" class=\"data row6 col0\" >0.082977</td>\n",
       "                        <td id=\"T_95d20162_bfc4_11ea_b4c6_acde48001122row6_col1\" class=\"data row6 col1\" >0.092800</td>\n",
       "                        <td id=\"T_95d20162_bfc4_11ea_b4c6_acde48001122row6_col2\" class=\"data row6 col2\" >-0.009824</td>\n",
       "            </tr>\n",
       "            <tr>\n",
       "                        <th id=\"T_95d20162_bfc4_11ea_b4c6_acde48001122level0_row7\" class=\"row_heading level0 row7\" >7.0</th>\n",
       "                        <td id=\"T_95d20162_bfc4_11ea_b4c6_acde48001122row7_col0\" class=\"data row7 col0\" >0.173089</td>\n",
       "                        <td id=\"T_95d20162_bfc4_11ea_b4c6_acde48001122row7_col1\" class=\"data row7 col1\" >0.183600</td>\n",
       "                        <td id=\"T_95d20162_bfc4_11ea_b4c6_acde48001122row7_col2\" class=\"data row7 col2\" >-0.010511</td>\n",
       "            </tr>\n",
       "            <tr>\n",
       "                        <th id=\"T_95d20162_bfc4_11ea_b4c6_acde48001122level0_row8\" class=\"row_heading level0 row8\" >8.0</th>\n",
       "                        <td id=\"T_95d20162_bfc4_11ea_b4c6_acde48001122row8_col0\" class=\"data row8 col0\" >0.218145</td>\n",
       "                        <td id=\"T_95d20162_bfc4_11ea_b4c6_acde48001122row8_col1\" class=\"data row8 col1\" >0.214404</td>\n",
       "                        <td id=\"T_95d20162_bfc4_11ea_b4c6_acde48001122row8_col2\" class=\"data row8 col2\" >0.003741</td>\n",
       "            </tr>\n",
       "            <tr>\n",
       "                        <th id=\"T_95d20162_bfc4_11ea_b4c6_acde48001122level0_row9\" class=\"row_heading level0 row9\" >9.0</th>\n",
       "                        <td id=\"T_95d20162_bfc4_11ea_b4c6_acde48001122row9_col0\" class=\"data row9 col0\" >0.132518</td>\n",
       "                        <td id=\"T_95d20162_bfc4_11ea_b4c6_acde48001122row9_col1\" class=\"data row9 col1\" >0.106030</td>\n",
       "                        <td id=\"T_95d20162_bfc4_11ea_b4c6_acde48001122row9_col2\" class=\"data row9 col2\" >0.026488</td>\n",
       "            </tr>\n",
       "            <tr>\n",
       "                        <th id=\"T_95d20162_bfc4_11ea_b4c6_acde48001122level0_row10\" class=\"row_heading level0 row10\" >10.0</th>\n",
       "                        <td id=\"T_95d20162_bfc4_11ea_b4c6_acde48001122row10_col0\" class=\"data row10 col0\" >0.172069</td>\n",
       "                        <td id=\"T_95d20162_bfc4_11ea_b4c6_acde48001122row10_col1\" class=\"data row10 col1\" >0.098178</td>\n",
       "                        <td id=\"T_95d20162_bfc4_11ea_b4c6_acde48001122row10_col2\" class=\"data row10 col2\" >0.073891</td>\n",
       "            </tr>\n",
       "            <tr>\n",
       "                        <th id=\"T_95d20162_bfc4_11ea_b4c6_acde48001122level0_row11\" class=\"row_heading level0 row11\" >nan</th>\n",
       "                        <td id=\"T_95d20162_bfc4_11ea_b4c6_acde48001122row11_col0\" class=\"data row11 col0\" >0.109480</td>\n",
       "                        <td id=\"T_95d20162_bfc4_11ea_b4c6_acde48001122row11_col1\" class=\"data row11 col1\" >0.175533</td>\n",
       "                        <td id=\"T_95d20162_bfc4_11ea_b4c6_acde48001122row11_col2\" class=\"data row11 col2\" >-0.066053</td>\n",
       "            </tr>\n",
       "    </tbody></table>"
      ],
      "text/plain": [
       "<pandas.io.formats.style.Styler at 0x129ab5f50>"
      ]
     },
     "execution_count": 24,
     "metadata": {},
     "output_type": "execute_result"
    }
   ],
   "source": [
    "comp_df = pd.concat([career_sat_remote_strict_1, career_sat_remote_strict_0], axis=1)\n",
    "comp_df.columns = ['career_sat_remote_strict_1', 'career_sat_remote_strict_0']\n",
    "comp_df['Diff_Remote_Strict_Vals'] = comp_df['career_sat_remote_strict_1'] - comp_df['career_sat_remote_strict_0']\n",
    "comp_df.style.bar(subset=['Diff_Remote_Strict_Vals'], align='mid', color=['#d65f5f', '#5fba7d'])\n"
   ]
  },
  {
   "cell_type": "markdown",
   "metadata": {},
   "source": [
    "#### What if any factors can predict attitudes about diversity in the workplace?"
   ]
  },
  {
   "cell_type": "code",
   "execution_count": 25,
   "metadata": {},
   "outputs": [
    {
     "data": {
      "text/plain": [
       "NaN                  20489\n",
       "Agree                12011\n",
       "Strongly agree        8022\n",
       "Somewhat agree        7363\n",
       "Disagree              2327\n",
       "Strongly disagree     1180\n",
       "Name: DiversityImportant, dtype: int64"
      ]
     },
     "execution_count": 25,
     "metadata": {},
     "output_type": "execute_result"
    }
   ],
   "source": [
    "df_2017['DiversityImportant'].value_counts(dropna=False)"
   ]
  },
  {
   "cell_type": "code",
   "execution_count": 26,
   "metadata": {},
   "outputs": [
    {
     "data": {
      "text/plain": [
       "Text(0.5, 1.0, \"Agree/Disagree with the statement that 'Diversity in the workplace is important'\")"
      ]
     },
     "execution_count": 26,
     "metadata": {},
     "output_type": "execute_result"
    },
    {
     "data": {
      "image/png": "[encoded data removed]",
      "text/plain": [
       "<Figure size 432x288 with 1 Axes>"
      ]
     },
     "metadata": {
      "needs_background": "light"
     },
     "output_type": "display_data"
    }
   ],
   "source": [
    "diversity_importance_value_counts = df_2017['DiversityImportant'].value_counts(dropna=False)\n",
    "(diversity_importance_value_counts/df_2017.shape[0]).plot(kind=\"bar\")\n",
    "plt.title(\"Agree/Disagree with the statement that 'Diversity in the workplace is important'\")"
   ]
  },
  {
   "cell_type": "code",
   "execution_count": 27,
   "metadata": {},
   "outputs": [],
   "source": [
    "df_2017['DiversityImportant_missing'] = df_2017['DiversityImportant'].isna()"
   ]
  },
  {
   "cell_type": "code",
   "execution_count": 28,
   "metadata": {},
   "outputs": [],
   "source": [
    "diversity_imprtnt_strict_list = [\"Strongly agree\", \"Agree\"]\n",
    "diversity_imprtnt_lax_list = [\"Strongly agree\", \"Agree\", \"Somewhat agree\"]\n",
    "df_2017['DivImp_Strict']=df_2017['HomeRemote'].apply(collapse_cat_and_dummy, args=(diversity_imprtnt_strict_list,))\n",
    "df_2017['DivImp_Lax']=df_2017['HomeRemote'].apply(collapse_cat_and_dummy, args=(diversity_imprtnt_lax_list,))"
   ]
  },
  {
   "cell_type": "code",
   "execution_count": 29,
   "metadata": {},
   "outputs": [
    {
     "data": {
      "text/plain": [
       "8.0     8983\n",
       "7.0     7969\n",
       "9.0     5573\n",
       "6.0     4726\n",
       "10.0    4148\n",
       "5.0     3749\n",
       "4.0     1865\n",
       "3.0     1635\n",
       "2.0      888\n",
       "0.0      467\n",
       "1.0      373\n",
       "Name: JobSatisfaction, dtype: int64"
      ]
     },
     "execution_count": 29,
     "metadata": {},
     "output_type": "execute_result"
    }
   ],
   "source": [
    "df_2017.groupby('HomeRemote')['JobSatisfaction'].mean()\n",
    "df_2017['JobSatisfaction'].value_counts()"
   ]
  },
  {
   "cell_type": "code",
   "execution_count": 30,
   "metadata": {},
   "outputs": [
    {
     "data": {
      "text/html": [
       "<div>\n",
       "<style scoped>\n",
       "    .dataframe tbody tr th:only-of-type {\n",
       "        vertical-align: middle;\n",
       "    }\n",
       "\n",
       "    .dataframe tbody tr th {\n",
       "        vertical-align: top;\n",
       "    }\n",
       "\n",
       "    .dataframe thead th {\n",
       "        text-align: right;\n",
       "    }\n",
       "</style>\n",
       "<table border=\"1\" class=\"dataframe\">\n",
       "  <thead>\n",
       "    <tr style=\"text-align: right;\">\n",
       "      <th></th>\n",
       "      <th>DeveloperType</th>\n",
       "      <th>WebDeveloperType</th>\n",
       "      <th>MobileDeveloperType</th>\n",
       "      <th>NonDeveloperType</th>\n",
       "    </tr>\n",
       "  </thead>\n",
       "  <tbody>\n",
       "    <tr>\n",
       "      <th>0</th>\n",
       "      <td>NaN</td>\n",
       "      <td>NaN</td>\n",
       "      <td>NaN</td>\n",
       "      <td>NaN</td>\n",
       "    </tr>\n",
       "    <tr>\n",
       "      <th>1</th>\n",
       "      <td>NaN</td>\n",
       "      <td>NaN</td>\n",
       "      <td>NaN</td>\n",
       "      <td>NaN</td>\n",
       "    </tr>\n",
       "    <tr>\n",
       "      <th>2</th>\n",
       "      <td>Other</td>\n",
       "      <td>NaN</td>\n",
       "      <td>NaN</td>\n",
       "      <td>NaN</td>\n",
       "    </tr>\n",
       "    <tr>\n",
       "      <th>3</th>\n",
       "      <td>NaN</td>\n",
       "      <td>NaN</td>\n",
       "      <td>NaN</td>\n",
       "      <td>Data scientist</td>\n",
       "    </tr>\n",
       "    <tr>\n",
       "      <th>4</th>\n",
       "      <td>Mobile developer; Graphics programming; Deskto...</td>\n",
       "      <td>NaN</td>\n",
       "      <td>NaN</td>\n",
       "      <td>NaN</td>\n",
       "    </tr>\n",
       "  </tbody>\n",
       "</table>\n",
       "</div>"
      ],
      "text/plain": [
       "                                       DeveloperType WebDeveloperType  \\\n",
       "0                                                NaN              NaN   \n",
       "1                                                NaN              NaN   \n",
       "2                                              Other              NaN   \n",
       "3                                                NaN              NaN   \n",
       "4  Mobile developer; Graphics programming; Deskto...              NaN   \n",
       "\n",
       "  MobileDeveloperType NonDeveloperType  \n",
       "0                 NaN              NaN  \n",
       "1                 NaN              NaN  \n",
       "2                 NaN              NaN  \n",
       "3                 NaN   Data scientist  \n",
       "4                 NaN              NaN  "
      ]
     },
     "execution_count": 30,
     "metadata": {},
     "output_type": "execute_result"
    }
   ],
   "source": [
    "df_2017[['DeveloperType','WebDeveloperType','MobileDeveloperType','NonDeveloperType']].head()\n",
    "# pd.__version__"
   ]
  },
  {
   "cell_type": "code",
   "execution_count": 31,
   "metadata": {},
   "outputs": [
    {
     "data": {
      "text/plain": [
       "CompanyType\n",
       "Government agency or public school/university                             2451\n",
       "I don't know                                                              3233\n",
       "I prefer not to answer                                                    1816\n",
       "Non-profit/non-governmental organization or private school/university     1225\n",
       "Pre-series A startup                                                      1288\n",
       "Privately-held limited company, not in startup mode                      16709\n",
       "Publicly-traded corporation                                               5871\n",
       "Sole proprietorship or partnership, not in startup mode                   2831\n",
       "Something else                                                             342\n",
       "State-owned company                                                        670\n",
       "Venture-funded startup                                                    2387\n",
       "dtype: int64"
      ]
     },
     "execution_count": 31,
     "metadata": {},
     "output_type": "execute_result"
    }
   ],
   "source": [
    "df_2017.groupby(['CompanyType']).size()"
   ]
  },
  {
   "cell_type": "code",
   "execution_count": 32,
   "metadata": {},
   "outputs": [],
   "source": [
    "def recode_null_not_null_as_0_1(df, cols_not_to_recode):\n",
    "    '''\n",
    "    This function will split the data frame into columns that can easily be\n",
    "    recoded as 0/1, and those that cannot. More specifically, if a column\n",
    "    has a single non-NaN string value, and the relevant information is already contained\n",
    "    in the column name, then it will convert that column to a 0/1 dummy\n",
    "    '''\n",
    "    \n",
    "    # Split the dataframe into columns that will be operated on, and those that won't\n",
    "    df_recode = df.drop(columns = cols_not_to_recode)\n",
    "    df = df[cols_not_to_recode]\n",
    "    df_recode = df_recode.notnull().astype('int')\n",
    "    df = pd.concat([df, df_recode], axis=1)\n",
    "    return df"
   ]
  },
  {
   "cell_type": "code",
   "execution_count": 33,
   "metadata": {
    "tags": []
   },
   "outputs": [
    {
     "name": "stdout",
     "output_type": "stream",
     "text": [
      "Number of Rows in 2017 data: 51392\n",
      "Number of Columns in 2017 data: 161\n",
      "Number of Columns in 2017 data with no missing values: 14\n",
      "Number of Columns in 2017 data with > 75% missing values: 14\n",
      "Number of Columns in 2017 data with all missing values: 0\n",
      "Columns in 2017 data with no missing values: {'Salary_Imputed', 'DivImp_Lax', 'RemoteWorker_Lax', 'FormalEducation', 'EmploymentStatus', 'ProgramHobby', 'Country', 'DiversityImportant_missing', 'Professional', 'HomeRemote_missing', 'University', 'RemoteWorker_Strict', 'Respondent', 'DivImp_Strict'}\n",
      "Columns in 2017 data with > 75% missing values: {'ExCoder10Years', 'ExCoderActive', 'ExCoderSkills', 'NonDeveloperType', 'ExCoderNotForMe', 'WebDeveloperType', 'ExCoderBelonged', 'TimeAfterBootcamp', 'ExCoderWillNotCode', 'MobileDeveloperType', 'ExpectedSalary', 'ExCoderReturn', 'ExCoderBalance', 'YearsCodedJobPast'}\n"
     ]
    }
   ],
   "source": [
    "df_missingness_stats(df_2017, '2017')"
   ]
  },
  {
   "cell_type": "code",
   "execution_count": 34,
   "metadata": {},
   "outputs": [
    {
     "data": {
      "text/plain": [
       "Professional developer                                  36131\n",
       "Student                                                  8224\n",
       "Professional non-developer who sometimes writes code     5140\n",
       "Used to be a professional developer                       983\n",
       "None of these                                             914\n",
       "Name: Professional, dtype: int64"
      ]
     },
     "execution_count": 34,
     "metadata": {},
     "output_type": "execute_result"
    }
   ],
   "source": [
    "df_2017['Professional'].value_counts()"
   ]
  },
  {
   "cell_type": "code",
   "execution_count": 35,
   "metadata": {},
   "outputs": [
    {
     "data": {
      "text/plain": [
       "Yes, I program as a hobby                    24801\n",
       "Yes, both                                    13756\n",
       "No                                            9787\n",
       "Yes, I contribute to open source projects     3048\n",
       "Name: ProgramHobby, dtype: int64"
      ]
     },
     "execution_count": 35,
     "metadata": {},
     "output_type": "execute_result"
    }
   ],
   "source": [
    "df_2017['ProgramHobby'].value_counts()"
   ]
  },
  {
   "cell_type": "code",
   "execution_count": 36,
   "metadata": {},
   "outputs": [
    {
     "data": {
      "text/plain": [
       "No                     37543\n",
       "Yes, full-time          9369\n",
       "Yes, part-time          3352\n",
       "I prefer not to say     1128\n",
       "Name: University, dtype: int64"
      ]
     },
     "execution_count": 36,
     "metadata": {},
     "output_type": "execute_result"
    }
   ],
   "source": [
    "df_2017['University'].value_counts()"
   ]
  },
  {
   "cell_type": "code",
   "execution_count": 37,
   "metadata": {},
   "outputs": [
    {
     "data": {
      "text/plain": [
       "Employed full-time                                      36148\n",
       "Independent contractor, freelancer, or self-employed     5233\n",
       "Employed part-time                                       3180\n",
       "Not employed, and not looking for work                   2791\n",
       "Not employed, but looking for work                       2786\n",
       "I prefer not to say                                      1086\n",
       "Retired                                                   168\n",
       "Name: EmploymentStatus, dtype: int64"
      ]
     },
     "execution_count": 37,
     "metadata": {},
     "output_type": "execute_result"
    }
   ],
   "source": [
    "df_2017['EmploymentStatus'].value_counts()"
   ]
  },
  {
   "cell_type": "code",
   "execution_count": 38,
   "metadata": {},
   "outputs": [
    {
     "data": {
      "text/plain": [
       "Bachelor's degree                                                    21609\n",
       "Master's degree                                                      11141\n",
       "Some college/university study without earning a bachelor's degree     8129\n",
       "Secondary school                                                      5908\n",
       "Doctoral degree                                                       1308\n",
       "I prefer not to answer                                                1109\n",
       "Primary/elementary school                                             1047\n",
       "Professional degree                                                    715\n",
       "I never completed any formal education                                 426\n",
       "Name: FormalEducation, dtype: int64"
      ]
     },
     "execution_count": 38,
     "metadata": {},
     "output_type": "execute_result"
    }
   ],
   "source": [
    "df_2017['FormalEducation'].value_counts()"
   ]
  },
  {
   "cell_type": "code",
   "execution_count": 39,
   "metadata": {},
   "outputs": [
    {
     "data": {
      "text/plain": [
       "Computer science or software engineering                        21409\n",
       "Computer engineering or electrical/electronics engineering       4364\n",
       "Computer programming or Web development                          3883\n",
       "Information technology, networking, or system administration     2140\n",
       "A natural science                                                1865\n",
       "A non-computer-focused engineering discipline                    1789\n",
       "Mathematics or statistics                                        1648\n",
       "Something else                                                   1060\n",
       "A humanities discipline                                           901\n",
       "A business discipline                                             900\n",
       "Management information systems                                    654\n",
       "Fine arts or performing arts                                      646\n",
       "A social science                                                  633\n",
       "I never declared a major                                          592\n",
       "Psychology                                                        215\n",
       "A health science                                                  142\n",
       "Name: MajorUndergrad, dtype: int64"
      ]
     },
     "execution_count": 39,
     "metadata": {},
     "output_type": "execute_result"
    }
   ],
   "source": [
    "df_2017['MajorUndergrad'].value_counts()"
   ]
  },
  {
   "cell_type": "code",
   "execution_count": 40,
   "metadata": {},
   "outputs": [
    {
     "data": {
      "text/plain": [
       "A few days each month                                      15454\n",
       "Never                                                      13975\n",
       "All or almost all the time (I'm full-time remote)           4905\n",
       "Less than half the time, but at least one day each week     4147\n",
       "More than half, but not all, the time                       1909\n",
       "It's complicated                                            1849\n",
       "About half the time                                         1769\n",
       "Name: HomeRemote, dtype: int64"
      ]
     },
     "execution_count": 40,
     "metadata": {},
     "output_type": "execute_result"
    }
   ],
   "source": [
    "df_2017['HomeRemote'].value_counts()"
   ]
  },
  {
   "cell_type": "code",
   "execution_count": 41,
   "metadata": {},
   "outputs": [
    {
     "data": {
      "text/plain": [
       "20 to 99 employees          8587\n",
       "100 to 499 employees        7274\n",
       "10,000 or more employees    5680\n",
       "10 to 19 employees          4103\n",
       "1,000 to 4,999 employees    3831\n",
       "Fewer than 10 employees     3807\n",
       "500 to 999 employees        2486\n",
       "5,000 to 9,999 employees    1604\n",
       "I don't know                 869\n",
       "I prefer not to answer       681\n",
       "Name: CompanySize, dtype: int64"
      ]
     },
     "execution_count": 41,
     "metadata": {},
     "output_type": "execute_result"
    }
   ],
   "source": [
    "df_2017['CompanySize'].value_counts()"
   ]
  },
  {
   "cell_type": "code",
   "execution_count": 42,
   "metadata": {},
   "outputs": [
    {
     "data": {
      "text/plain": [
       "Privately-held limited company, not in startup mode                      16709\n",
       "Publicly-traded corporation                                               5871\n",
       "I don't know                                                              3233\n",
       "Sole proprietorship or partnership, not in startup mode                   2831\n",
       "Government agency or public school/university                             2451\n",
       "Venture-funded startup                                                    2387\n",
       "I prefer not to answer                                                    1816\n",
       "Pre-series A startup                                                      1288\n",
       "Non-profit/non-governmental organization or private school/university     1225\n",
       "State-owned company                                                        670\n",
       "Something else                                                             342\n",
       "Name: CompanyType, dtype: int64"
      ]
     },
     "execution_count": 42,
     "metadata": {},
     "output_type": "execute_result"
    }
   ],
   "source": [
    "df_2017['CompanyType'].value_counts()"
   ]
  },
  {
   "cell_type": "code",
   "execution_count": 43,
   "metadata": {},
   "outputs": [
    {
     "data": {
      "text/plain": [
       "20 or more years    8817\n",
       "4 to 5 years        3865\n",
       "3 to 4 years        3701\n",
       "5 to 6 years        3572\n",
       "2 to 3 years        3251\n",
       "9 to 10 years       3197\n",
       "6 to 7 years        2869\n",
       "1 to 2 years        2773\n",
       "7 to 8 years        2466\n",
       "10 to 11 years      2178\n",
       "14 to 15 years      2011\n",
       "8 to 9 years        1910\n",
       "15 to 16 years      1669\n",
       "Less than a year    1484\n",
       "11 to 12 years      1389\n",
       "12 to 13 years      1307\n",
       "13 to 14 years      1092\n",
       "16 to 17 years      1046\n",
       "19 to 20 years      1021\n",
       "17 to 18 years       879\n",
       "18 to 19 years       648\n",
       "Name: YearsProgram, dtype: int64"
      ]
     },
     "execution_count": 43,
     "metadata": {},
     "output_type": "execute_result"
    }
   ],
   "source": [
    "df_2017['YearsProgram'].value_counts()"
   ]
  },
  {
   "cell_type": "code",
   "execution_count": 44,
   "metadata": {},
   "outputs": [
    {
     "data": {
      "text/plain": [
       "1 to 2 years        5289\n",
       "2 to 3 years        4767\n",
       "3 to 4 years        4003\n",
       "4 to 5 years        3405\n",
       "20 or more years    3067\n",
       "Less than a year    3034\n",
       "5 to 6 years        2990\n",
       "9 to 10 years       1956\n",
       "6 to 7 years        1912\n",
       "10 to 11 years      1678\n",
       "7 to 8 years        1638\n",
       "8 to 9 years        1287\n",
       "15 to 16 years       845\n",
       "14 to 15 years       840\n",
       "11 to 12 years       838\n",
       "12 to 13 years       741\n",
       "16 to 17 years       694\n",
       "17 to 18 years       545\n",
       "13 to 14 years       531\n",
       "19 to 20 years       427\n",
       "18 to 19 years       403\n",
       "Name: YearsCodedJob, dtype: int64"
      ]
     },
     "execution_count": 44,
     "metadata": {},
     "output_type": "execute_result"
    }
   ],
   "source": [
    "df_2017['YearsCodedJob'].value_counts()"
   ]
  },
  {
   "cell_type": "code",
   "execution_count": 45,
   "metadata": {},
   "outputs": [
    {
     "data": {
      "text/plain": [
       "20 or more years    154\n",
       "1 to 2 years         80\n",
       "2 to 3 years         78\n",
       "4 to 5 years         66\n",
       "3 to 4 years         65\n",
       "9 to 10 years        59\n",
       "Less than a year     57\n",
       "10 to 11 years       50\n",
       "5 to 6 years         48\n",
       "7 to 8 years         46\n",
       "15 to 16 years       42\n",
       "14 to 15 years       39\n",
       "6 to 7 years         30\n",
       "8 to 9 years         28\n",
       "11 to 12 years       28\n",
       "19 to 20 years       23\n",
       "12 to 13 years       20\n",
       "17 to 18 years       19\n",
       "16 to 17 years       19\n",
       "13 to 14 years       17\n",
       "18 to 19 years        6\n",
       "Name: YearsCodedJobPast, dtype: int64"
      ]
     },
     "execution_count": 45,
     "metadata": {},
     "output_type": "execute_result"
    }
   ],
   "source": [
    "df_2017['YearsCodedJobPast'].value_counts()"
   ]
  },
  {
   "cell_type": "code",
   "execution_count": 46,
   "metadata": {},
   "outputs": [],
   "source": [
    "test = df_2017['DeveloperType'].str.split(\";\")\n",
    "test.loc[test.isnull()] = test.loc[test.isnull()].apply(lambda x: []) \n",
    "test = test.apply(lambda x: sorted(x))"
   ]
  },
  {
   "cell_type": "code",
   "execution_count": 47,
   "metadata": {},
   "outputs": [
    {
     "data": {
      "text/plain": [
       "0                                                    []\n",
       "1                                                    []\n",
       "2                                               [Other]\n",
       "3                                                    []\n",
       "4     [ Desktop applications developer,  Graphics pr...\n",
       "5                                                    []\n",
       "6                                                    []\n",
       "7                                       [Web developer]\n",
       "8                    [ Mobile developer, Web developer]\n",
       "9     [ Desktop applications developer, Mobile devel...\n",
       "10                                                   []\n",
       "11                                      [Web developer]\n",
       "12                                                   []\n",
       "13                                      [Web developer]\n",
       "14            [Embedded applications/devices developer]\n",
       "15                     [Desktop applications developer]\n",
       "16                                      [Web developer]\n",
       "17    [ DevOps specialist,  Embedded applications/de...\n",
       "18                                      [Web developer]\n",
       "19                             [ Other, Data scientist]\n",
       "Name: DeveloperType, dtype: object"
      ]
     },
     "execution_count": 47,
     "metadata": {},
     "output_type": "execute_result"
    }
   ],
   "source": [
    "test.head(20)"
   ]
  },
  {
   "cell_type": "code",
   "execution_count": 48,
   "metadata": {},
   "outputs": [],
   "source": [
    "test1 = test.apply(pd.Series)"
   ]
  },
  {
   "cell_type": "code",
   "execution_count": 49,
   "metadata": {},
   "outputs": [
    {
     "data": {
      "text/plain": [
       "pandas.core.frame.DataFrame"
      ]
     },
     "execution_count": 49,
     "metadata": {},
     "output_type": "execute_result"
    }
   ],
   "source": [
    "type(test1)"
   ]
  },
  {
   "cell_type": "code",
   "execution_count": 50,
   "metadata": {},
   "outputs": [
    {
     "data": {
      "text/html": [
       "<div>\n",
       "<style scoped>\n",
       "    .dataframe tbody tr th:only-of-type {\n",
       "        vertical-align: middle;\n",
       "    }\n",
       "\n",
       "    .dataframe tbody tr th {\n",
       "        vertical-align: top;\n",
       "    }\n",
       "\n",
       "    .dataframe thead th {\n",
       "        text-align: right;\n",
       "    }\n",
       "</style>\n",
       "<table border=\"1\" class=\"dataframe\">\n",
       "  <thead>\n",
       "    <tr style=\"text-align: right;\">\n",
       "      <th></th>\n",
       "      <th>0</th>\n",
       "      <th>1</th>\n",
       "      <th>2</th>\n",
       "      <th>3</th>\n",
       "      <th>4</th>\n",
       "      <th>5</th>\n",
       "      <th>6</th>\n",
       "      <th>7</th>\n",
       "      <th>8</th>\n",
       "      <th>9</th>\n",
       "      <th>10</th>\n",
       "      <th>11</th>\n",
       "      <th>12</th>\n",
       "      <th>13</th>\n",
       "    </tr>\n",
       "  </thead>\n",
       "  <tbody>\n",
       "    <tr>\n",
       "      <th>0</th>\n",
       "      <td>NaN</td>\n",
       "      <td>NaN</td>\n",
       "      <td>NaN</td>\n",
       "      <td>NaN</td>\n",
       "      <td>NaN</td>\n",
       "      <td>NaN</td>\n",
       "      <td>NaN</td>\n",
       "      <td>NaN</td>\n",
       "      <td>NaN</td>\n",
       "      <td>NaN</td>\n",
       "      <td>NaN</td>\n",
       "      <td>NaN</td>\n",
       "      <td>NaN</td>\n",
       "      <td>NaN</td>\n",
       "    </tr>\n",
       "    <tr>\n",
       "      <th>1</th>\n",
       "      <td>NaN</td>\n",
       "      <td>NaN</td>\n",
       "      <td>NaN</td>\n",
       "      <td>NaN</td>\n",
       "      <td>NaN</td>\n",
       "      <td>NaN</td>\n",
       "      <td>NaN</td>\n",
       "      <td>NaN</td>\n",
       "      <td>NaN</td>\n",
       "      <td>NaN</td>\n",
       "      <td>NaN</td>\n",
       "      <td>NaN</td>\n",
       "      <td>NaN</td>\n",
       "      <td>NaN</td>\n",
       "    </tr>\n",
       "    <tr>\n",
       "      <th>2</th>\n",
       "      <td>Other</td>\n",
       "      <td>NaN</td>\n",
       "      <td>NaN</td>\n",
       "      <td>NaN</td>\n",
       "      <td>NaN</td>\n",
       "      <td>NaN</td>\n",
       "      <td>NaN</td>\n",
       "      <td>NaN</td>\n",
       "      <td>NaN</td>\n",
       "      <td>NaN</td>\n",
       "      <td>NaN</td>\n",
       "      <td>NaN</td>\n",
       "      <td>NaN</td>\n",
       "      <td>NaN</td>\n",
       "    </tr>\n",
       "    <tr>\n",
       "      <th>3</th>\n",
       "      <td>NaN</td>\n",
       "      <td>NaN</td>\n",
       "      <td>NaN</td>\n",
       "      <td>NaN</td>\n",
       "      <td>NaN</td>\n",
       "      <td>NaN</td>\n",
       "      <td>NaN</td>\n",
       "      <td>NaN</td>\n",
       "      <td>NaN</td>\n",
       "      <td>NaN</td>\n",
       "      <td>NaN</td>\n",
       "      <td>NaN</td>\n",
       "      <td>NaN</td>\n",
       "      <td>NaN</td>\n",
       "    </tr>\n",
       "    <tr>\n",
       "      <th>4</th>\n",
       "      <td>Desktop applications developer</td>\n",
       "      <td>Graphics programming</td>\n",
       "      <td>Mobile developer</td>\n",
       "      <td>NaN</td>\n",
       "      <td>NaN</td>\n",
       "      <td>NaN</td>\n",
       "      <td>NaN</td>\n",
       "      <td>NaN</td>\n",
       "      <td>NaN</td>\n",
       "      <td>NaN</td>\n",
       "      <td>NaN</td>\n",
       "      <td>NaN</td>\n",
       "      <td>NaN</td>\n",
       "      <td>NaN</td>\n",
       "    </tr>\n",
       "  </tbody>\n",
       "</table>\n",
       "</div>"
      ],
      "text/plain": [
       "                                 0                      1                 2  \\\n",
       "0                              NaN                    NaN               NaN   \n",
       "1                              NaN                    NaN               NaN   \n",
       "2                            Other                    NaN               NaN   \n",
       "3                              NaN                    NaN               NaN   \n",
       "4   Desktop applications developer   Graphics programming  Mobile developer   \n",
       "\n",
       "     3    4    5    6    7    8    9   10   11   12   13  \n",
       "0  NaN  NaN  NaN  NaN  NaN  NaN  NaN  NaN  NaN  NaN  NaN  \n",
       "1  NaN  NaN  NaN  NaN  NaN  NaN  NaN  NaN  NaN  NaN  NaN  \n",
       "2  NaN  NaN  NaN  NaN  NaN  NaN  NaN  NaN  NaN  NaN  NaN  \n",
       "3  NaN  NaN  NaN  NaN  NaN  NaN  NaN  NaN  NaN  NaN  NaN  \n",
       "4  NaN  NaN  NaN  NaN  NaN  NaN  NaN  NaN  NaN  NaN  NaN  "
      ]
     },
     "execution_count": 50,
     "metadata": {},
     "output_type": "execute_result"
    }
   ],
   "source": [
    "test1.head()"
   ]
  },
  {
   "cell_type": "code",
   "execution_count": 51,
   "metadata": {},
   "outputs": [],
   "source": [
    "def create_dummy_df(df, cols_to_dummy, dummy_na=True):\n",
    "    '''\n",
    "    INPUT:\n",
    "    df - pandas dataframe with categorical variables you want to dummy\n",
    "    cat_cols - list of strings that are associated with names of the categorical columns\n",
    "    dummy_na - Bool holding whether you want to dummy NA vals of categorical columns or not\n",
    "    \n",
    "    OUTPUT:\n",
    "    df - a new dataframe that has the following characteristics:\n",
    "            1. contains all columns that were not specified as categorical\n",
    "            2. removes all the original columns in cat_cols\n",
    "            3. dummy columns for each of the categorical columns in cat_cols\n",
    "            4. if dummy_na is True - it also contains dummy columns for the NaN values\n",
    "            5. Use a prefix of the column name with an underscore (_) for separating \n",
    "    '''\n",
    "    for col in cols_to_dummy:\n",
    "        try:\n",
    "            df = pd.concat([df.drop(col, axis=1), pd.get_dummies(df[col], \n",
    "                                                                 prefix=col, \n",
    "                                                                 prefix_sep='_', \n",
    "                                                                 drop_first=True,\n",
    "                                                                 dummy_na=dummy_na\n",
    "                                                                )], axis=1)\n",
    "        except:\n",
    "            continue\n",
    "\n",
    "    return df"
   ]
  },
  {
   "cell_type": "code",
   "execution_count": 52,
   "metadata": {},
   "outputs": [],
   "source": [
    "#creating labelEncoder\n",
    "def process_y_var_split_data(df, yvar):\n",
    "    df[yvar] = df[yvar].str.replace('<', 'less than ')\n",
    "    df[yvar] = df[yvar].str.replace('>', 'greater than ')\n",
    "    df[yvar] = df[yvar].astype('str')\n",
    "    df = df[df[yvar]!='nan']\n",
    "    \n",
    "    print(df[yvar].value_counts())\n",
    "    le = preprocessing.LabelEncoder()\n",
    "    X = df.drop(columns=[yvar])\n",
    "    y = le.fit_transform(df[yvar])\n",
    "    \n",
    "    return X, y \n"
   ]
  },
  {
   "cell_type": "code",
   "execution_count": 53,
   "metadata": {},
   "outputs": [
    {
     "ename": "NameError",
     "evalue": "name 'df_2013' is not defined",
     "output_type": "error",
     "traceback": [
      "\u001b[0;31m---------------------------------------------------------------------------\u001b[0m",
      "\u001b[0;31mNameError\u001b[0m                                 Traceback (most recent call last)",
      "\u001b[0;32m<ipython-input-53-1dd5a10b20f0>\u001b[0m in \u001b[0;36m<module>\u001b[0;34m\u001b[0m\n\u001b[0;32m----> 1\u001b[0;31m \u001b[0mX_2013\u001b[0m\u001b[0;34m,\u001b[0m \u001b[0my_2013\u001b[0m \u001b[0;34m=\u001b[0m \u001b[0mprocess_y_var_split_data\u001b[0m\u001b[0;34m(\u001b[0m\u001b[0mdf_2013\u001b[0m\u001b[0;34m,\u001b[0m \u001b[0;34m'TotalCompensation'\u001b[0m\u001b[0;34m)\u001b[0m\u001b[0;34m\u001b[0m\u001b[0;34m\u001b[0m\u001b[0m\n\u001b[0m",
      "\u001b[0;31mNameError\u001b[0m: name 'df_2013' is not defined"
     ]
    }
   ],
   "source": [
    "X_2013, y_2013 = process_y_var_split_data(df_2013, 'TotalCompensation')"
   ]
  },
  {
   "cell_type": "code",
   "execution_count": null,
   "metadata": {},
   "outputs": [],
   "source": [
    "X_2014, y_2014 = process_y_var_split_data(df_2014, 'TotalCompensation')"
   ]
  },
  {
   "cell_type": "code",
   "execution_count": null,
   "metadata": {},
   "outputs": [],
   "source": [
    "X_2015, y_2015 = process_y_var_split_data(df_2015, 'Compensation')"
   ]
  },
  {
   "cell_type": "code",
   "execution_count": null,
   "metadata": {},
   "outputs": [],
   "source": [
    "# Split dataset into training set and test set\n",
    "def compare_classifiers(X, y):\n",
    "    X_train, X_test, y_train, y_test = train_test_split(X, y, test_size=0.3,random_state=42) # 70% training and 30% test\n",
    "\n",
    "\n",
    "    #Create a Gaussian Classifier\n",
    "    gnb = GaussianNB()\n",
    "\n",
    "    #Train the model using the training sets\n",
    "    gnb.fit(X_train, y_train)\n",
    "\n",
    "    #Predict the response for test dataset\n",
    "    y_pred_gnb = gnb.predict(X_test)\n",
    "\n",
    "    # Logistic Regression Classifier\n",
    "    logreg = LogisticRegression()\n",
    "\n",
    "    #Train the model using the training sets\n",
    "    logreg.fit(X_train, y_train)\n",
    "\n",
    "    #Predict the response for test dataset\n",
    "    y_pred_lr = logreg.predict(X_test)\n",
    "\n",
    "    # Random Forest Classifier\n",
    "    rf = RandomForestClassifier()\n",
    "\n",
    "    #Train the model using the training sets\n",
    "    rf.fit(X_train, y_train)\n",
    "\n",
    "    #Predict the response for test dataset\n",
    "    y_pred_rf = rf.predict(X_test)\n",
    "\n",
    "    # Adaboost Classifier\n",
    "    ada = AdaBoostClassifier()\n",
    "\n",
    "    #Train the model using the training sets\n",
    "    ada.fit(X_train, y_train)\n",
    "\n",
    "    #Predict the response for test dataset\n",
    "    y_pred_ada = ada.predict(X_test)\n",
    "\n",
    "    print(\"GNB Accuracy:\",metrics.accuracy_score(y_test, y_pred_gnb))\n",
    "\n",
    "    print(\"Logistic Regression Accuracy:\",metrics.accuracy_score(y_test, y_pred_lr))\n",
    "\n",
    "    print(\"Random Forest Accuracy:\",metrics.accuracy_score(y_test, y_pred_rf))\n",
    "\n",
    "    print(\"AdaBoost Accuracy:\",metrics.accuracy_score(y_test, y_pred_ada))\n"
   ]
  },
  {
   "cell_type": "code",
   "execution_count": null,
   "metadata": {},
   "outputs": [],
   "source": [
    "# Split dataset into training set and test set\n",
    "def compare_classifiers(X, y):\n",
    "    X_train, X_test, y_train, y_test = train_test_split(X, y, test_size=0.3,random_state=42) # 70% training and 30% test\n",
    "\n",
    "    #Create a Gaussian Classifier\n",
    "    gnb = GaussianNB()\n",
    "\n",
    "    #Train the model using the training sets\n",
    "    gnb.fit(X_train, y_train)\n",
    "\n",
    "    #Predict the response for test dataset\n",
    "    y_pred_gnb = gnb.predict(X_test)\n",
    "\n",
    "    # Logistic Regression Classifier\n",
    "    logreg = LogisticRegression()\n",
    "\n",
    "    #Train the model using the training sets\n",
    "    logreg.fit(X_train, y_train)\n",
    "\n",
    "    #Predict the response for test dataset\n",
    "    y_pred_lr = logreg.predict(X_test)\n",
    "\n",
    "    # Random Forest Classifier\n",
    "    rf = RandomForestClassifier()\n",
    "\n",
    "    #Train the model using the training sets\n",
    "    rf.fit(X_train, y_train)\n",
    "\n",
    "    #Predict the response for test dataset\n",
    "    y_pred_rf = rf.predict(X_test)\n",
    "\n",
    "    # Adaboost Classifier\n",
    "    ada = AdaBoostClassifier()\n",
    "\n",
    "    #Train the model using the training sets\n",
    "    ada.fit(X_train, y_train)\n",
    "\n",
    "    #Predict the response for test dataset\n",
    "    y_pred_ada = ada.predict(X_test)\n",
    "\n",
    "    print(\"GNB Accuracy:\",metrics.accuracy_score(y_test, y_pred_gnb))\n",
    "\n",
    "    print(\"Logistic Regression Accuracy:\",metrics.accuracy_score(y_test, y_pred_lr))\n",
    "\n",
    "    print(\"Random Forest Accuracy:\",metrics.accuracy_score(y_test, y_pred_rf))\n",
    "\n",
    "    print(\"AdaBoost Accuracy:\",metrics.accuracy_score(y_test, y_pred_ada))"
   ]
  },
  {
   "cell_type": "code",
   "execution_count": null,
   "metadata": {},
   "outputs": [],
   "source": [
    "compare_classifiers(X_2014, y_2014)"
   ]
  },
  {
   "cell_type": "code",
   "execution_count": null,
   "metadata": {},
   "outputs": [],
   "source": [
    "compare_classifiers(X_2015, y_2015)"
   ]
  },
  {
   "cell_type": "code",
   "execution_count": null,
   "metadata": {},
   "outputs": [],
   "source": [
    "# pp.pprint(crd.column_name_map_2014)"
   ]
  },
  {
   "cell_type": "code",
   "execution_count": null,
   "metadata": {},
   "outputs": [],
   "source": [
    "# pp.pprint(list(df_2014.columns))"
   ]
  },
  {
   "cell_type": "code",
   "execution_count": null,
   "metadata": {},
   "outputs": [],
   "source": [
    "def plot_value_counts(df, col, plot_title):\n",
    "    status_vals = df[col].value_counts() \n",
    "    print(status_vals)\n",
    "    # The below is a bar chart of the proportion of observations in each category of df[col]\n",
    "    (status_vals/df.shape[0]).plot(kind=\"bar\");\n",
    "    plt.title(\"What kind of developer are you?\");"
   ]
  },
  {
   "cell_type": "code",
   "execution_count": null,
   "metadata": {},
   "outputs": [],
   "source": [
    "def get_description(column_name, schema=schema):\n",
    "    '''\n",
    "    INPUT - schema - pandas dataframe with the schema of the developers survey\n",
    "            column_name - string - the name of the column you would like to know about\n",
    "    OUTPUT - \n",
    "            desc - string - the description of the column\n",
    "    '''\n",
    "    desc = schema['Question'][schema['Column']==column_name].values[0]\n",
    "    return desc"
   ]
  },
  {
   "cell_type": "code",
   "execution_count": null,
   "metadata": {},
   "outputs": [],
   "source": [
    "possible_vals = [\"Take online courses\", \"Buy books and work through the exercises\", \n",
    "                 \"None of these\", \"Part-time/evening courses\", \"Return to college\",\n",
    "                 \"Contribute to open source\", \"Conferences/meet-ups\", \"Bootcamp\",\n",
    "                 \"Get a job as a QA tester\", \"Participate in online coding competitions\",\n",
    "                 \"Master's degree\", \"Participate in hackathons\", \"Other\"]\n",
    "\n",
    "def clean_and_plot(df, title='Method of Educating Suggested', plot=True):\n",
    "    '''\n",
    "    INPUT \n",
    "        df - a dataframe holding the CousinEducation column\n",
    "        title - string the title of your plot\n",
    "        axis - axis object\n",
    "        plot - bool providing whether or not you want a plot back\n",
    "        \n",
    "    OUTPUT\n",
    "        study_df - a dataframe with the count of how many individuals\n",
    "        Displays a plot of pretty things related to the CousinEducation column.\n",
    "    '''\n",
    "    study = df['CousinEducation'].value_counts().reset_index()\n",
    "    study.rename(columns={'index': 'method', 'CousinEducation': 'count'}, inplace=True)\n",
    "    study_df = t.total_count(study, 'method', 'count', possible_vals)\n",
    "\n",
    "    study_df.set_index('method', inplace=True)\n",
    "    if plot:\n",
    "        (study_df/study_df.sum()).plot(kind='bar', legend=None);\n",
    "        plt.title(title);\n",
    "        plt.show()\n",
    "    props_study_df = study_df/study_df.sum()\n",
    "    return props_study_df\n",
    "    \n",
    "props_df = clean_and_plot(df)"
   ]
  },
  {
   "cell_type": "code",
   "execution_count": null,
   "metadata": {},
   "outputs": [],
   "source": []
  }
 ],
 "metadata": {
  "kernelspec": {
   "display_name": "Python 3.7.5 64-bit",
   "language": "python",
   "name": "python37564bitc38d59e534f34b659c3486983a929f38"
  },
  "language_info": {
   "codemirror_mode": {
    "name": "ipython",
    "version": 3
   },
   "file_extension": ".py",
   "mimetype": "text/x-python",
   "name": "python",
   "nbconvert_exporter": "python",
   "pygments_lexer": "ipython3",
   "version": "3.7.5"
  }
 },
 "nbformat": 4,
 "nbformat_minor": 2
}
