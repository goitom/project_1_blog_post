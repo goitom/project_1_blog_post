{
 "cells": [
  {
   "cell_type": "markdown",
   "metadata": {},
   "source": [
    "# Analysis of Stack Overflow Survey Attitudes on Diversity\n",
    "\n",
    "### Table of Contents\n",
    "1. [Business Understanding](#1.-Business-Understanding)\n",
    "\n",
    "\n",
    "2. [Data Understanding](#2.-Data-Understanding)\n",
    "    \n",
    "    2.1. [Inspect `DiversityImportant` Column](#2.1-Inspect-DiversityImportant-Column)\n",
    "    \n",
    "    2.2. [Explore `DiversityImportant` Correlations](#2.2.-Explore-DiversityImportant-Correlations)\n",
    "    \n",
    "    \n",
    "3. [Prepare Data](#3.-Prepare-Data)"
   ]
  },
  {
   "cell_type": "markdown",
   "metadata": {},
   "source": [
    "### 1. Business Understanding\n",
    "This analysis is motivated by the following business question:\n",
    "* What if any factors can predict attitudes about diversity in the workplace?"
   ]
  },
  {
   "cell_type": "code",
   "execution_count": 28,
   "metadata": {},
   "outputs": [],
   "source": [
    "import numpy as np\n",
    "import pandas as pd\n",
    "import matplotlib.pyplot as plt\n",
    "from sklearn import preprocessing\n",
    "from sklearn.naive_bayes import GaussianNB\n",
    "from sklearn.linear_model import LogisticRegression\n",
    "from sklearn.ensemble import RandomForestClassifier, AdaBoostClassifier\n",
    "from sklearn.model_selection import train_test_split\n",
    "import sklearn.metrics as metrics\n",
    "import seaborn as sns\n",
    "import os\n",
    "import pprint\n",
    "import itertools\n",
    "import scipy.stats as ss\n",
    "import column_rename_dicts as crd\n",
    "from so_analysis_functions import collapse_cat_and_dummy, get_description, df_missingness_stats, recode_null_not_null_as_0_1\n",
    "\n",
    "%matplotlib inline\n",
    "pd.options.display.max_seq_items = 500"
   ]
  },
  {
   "cell_type": "code",
   "execution_count": 29,
   "metadata": {},
   "outputs": [],
   "source": [
    "#regex patterns needed in data cleaning\n",
    "date_pattern = r\"^([1-9]|1[012])[- /.]([1-9]|[12][0-9]|3[01])[- /.](19|20)\\d\\d$\""
   ]
  },
  {
   "cell_type": "code",
   "execution_count": 30,
   "metadata": {},
   "outputs": [],
   "source": [
    "#Load Data\n",
    "df_2017 = pd.read_csv('./so-survey-2017/survey_results_public.csv')\n",
    "schema_2017 = pd.read_csv('./so-survey-2017/survey_results_schema.csv')"
   ]
  },
  {
   "cell_type": "markdown",
   "metadata": {},
   "source": [
    "#### What if any factors can predict attitudes about diversity in the workplace?"
   ]
  },
  {
   "cell_type": "markdown",
   "metadata": {},
   "source": [
    "### 2. Data Understanding\n",
    "We will focus on the column: `DiversityImportant`, \n",
    "which corresponds to the following question:\n",
    "\n",
    "> Diversity in the workplace is important"
   ]
  },
  {
   "cell_type": "code",
   "execution_count": 31,
   "metadata": {
    "tags": []
   },
   "outputs": [
    {
     "name": "stdout",
     "output_type": "stream",
     "text": [
      "Number of Rows in 2017 data: 51392\n",
      "Number of Columns in 2017 data: 154\n",
      "Number of Columns in 2017 data with no missing values: 7\n",
      "Number of Columns in 2017 data with > 75% missing values: 14\n",
      "Number of Columns in 2017 data with all missing values: 0\n",
      "Columns in 2017 data with no missing values: {'Respondent', 'ProgramHobby', 'FormalEducation', 'Country', 'EmploymentStatus', 'Professional', 'University'}\n",
      "Columns in 2017 data with > 75% missing values: {'NonDeveloperType', 'ExCoderBelonged', 'ExCoderSkills', 'ExCoderWillNotCode', 'ExCoderReturn', 'WebDeveloperType', 'ExCoderActive', 'ExCoderBalance', 'ExCoder10Years', 'ExpectedSalary', 'MobileDeveloperType', 'ExCoderNotForMe', 'YearsCodedJobPast', 'TimeAfterBootcamp'}\n"
     ]
    }
   ],
   "source": [
    "df_missingness_stats(df_2017, '2017')"
   ]
  },
  {
   "cell_type": "markdown",
   "metadata": {},
   "source": [
    "#### 2.1 Inspect `DiversityImportant` Column"
   ]
  },
  {
   "cell_type": "code",
   "execution_count": 32,
   "metadata": {},
   "outputs": [
    {
     "data": {
      "text/plain": [
       "NaN                  20489\n",
       "Agree                12011\n",
       "Strongly agree        8022\n",
       "Somewhat agree        7363\n",
       "Disagree              2327\n",
       "Strongly disagree     1180\n",
       "Name: DiversityImportant, dtype: int64"
      ]
     },
     "execution_count": 32,
     "metadata": {},
     "output_type": "execute_result"
    }
   ],
   "source": [
    "df_2017['DiversityImportant'].value_counts(dropna=False)"
   ]
  },
  {
   "cell_type": "code",
   "execution_count": 33,
   "metadata": {
    "scrolled": true
   },
   "outputs": [
    {
     "data": {
      "text/plain": [
       "Text(0.5, 1.0, \"Agree/Disagree with the statement that 'Diversity in the workplace is important'\")"
      ]
     },
     "execution_count": 33,
     "metadata": {},
     "output_type": "execute_result"
    },
    {
     "data": {
      "image/png": "[encoded data removed]",
      "text/plain": [
       "<Figure size 432x288 with 1 Axes>"
      ]
     },
     "metadata": {
      "needs_background": "light"
     },
     "output_type": "display_data"
    }
   ],
   "source": [
    "diversity_importance_value_counts = df_2017['DiversityImportant'].value_counts(dropna=False)\n",
    "(diversity_importance_value_counts/df_2017.shape[0]).plot(kind=\"bar\")\n",
    "plt.title(\"Agree/Disagree with the statement that 'Diversity in the workplace is important'\")"
   ]
  },
  {
   "cell_type": "code",
   "execution_count": 34,
   "metadata": {},
   "outputs": [],
   "source": [
    "# Since the DiversityImportant Column is our variable of interest\n",
    "# we can drop any rows where it is missing\n",
    "df_2017 = df_2017.dropna(subset = ['DiversityImportant'])"
   ]
  },
  {
   "cell_type": "code",
   "execution_count": 57,
   "metadata": {},
   "outputs": [
    {
     "data": {
      "text/plain": [
       "Text(0.5, 1.0, \"Agree/Disagree with the statement that 'Diversity in the workplace is important'\")"
      ]
     },
     "execution_count": 57,
     "metadata": {},
     "output_type": "execute_result"
    },
    {
     "data": {
      "image/png": "[encoded data removed]",
      "text/plain": [
       "<Figure size 432x288 with 1 Axes>"
      ]
     },
     "metadata": {},
     "output_type": "display_data"
    }
   ],
   "source": [
    "diversity_importance_value_counts = df_2017['DiversityImportant'].value_counts(dropna=False)\n",
    "(diversity_importance_value_counts/df_2017.shape[0]).plot(kind=\"bar\")\n",
    "plt.title(\"Agree/Disagree with the statement that 'Diversity in the workplace is important'\")"
   ]
  },
  {
   "cell_type": "code",
   "execution_count": 39,
   "metadata": {},
   "outputs": [],
   "source": [
    "df_2017_1 = df_2017.drop(\n",
    "    columns=['CareerSatisfaction', \n",
    "    'JobSatisfaction', \n",
    "    'HoursPerWeek',\n",
    "    'StackOverflowSatisfaction', \n",
    "    'Salary', \n",
    "    'ExpectedSalary',\n",
    "    \"Respondent\",\n",
    "    \"PronounceGIF\",\n",
    "    \"CousinEducation\",\n",
    "    \"HaveWorkedLanguage\",\n",
    "    \"WantWorkLanguage\",\n",
    "    \"HaveWorkedFramework\",\n",
    "    \"WantWorkFramework\",\n",
    "    \"HaveWorkedDatabase\",\n",
    "    \"WantWorkDatabase\",\n",
    "    \"HaveWorkedPlatform\",\n",
    "    \"WantWorkPlatform\",\n",
    "    \"IDE\",\n",
    "    \"VersionControl\",\n",
    "    \"CheckInCode\",\n",
    "    \"EquipmentSatisfiedMonitors\",\n",
    "    \"EquipmentSatisfiedCPU\",\n",
    "    \"EquipmentSatisfiedRAM\",\n",
    "    \"EquipmentSatisfiedStorage\",\n",
    "    \"EquipmentSatisfiedRW\",\n",
    "    \"InfluenceInternet\",\n",
    "    \"InfluenceWorkstation\",\n",
    "    \"InfluenceHardware\",\n",
    "    \"InfluenceServers\",\n",
    "    \"InfluenceTechStack\",\n",
    "    \"InfluenceDeptTech\",\n",
    "    \"InfluenceVizTools\",\n",
    "    \"InfluenceDatabase\",\n",
    "    \"InfluenceCloud\",\n",
    "    \"InfluenceConsultants\",\n",
    "    \"InfluenceRecruitment\",\n",
    "    \"InfluenceCommunication\",\n",
    "    \"StackOverflowDescribes\",\n",
    "    \"StackOverflowSatisfaction\",\n",
    "    \"StackOverflowDevices\",\n",
    "    \"StackOverflowFoundAnswer\",\n",
    "    \"StackOverflowCopiedCode\",\n",
    "    \"StackOverflowJobListing\",\n",
    "    \"StackOverflowCompanyPage\",\n",
    "    \"StackOverflowJobSearch\",\n",
    "    \"StackOverflowNewQuestion\",\n",
    "    \"StackOverflowAnswer\",\n",
    "    \"StackOverflowMetaChat\",\n",
    "    \"StackOverflowAdsRelevant\",\n",
    "    \"StackOverflowAdsDistracting\",\n",
    "    \"StackOverflowModeration\",\n",
    "    \"StackOverflowCommunity\",\n",
    "    \"StackOverflowHelpful\",\n",
    "    \"StackOverflowBetter\",\n",
    "    \"StackOverflowWhatDo\",\n",
    "    \"StackOverflowMakeMoney\",\n",
    "    \"SurveyLong\",\n",
    "    \"QuestionsInteresting\",\n",
    "    \"QuestionsConfusing\",\n",
    "    \"InterestedAnswers\"\n",
    "    ]\n",
    "    )"
   ]
  },
  {
   "cell_type": "markdown",
   "metadata": {},
   "source": [
    "#### 2.2. Explore `DiversityImportant` Correlations"
   ]
  },
  {
   "cell_type": "markdown",
   "metadata": {},
   "source": [
    "`cramers_corrected_stat(confusion_matrix)` function source:\n",
    "https://stackoverflow.com/questions/51859894/how-to-plot-a-cramer-s-v-heatmap-for-categorical-features"
   ]
  },
  {
   "cell_type": "code",
   "execution_count": 40,
   "metadata": {
    "tags": []
   },
   "outputs": [
    {
     "data": {
      "image/png": "[encoded data removed]",
      "text/plain": [
       "<Figure size 144x792 with 2 Axes>"
      ]
     },
     "metadata": {},
     "output_type": "display_data"
    }
   ],
   "source": [
    "def cramers_corrected_stat(confusion_matrix):\n",
    "    \"\"\" calculate Cramers V statistic for categorical-categorical association.\n",
    "        uses correction from Bergsma and Wicher, \n",
    "        Journal of the Korean Statistical Society 42 (2013): 323-328\n",
    "    \"\"\"\n",
    "    try:\n",
    "        chi2 = ss.chi2_contingency(confusion_matrix)[0]\n",
    "        n = confusion_matrix.sum().sum()\n",
    "        phi2 = chi2/n\n",
    "        r,k = confusion_matrix.shape\n",
    "        phi2corr = max(0, phi2 - ((k-1)*(r-1))/(n-1))    \n",
    "        rcorr = r - ((r-1)**2)/(n-1)\n",
    "        kcorr = k - ((k-1)**2)/(n-1)\n",
    "        return np.sqrt(phi2corr / min( (kcorr-1), (rcorr-1)))\n",
    "\n",
    "    except ValueError:\n",
    "        pass\n",
    "        \n",
    "\n",
    "\n",
    "\n",
    "cols = list(df_2017_1.columns)\n",
    "corrM = np.zeros((len(cols), 1))\n",
    "# there's probably a nice pandas way to do this\n",
    "for col1 in cols:\n",
    "    idx1 = cols.index(col1)\n",
    "    corrM[idx1, 0] = cramers_corrected_stat(pd.crosstab(df_2017_1['DiversityImportant'], df_2017_1[col1]))\n",
    "    \n",
    "\n",
    "corr = pd.DataFrame(corrM, index=cols, columns=['DiversityImportant'])\n",
    "fig, ax = plt.subplots(figsize=(2, 11))\n",
    "sns.set(font_scale=.75)\n",
    "ax = sns.heatmap(corr, annot=True, ax=ax, annot_kws={\"size\": 5}); \n",
    "ax.set_title(\"Cramer V Correlation between Variables\");"
   ]
  },
  {
   "cell_type": "code",
   "execution_count": 41,
   "metadata": {},
   "outputs": [
    {
     "data": {
      "text/html": [
       "<div>\n",
       "<style scoped>\n",
       "    .dataframe tbody tr th:only-of-type {\n",
       "        vertical-align: middle;\n",
       "    }\n",
       "\n",
       "    .dataframe tbody tr th {\n",
       "        vertical-align: top;\n",
       "    }\n",
       "\n",
       "    .dataframe thead th {\n",
       "        text-align: right;\n",
       "    }\n",
       "</style>\n",
       "<table border=\"1\" class=\"dataframe\">\n",
       "  <thead>\n",
       "    <tr style=\"text-align: right;\">\n",
       "      <th></th>\n",
       "      <th>DiversityImportant</th>\n",
       "    </tr>\n",
       "  </thead>\n",
       "  <tbody>\n",
       "    <tr>\n",
       "      <th>AssessJobDiversity</th>\n",
       "      <td>0.401460</td>\n",
       "    </tr>\n",
       "    <tr>\n",
       "      <th>ChangeWorld</th>\n",
       "      <td>0.111006</td>\n",
       "    </tr>\n",
       "    <tr>\n",
       "      <th>AssessJobProduct</th>\n",
       "      <td>0.106984</td>\n",
       "    </tr>\n",
       "    <tr>\n",
       "      <th>KinshipDevelopers</th>\n",
       "      <td>0.106110</td>\n",
       "    </tr>\n",
       "    <tr>\n",
       "      <th>Country</th>\n",
       "      <td>0.105216</td>\n",
       "    </tr>\n",
       "    <tr>\n",
       "      <th>ExCoderBelonged</th>\n",
       "      <td>0.104378</td>\n",
       "    </tr>\n",
       "    <tr>\n",
       "      <th>SeriousWork</th>\n",
       "      <td>0.103858</td>\n",
       "    </tr>\n",
       "    <tr>\n",
       "      <th>ChallengeMyself</th>\n",
       "      <td>0.103548</td>\n",
       "    </tr>\n",
       "    <tr>\n",
       "      <th>Gender</th>\n",
       "      <td>0.103246</td>\n",
       "    </tr>\n",
       "    <tr>\n",
       "      <th>LearningNewTech</th>\n",
       "      <td>0.099870</td>\n",
       "    </tr>\n",
       "  </tbody>\n",
       "</table>\n",
       "</div>"
      ],
      "text/plain": [
       "                    DiversityImportant\n",
       "AssessJobDiversity            0.401460\n",
       "ChangeWorld                   0.111006\n",
       "AssessJobProduct              0.106984\n",
       "KinshipDevelopers             0.106110\n",
       "Country                       0.105216\n",
       "ExCoderBelonged               0.104378\n",
       "SeriousWork                   0.103858\n",
       "ChallengeMyself               0.103548\n",
       "Gender                        0.103246\n",
       "LearningNewTech               0.099870"
      ]
     },
     "execution_count": 41,
     "metadata": {},
     "output_type": "execute_result"
    }
   ],
   "source": [
    "corr.sort_values(by='DiversityImportant', ascending=False)[1:11]"
   ]
  },
  {
   "cell_type": "code",
   "execution_count": 55,
   "metadata": {},
   "outputs": [
    {
     "data": {
      "text/html": [
       "<div>\n",
       "<style scoped>\n",
       "    .dataframe tbody tr th:only-of-type {\n",
       "        vertical-align: middle;\n",
       "    }\n",
       "\n",
       "    .dataframe tbody tr th {\n",
       "        vertical-align: top;\n",
       "    }\n",
       "\n",
       "    .dataframe thead th {\n",
       "        text-align: right;\n",
       "    }\n",
       "</style>\n",
       "<table border=\"1\" class=\"dataframe\">\n",
       "  <thead>\n",
       "    <tr style=\"text-align: right;\">\n",
       "      <th></th>\n",
       "      <th>DiversityImportant</th>\n",
       "    </tr>\n",
       "  </thead>\n",
       "  <tbody>\n",
       "    <tr>\n",
       "      <th>YearsCodedJobPast</th>\n",
       "      <td>0.000000</td>\n",
       "    </tr>\n",
       "    <tr>\n",
       "      <th>ResumePrompted</th>\n",
       "      <td>0.007955</td>\n",
       "    </tr>\n",
       "    <tr>\n",
       "      <th>TimeAfterBootcamp</th>\n",
       "      <td>0.009157</td>\n",
       "    </tr>\n",
       "    <tr>\n",
       "      <th>EducationTypes</th>\n",
       "      <td>0.013014</td>\n",
       "    </tr>\n",
       "    <tr>\n",
       "      <th>YearsCodedJob</th>\n",
       "      <td>0.016126</td>\n",
       "    </tr>\n",
       "    <tr>\n",
       "      <th>YearsProgram</th>\n",
       "      <td>0.016965</td>\n",
       "    </tr>\n",
       "    <tr>\n",
       "      <th>TabsSpaces</th>\n",
       "      <td>0.017065</td>\n",
       "    </tr>\n",
       "    <tr>\n",
       "      <th>Professional</th>\n",
       "      <td>0.018283</td>\n",
       "    </tr>\n",
       "    <tr>\n",
       "      <th>University</th>\n",
       "      <td>0.018404</td>\n",
       "    </tr>\n",
       "    <tr>\n",
       "      <th>LearnedHiring</th>\n",
       "      <td>0.019428</td>\n",
       "    </tr>\n",
       "    <tr>\n",
       "      <th>Overpaid</th>\n",
       "      <td>0.022195</td>\n",
       "    </tr>\n",
       "    <tr>\n",
       "      <th>AuditoryEnvironment</th>\n",
       "      <td>0.022882</td>\n",
       "    </tr>\n",
       "    <tr>\n",
       "      <th>CompanySize</th>\n",
       "      <td>0.023251</td>\n",
       "    </tr>\n",
       "    <tr>\n",
       "      <th>MobileDeveloperType</th>\n",
       "      <td>0.024304</td>\n",
       "    </tr>\n",
       "    <tr>\n",
       "      <th>ProgramHobby</th>\n",
       "      <td>0.024633</td>\n",
       "    </tr>\n",
       "    <tr>\n",
       "      <th>SelfTaughtTypes</th>\n",
       "      <td>0.025124</td>\n",
       "    </tr>\n",
       "    <tr>\n",
       "      <th>MetricAssess</th>\n",
       "      <td>0.025856</td>\n",
       "    </tr>\n",
       "    <tr>\n",
       "      <th>LastNewJob</th>\n",
       "      <td>0.025931</td>\n",
       "    </tr>\n",
       "    <tr>\n",
       "      <th>HomeRemote</th>\n",
       "      <td>0.026326</td>\n",
       "    </tr>\n",
       "  </tbody>\n",
       "</table>\n",
       "</div>"
      ],
      "text/plain": [
       "                     DiversityImportant\n",
       "YearsCodedJobPast              0.000000\n",
       "ResumePrompted                 0.007955\n",
       "TimeAfterBootcamp              0.009157\n",
       "EducationTypes                 0.013014\n",
       "YearsCodedJob                  0.016126\n",
       "YearsProgram                   0.016965\n",
       "TabsSpaces                     0.017065\n",
       "Professional                   0.018283\n",
       "University                     0.018404\n",
       "LearnedHiring                  0.019428\n",
       "Overpaid                       0.022195\n",
       "AuditoryEnvironment            0.022882\n",
       "CompanySize                    0.023251\n",
       "MobileDeveloperType            0.024304\n",
       "ProgramHobby                   0.024633\n",
       "SelfTaughtTypes                0.025124\n",
       "MetricAssess                   0.025856\n",
       "LastNewJob                     0.025931\n",
       "HomeRemote                     0.026326"
      ]
     },
     "execution_count": 55,
     "metadata": {},
     "output_type": "execute_result"
    }
   ],
   "source": [
    "corr.sort_values(by='DiversityImportant', ascending=True)[1:20]"
   ]
  },
  {
   "cell_type": "markdown",
   "metadata": {},
   "source": [
    "Let's focus on the columns above. Below are the column names and the corresponding question text: \n",
    "\n",
    "| Column | Question |\n",
    "| ------ | ------ |\n",
    "| `AssessJobDiversity` | When you're assessing potential jobs to apply to, how important are each of the following to you? The diversity of the company or organization. |\n",
    "| `ChangeWorld` | I want to change the world. |\n",
    "| `AssessJobProduct` | When you're assessing potential jobs to apply to, how important are each of the following to you? How widely used or impactful the product or service I'd be working on is. |\n",
    "| `KinshipDevelopers` | I feel a sense of kinship to other developers. |\n",
    "| `Country` | In which country do you currently live? |\n",
    "| `ExCoderBelonged` | You said before that you used to code as part of your job, but no longer do. To what extent do you agree or disagree with the following statements? When I was a developer, I didn't feel like I belonged with my colleagues. |\n",
    "| `SeriousWork` | I take my work very seriously. |\n",
    "| `ChallengeMyself` | I like to challenge myself. |\n",
    "| `Gender` | Which of the following do you currently identify as? |\n",
    "| `LearningNewTech` | Learning new technologies is fun. |"
   ]
  },
  {
   "cell_type": "code",
   "execution_count": 56,
   "metadata": {},
   "outputs": [
    {
     "data": {
      "text/plain": [
       "NaN                     15859\n",
       "Somewhat important       4662\n",
       "Important                3979\n",
       "Not very important       3256\n",
       "Not at all important     1684\n",
       "Very important           1463\n",
       "Name: AssessJobDiversity, dtype: int64"
      ]
     },
     "execution_count": 56,
     "metadata": {},
     "output_type": "execute_result"
    }
   ],
   "source": [
    "df_2017['AssessJobDiversity'].value_counts(dropna=False)"
   ]
  },
  {
   "cell_type": "code",
   "execution_count": 43,
   "metadata": {},
   "outputs": [
    {
     "data": {
      "text/plain": [
       "Agree                9016\n",
       "Somewhat agree       8890\n",
       "Strongly agree       7079\n",
       "Disagree             4356\n",
       "Strongly disagree     974\n",
       "NaN                   588\n",
       "Name: ChangeWorld, dtype: int64"
      ]
     },
     "execution_count": 43,
     "metadata": {},
     "output_type": "execute_result"
    }
   ],
   "source": [
    "df_2017['ChangeWorld'].value_counts(dropna=False)"
   ]
  },
  {
   "cell_type": "code",
   "execution_count": 44,
   "metadata": {},
   "outputs": [
    {
     "data": {
      "text/plain": [
       "Important               5388\n",
       "Somewhat important      4825\n",
       "Very important          2231\n",
       "Not very important      2123\n",
       "Not at all important     475\n",
       "Name: AssessJobProduct, dtype: int64"
      ]
     },
     "execution_count": 44,
     "metadata": {},
     "output_type": "execute_result"
    }
   ],
   "source": [
    "df_2017['AssessJobProduct'].value_counts()"
   ]
  },
  {
   "cell_type": "code",
   "execution_count": 45,
   "metadata": {},
   "outputs": [
    {
     "data": {
      "text/plain": [
       "United States         7423\n",
       "United Kingdom        2758\n",
       "India                 2686\n",
       "Germany               2463\n",
       "Canada                1419\n",
       "France                1004\n",
       "Poland                 772\n",
       "Australia              605\n",
       "Netherlands            531\n",
       "Russian Federation     523\n",
       "Spain                  500\n",
       "Brazil                 480\n",
       "Italy                  471\n",
       "Sweden                 396\n",
       "Switzerland            356\n",
       "Name: Country, dtype: int64"
      ]
     },
     "execution_count": 45,
     "metadata": {},
     "output_type": "execute_result"
    }
   ],
   "source": [
    "df_2017['Country'].value_counts(dropna=False).head(15)"
   ]
  },
  {
   "cell_type": "code",
   "execution_count": 46,
   "metadata": {},
   "outputs": [
    {
     "data": {
      "text/plain": [
       "NaN                  30331\n",
       "Disagree               198\n",
       "Strongly disagree      194\n",
       "Somewhat agree          85\n",
       "Agree                   66\n",
       "Strongly agree          29\n",
       "Name: ExCoderBelonged, dtype: int64"
      ]
     },
     "execution_count": 46,
     "metadata": {},
     "output_type": "execute_result"
    }
   ],
   "source": [
    "df_2017['ExCoderBelonged'].value_counts(dropna=False)"
   ]
  },
  {
   "cell_type": "code",
   "execution_count": 47,
   "metadata": {},
   "outputs": [
    {
     "data": {
      "text/plain": [
       "Agree                14809\n",
       "Strongly agree       10112\n",
       "Somewhat agree        4914\n",
       "Disagree               788\n",
       "Strongly disagree      149\n",
       "NaN                    131\n",
       "Name: SeriousWork, dtype: int64"
      ]
     },
     "execution_count": 47,
     "metadata": {},
     "output_type": "execute_result"
    }
   ],
   "source": [
    "df_2017['SeriousWork'].value_counts(dropna=False)"
   ]
  },
  {
   "cell_type": "code",
   "execution_count": 48,
   "metadata": {},
   "outputs": [
    {
     "data": {
      "text/plain": [
       "Agree                14316\n",
       "Strongly agree       11635\n",
       "Somewhat agree        3762\n",
       "NaN                    570\n",
       "Disagree               508\n",
       "Strongly disagree      112\n",
       "Name: ChallengeMyself, dtype: int64"
      ]
     },
     "execution_count": 48,
     "metadata": {},
     "output_type": "execute_result"
    }
   ],
   "source": [
    "df_2017['ChallengeMyself'].value_counts(dropna=False)"
   ]
  },
  {
   "cell_type": "code",
   "execution_count": 49,
   "metadata": {},
   "outputs": [
    {
     "data": {
      "text/plain": [
       "Agree                9016\n",
       "Somewhat agree       8890\n",
       "Strongly agree       7079\n",
       "Disagree             4356\n",
       "Strongly disagree     974\n",
       "NaN                   588\n",
       "Name: ChangeWorld, dtype: int64"
      ]
     },
     "execution_count": 49,
     "metadata": {},
     "output_type": "execute_result"
    }
   ],
   "source": [
    "df_2017['ChangeWorld'].value_counts(dropna=False)"
   ]
  },
  {
   "cell_type": "code",
   "execution_count": 50,
   "metadata": {},
   "outputs": [],
   "source": [
    "df_2017['DiversityImportant_missing'] = df_2017['DiversityImportant'].isna()\n",
    "df_2017['ChangeWorld_missing'] = df_2017['ChangeWorld'].isna()\n",
    "df_2017['AssessJobProduct_missing'] = df_2017['AssessJobProduct'].isna()\n",
    "df_2017['KinshipDevelopers_missing'] = df_2017['KinshipDevelopers'].isna()\n",
    "df_2017['Country_missing'] = df_2017['Country'].isna()\n",
    "df_2017['ExCoderBelonged_missing'] = df_2017['ExCoderBelonged'].isna()\n",
    "df_2017['SeriousWork_missing'] = df_2017['SeriousWork'].isna()\n",
    "df_2017['ChallengeMyself_missing'] = df_2017['ChallengeMyself'].isna()\n",
    "df_2017['Gender_missing'] = df_2017['Gender'].isna()\n",
    "df_2017['LearningNewTech_missing'] = df_2017['LearningNewTech'].isna()"
   ]
  },
  {
   "cell_type": "code",
   "execution_count": 51,
   "metadata": {},
   "outputs": [],
   "source": [
    "corr_matrix = df_2017[['DiversityImportant_missing'\n",
    "                       , 'ChangeWorld_missing'\n",
    "                       , 'AssessJobProduct_missing'\n",
    "                       , 'KinshipDevelopers_missing'\n",
    "                       , 'Country_missing'\n",
    "                       , 'ExCoderBelonged_missing'\n",
    "                       , 'SeriousWork_missing'\n",
    "                       , 'ChallengeMyself_missing'\n",
    "                       , 'Gender_missing'\n",
    "                       , 'LearningNewTech_missing'\n",
    "                      ]\n",
    "                     ].corr()"
   ]
  },
  {
   "cell_type": "code",
   "execution_count": 52,
   "metadata": {},
   "outputs": [],
   "source": [
    "# Generate a mask for the upper triangle\n",
    "mask = np.triu(np.ones_like(corr_matrix, dtype=np.bool))"
   ]
  },
  {
   "cell_type": "code",
   "execution_count": 53,
   "metadata": {},
   "outputs": [
    {
     "data": {
      "text/plain": [
       "<matplotlib.axes._subplots.AxesSubplot at 0x1319f5990>"
      ]
     },
     "execution_count": 53,
     "metadata": {},
     "output_type": "execute_result"
    },
    {
     "data": {
      "image/png": "[encoded data removed]",
      "text/plain": [
       "<Figure size 432x288 with 2 Axes>"
      ]
     },
     "metadata": {},
     "output_type": "display_data"
    }
   ],
   "source": [
    "sns.heatmap(corr_matrix, mask=mask)"
   ]
  },
  {
   "cell_type": "code",
   "execution_count": 54,
   "metadata": {},
   "outputs": [
    {
     "data": {
      "text/html": [
       "<div>\n",
       "<style scoped>\n",
       "    .dataframe tbody tr th:only-of-type {\n",
       "        vertical-align: middle;\n",
       "    }\n",
       "\n",
       "    .dataframe tbody tr th {\n",
       "        vertical-align: top;\n",
       "    }\n",
       "\n",
       "    .dataframe thead th {\n",
       "        text-align: right;\n",
       "    }\n",
       "</style>\n",
       "<table border=\"1\" class=\"dataframe\">\n",
       "  <thead>\n",
       "    <tr style=\"text-align: right;\">\n",
       "      <th></th>\n",
       "      <th>DiversityImportant_missing</th>\n",
       "      <th>ChangeWorld_missing</th>\n",
       "      <th>AssessJobProduct_missing</th>\n",
       "      <th>KinshipDevelopers_missing</th>\n",
       "      <th>Country_missing</th>\n",
       "      <th>ExCoderBelonged_missing</th>\n",
       "      <th>SeriousWork_missing</th>\n",
       "      <th>ChallengeMyself_missing</th>\n",
       "      <th>Gender_missing</th>\n",
       "      <th>LearningNewTech_missing</th>\n",
       "    </tr>\n",
       "  </thead>\n",
       "  <tbody>\n",
       "    <tr>\n",
       "      <th>DiversityImportant_missing</th>\n",
       "      <td>NaN</td>\n",
       "      <td>NaN</td>\n",
       "      <td>NaN</td>\n",
       "      <td>NaN</td>\n",
       "      <td>NaN</td>\n",
       "      <td>NaN</td>\n",
       "      <td>NaN</td>\n",
       "      <td>NaN</td>\n",
       "      <td>NaN</td>\n",
       "      <td>NaN</td>\n",
       "    </tr>\n",
       "    <tr>\n",
       "      <th>ChangeWorld_missing</th>\n",
       "      <td>NaN</td>\n",
       "      <td>1.000000</td>\n",
       "      <td>0.081605</td>\n",
       "      <td>0.711766</td>\n",
       "      <td>NaN</td>\n",
       "      <td>-0.003719</td>\n",
       "      <td>0.049243</td>\n",
       "      <td>0.811773</td>\n",
       "      <td>0.200831</td>\n",
       "      <td>0.414334</td>\n",
       "    </tr>\n",
       "    <tr>\n",
       "      <th>AssessJobProduct_missing</th>\n",
       "      <td>NaN</td>\n",
       "      <td>0.081605</td>\n",
       "      <td>1.000000</td>\n",
       "      <td>0.079703</td>\n",
       "      <td>NaN</td>\n",
       "      <td>0.008924</td>\n",
       "      <td>0.014712</td>\n",
       "      <td>0.074313</td>\n",
       "      <td>0.143472</td>\n",
       "      <td>0.069127</td>\n",
       "    </tr>\n",
       "    <tr>\n",
       "      <th>KinshipDevelopers_missing</th>\n",
       "      <td>NaN</td>\n",
       "      <td>0.711766</td>\n",
       "      <td>0.079703</td>\n",
       "      <td>1.000000</td>\n",
       "      <td>NaN</td>\n",
       "      <td>-0.004139</td>\n",
       "      <td>0.040578</td>\n",
       "      <td>0.714156</td>\n",
       "      <td>0.186428</td>\n",
       "      <td>0.364134</td>\n",
       "    </tr>\n",
       "    <tr>\n",
       "      <th>Country_missing</th>\n",
       "      <td>NaN</td>\n",
       "      <td>NaN</td>\n",
       "      <td>NaN</td>\n",
       "      <td>NaN</td>\n",
       "      <td>NaN</td>\n",
       "      <td>NaN</td>\n",
       "      <td>NaN</td>\n",
       "      <td>NaN</td>\n",
       "      <td>NaN</td>\n",
       "      <td>NaN</td>\n",
       "    </tr>\n",
       "    <tr>\n",
       "      <th>ExCoderBelonged_missing</th>\n",
       "      <td>NaN</td>\n",
       "      <td>-0.003719</td>\n",
       "      <td>0.008924</td>\n",
       "      <td>-0.004139</td>\n",
       "      <td>NaN</td>\n",
       "      <td>1.000000</td>\n",
       "      <td>-0.002126</td>\n",
       "      <td>-0.000802</td>\n",
       "      <td>-0.001615</td>\n",
       "      <td>0.001405</td>\n",
       "    </tr>\n",
       "    <tr>\n",
       "      <th>SeriousWork_missing</th>\n",
       "      <td>NaN</td>\n",
       "      <td>0.049243</td>\n",
       "      <td>0.014712</td>\n",
       "      <td>0.040578</td>\n",
       "      <td>NaN</td>\n",
       "      <td>-0.002126</td>\n",
       "      <td>1.000000</td>\n",
       "      <td>0.046580</td>\n",
       "      <td>0.028715</td>\n",
       "      <td>0.039482</td>\n",
       "    </tr>\n",
       "    <tr>\n",
       "      <th>ChallengeMyself_missing</th>\n",
       "      <td>NaN</td>\n",
       "      <td>0.811773</td>\n",
       "      <td>0.074313</td>\n",
       "      <td>0.714156</td>\n",
       "      <td>NaN</td>\n",
       "      <td>-0.000802</td>\n",
       "      <td>0.046580</td>\n",
       "      <td>1.000000</td>\n",
       "      <td>0.198843</td>\n",
       "      <td>0.418921</td>\n",
       "    </tr>\n",
       "    <tr>\n",
       "      <th>Gender_missing</th>\n",
       "      <td>NaN</td>\n",
       "      <td>0.200831</td>\n",
       "      <td>0.143472</td>\n",
       "      <td>0.186428</td>\n",
       "      <td>NaN</td>\n",
       "      <td>-0.001615</td>\n",
       "      <td>0.028715</td>\n",
       "      <td>0.198843</td>\n",
       "      <td>1.000000</td>\n",
       "      <td>0.176137</td>\n",
       "    </tr>\n",
       "    <tr>\n",
       "      <th>LearningNewTech_missing</th>\n",
       "      <td>NaN</td>\n",
       "      <td>0.414334</td>\n",
       "      <td>0.069127</td>\n",
       "      <td>0.364134</td>\n",
       "      <td>NaN</td>\n",
       "      <td>0.001405</td>\n",
       "      <td>0.039482</td>\n",
       "      <td>0.418921</td>\n",
       "      <td>0.176137</td>\n",
       "      <td>1.000000</td>\n",
       "    </tr>\n",
       "  </tbody>\n",
       "</table>\n",
       "</div>"
      ],
      "text/plain": [
       "                            DiversityImportant_missing  ChangeWorld_missing  \\\n",
       "DiversityImportant_missing                         NaN                  NaN   \n",
       "ChangeWorld_missing                                NaN             1.000000   \n",
       "AssessJobProduct_missing                           NaN             0.081605   \n",
       "KinshipDevelopers_missing                          NaN             0.711766   \n",
       "Country_missing                                    NaN                  NaN   \n",
       "ExCoderBelonged_missing                            NaN            -0.003719   \n",
       "SeriousWork_missing                                NaN             0.049243   \n",
       "ChallengeMyself_missing                            NaN             0.811773   \n",
       "Gender_missing                                     NaN             0.200831   \n",
       "LearningNewTech_missing                            NaN             0.414334   \n",
       "\n",
       "                            AssessJobProduct_missing  \\\n",
       "DiversityImportant_missing                       NaN   \n",
       "ChangeWorld_missing                         0.081605   \n",
       "AssessJobProduct_missing                    1.000000   \n",
       "KinshipDevelopers_missing                   0.079703   \n",
       "Country_missing                                  NaN   \n",
       "ExCoderBelonged_missing                     0.008924   \n",
       "SeriousWork_missing                         0.014712   \n",
       "ChallengeMyself_missing                     0.074313   \n",
       "Gender_missing                              0.143472   \n",
       "LearningNewTech_missing                     0.069127   \n",
       "\n",
       "                            KinshipDevelopers_missing  Country_missing  \\\n",
       "DiversityImportant_missing                        NaN              NaN   \n",
       "ChangeWorld_missing                          0.711766              NaN   \n",
       "AssessJobProduct_missing                     0.079703              NaN   \n",
       "KinshipDevelopers_missing                    1.000000              NaN   \n",
       "Country_missing                                   NaN              NaN   \n",
       "ExCoderBelonged_missing                     -0.004139              NaN   \n",
       "SeriousWork_missing                          0.040578              NaN   \n",
       "ChallengeMyself_missing                      0.714156              NaN   \n",
       "Gender_missing                               0.186428              NaN   \n",
       "LearningNewTech_missing                      0.364134              NaN   \n",
       "\n",
       "                            ExCoderBelonged_missing  SeriousWork_missing  \\\n",
       "DiversityImportant_missing                      NaN                  NaN   \n",
       "ChangeWorld_missing                       -0.003719             0.049243   \n",
       "AssessJobProduct_missing                   0.008924             0.014712   \n",
       "KinshipDevelopers_missing                 -0.004139             0.040578   \n",
       "Country_missing                                 NaN                  NaN   \n",
       "ExCoderBelonged_missing                    1.000000            -0.002126   \n",
       "SeriousWork_missing                       -0.002126             1.000000   \n",
       "ChallengeMyself_missing                   -0.000802             0.046580   \n",
       "Gender_missing                            -0.001615             0.028715   \n",
       "LearningNewTech_missing                    0.001405             0.039482   \n",
       "\n",
       "                            ChallengeMyself_missing  Gender_missing  \\\n",
       "DiversityImportant_missing                      NaN             NaN   \n",
       "ChangeWorld_missing                        0.811773        0.200831   \n",
       "AssessJobProduct_missing                   0.074313        0.143472   \n",
       "KinshipDevelopers_missing                  0.714156        0.186428   \n",
       "Country_missing                                 NaN             NaN   \n",
       "ExCoderBelonged_missing                   -0.000802       -0.001615   \n",
       "SeriousWork_missing                        0.046580        0.028715   \n",
       "ChallengeMyself_missing                    1.000000        0.198843   \n",
       "Gender_missing                             0.198843        1.000000   \n",
       "LearningNewTech_missing                    0.418921        0.176137   \n",
       "\n",
       "                            LearningNewTech_missing  \n",
       "DiversityImportant_missing                      NaN  \n",
       "ChangeWorld_missing                        0.414334  \n",
       "AssessJobProduct_missing                   0.069127  \n",
       "KinshipDevelopers_missing                  0.364134  \n",
       "Country_missing                                 NaN  \n",
       "ExCoderBelonged_missing                    0.001405  \n",
       "SeriousWork_missing                        0.039482  \n",
       "ChallengeMyself_missing                    0.418921  \n",
       "Gender_missing                             0.176137  \n",
       "LearningNewTech_missing                    1.000000  "
      ]
     },
     "execution_count": 54,
     "metadata": {},
     "output_type": "execute_result"
    }
   ],
   "source": [
    "corr_matrix"
   ]
  },
  {
   "cell_type": "markdown",
   "metadata": {},
   "source": [
    "### 3. Prepare Data\n",
    "Recoding these columns according to 'strict/lax' criteria in preparation for modeling."
   ]
  },
  {
   "cell_type": "code",
   "execution_count": 25,
   "metadata": {},
   "outputs": [],
   "source": [
    "def recode_agree_cat(var):\n",
    "    return df_2017[var].apply(collapse_cat_and_dummy, args=([\"Strongly agree\", \"Agree\"],)), df_2017[var].apply(collapse_cat_and_dummy, args=([\"Strongly agree\", \"Agree\", \"Somewhat agree\"],))"
   ]
  },
  {
   "cell_type": "code",
   "execution_count": 58,
   "metadata": {},
   "outputs": [],
   "source": [
    "df_2017['DivImp_Strict'], df_2017['DivImp_Lax'] = recode_agree_cat('DiversityImportant')\n",
    "df_2017['ChangeWorld_Strict'], df_2017['ChangeWorld_Lax'] = recode_agree_cat('ChangeWorld')\n",
    "df_2017['AssessJobProduct_Strict'], df_2017['AssessJobProduct_Lax'] = recode_agree_cat('AssessJobProduct')\n",
    "df_2017['KinshipDevelopers_Strict'], df_2017['KinshipDevelopers_Lax'] = recode_agree_cat('KinshipDevelopers')\n",
    "df_2017['Country_Strict'], df_2017['Country_Lax'] = recode_agree_cat('Country')\n",
    "df_2017['ExCoderBelonged_Strict'], df_2017['ExCoderBelonged_Lax'] = recode_agree_cat('ExCoderBelonged')\n",
    "df_2017['SeriousWork_Strict'], df_2017['SeriousWork_Lax'] = recode_agree_cat('SeriousWork')\n",
    "df_2017['ChallengeMyself_Strict'], df_2017['ChallengeMyself_Lax'] = recode_agree_cat('ChallengeMyself')\n",
    "df_2017['Gender_Strict'], df_2017['Gender_Lax'] = recode_agree_cat('Gender')\n",
    "df_2017['LearningNewTech_Strict'], df_2017['LearningNewTech_Lax'] = recode_agree_cat('LearningNewTech')"
   ]
  },
  {
   "cell_type": "code",
   "execution_count": 59,
   "metadata": {},
   "outputs": [],
   "source": [
    "df_2017_strict = df_2017[ ['DivImp_Strict',\n",
    "                          'ChangeWorld_Strict',\n",
    "                          'AssessJobProduct_Strict',\n",
    "                          'KinshipDevelopers_Strict',\n",
    "                          'Country_Strict',\n",
    "                          'ExCoderBelonged_Strict',\n",
    "                          'SeriousWork_Strict',\n",
    "                          'ChallengeMyself_Strict',\n",
    "                          'Gender_Strict',\n",
    "                          'LearningNewTech_Strict',\n",
    "                         ]]\n"
   ]
  },
  {
   "cell_type": "code",
   "execution_count": 60,
   "metadata": {},
   "outputs": [],
   "source": [
    "y_strict = df_2017['DivImp_Strict']\n",
    "X_strict = df_2017[['ChangeWorld_Strict',\n",
    "                    'AssessJobProduct_Strict',\n",
    "                    'KinshipDevelopers_Strict',\n",
    "                    'Country_Strict',\n",
    "                    'ExCoderBelonged_Strict',\n",
    "                    'SeriousWork_Strict',\n",
    "                    'ChallengeMyself_Strict',\n",
    "                    'Gender_Strict',\n",
    "                    'LearningNewTech_Strict'\n",
    "                   ]\n",
    "                  ]"
   ]
  },
  {
   "cell_type": "code",
   "execution_count": 61,
   "metadata": {},
   "outputs": [],
   "source": [
    "y_lax = df_2017['DivImp_Lax']\n",
    "X_lax = df_2017[['ChangeWorld_Lax',\n",
    "                    'AssessJobProduct_Lax',\n",
    "                    'KinshipDevelopers_Lax',\n",
    "                    'Country_Lax',\n",
    "                    'ExCoderBelonged_Lax',\n",
    "                    'SeriousWork_Lax',\n",
    "                    'ChallengeMyself_Lax',\n",
    "                    'Gender_Lax',\n",
    "                    'LearningNewTech_Lax'\n",
    "                   ]\n",
    "                  ]"
   ]
  },
  {
   "cell_type": "markdown",
   "metadata": {},
   "source": [
    "### 4. Data Modeling\n",
    "\n",
    "The function below will generate testing/training splits and compare different classifiers"
   ]
  },
  {
   "cell_type": "code",
   "execution_count": 62,
   "metadata": {},
   "outputs": [],
   "source": [
    "# Split dataset into training set and test set\n",
    "def compare_classifiers(X, y):\n",
    "    X_train, X_test, y_train, y_test = train_test_split(X, y, test_size=0.3,random_state=42) # 70% training and 30% test\n",
    "\n",
    "\n",
    "    #Create a Gaussian Classifier\n",
    "    gnb = GaussianNB()\n",
    "\n",
    "    #Train the model using the training sets\n",
    "    gnb.fit(X_train, y_train)\n",
    "\n",
    "    #Predict the response for test dataset\n",
    "    y_pred_gnb = gnb.predict(X_test)\n",
    "\n",
    "    # Logistic Regression Classifier\n",
    "    logreg = LogisticRegression()\n",
    "\n",
    "    #Train the model using the training sets\n",
    "    logreg.fit(X_train, y_train)\n",
    "\n",
    "    #Predict the response for test dataset\n",
    "    y_pred_lr = logreg.predict(X_test)\n",
    "\n",
    "    # Random Forest Classifier\n",
    "    rf = RandomForestClassifier()\n",
    "\n",
    "    #Train the model using the training sets\n",
    "    rf.fit(X_train, y_train)\n",
    "\n",
    "    #Predict the response for test dataset\n",
    "    y_pred_rf = rf.predict(X_test)\n",
    "\n",
    "    # Adaboost Classifier\n",
    "    ada = AdaBoostClassifier()\n",
    "\n",
    "    #Train the model using the training sets\n",
    "    ada.fit(X_train, y_train)\n",
    "\n",
    "    #Predict the response for test dataset\n",
    "    y_pred_ada = ada.predict(X_test)\n",
    "\n",
    "    print(\"GNB Accuracy:\",metrics.accuracy_score(y_test, y_pred_gnb))\n",
    "\n",
    "    print(\"Logistic Regression Accuracy:\",metrics.accuracy_score(y_test, y_pred_lr))\n",
    "\n",
    "    print(\"Random Forest Accuracy:\",metrics.accuracy_score(y_test, y_pred_rf))\n",
    "\n",
    "    print(\"AdaBoost Accuracy:\",metrics.accuracy_score(y_test, y_pred_ada))\n"
   ]
  },
  {
   "cell_type": "code",
   "execution_count": 63,
   "metadata": {},
   "outputs": [
    {
     "name": "stdout",
     "output_type": "stream",
     "text": [
      "GNB Accuracy: 0.6271168158774674\n",
      "Logistic Regression Accuracy: 0.6522489483335131\n",
      "Random Forest Accuracy: 0.6506309998921368\n",
      "AdaBoost Accuracy: 0.6522489483335131\n"
     ]
    }
   ],
   "source": [
    "compare_classifiers(X_strict, y_strict)"
   ]
  },
  {
   "cell_type": "code",
   "execution_count": 64,
   "metadata": {},
   "outputs": [
    {
     "name": "stdout",
     "output_type": "stream",
     "text": [
      "GNB Accuracy: 0.8303311401143351\n",
      "Logistic Regression Accuracy: 0.8851256606622803\n",
      "Random Forest Accuracy: 0.8862042929565311\n",
      "AdaBoost Accuracy: 0.8851256606622803\n"
     ]
    }
   ],
   "source": [
    "compare_classifiers(X_lax, y_lax)"
   ]
  },
  {
   "cell_type": "code",
   "execution_count": null,
   "metadata": {},
   "outputs": [],
   "source": []
  }
 ],
 "metadata": {
  "kernelspec": {
   "display_name": "Python 3.7.5 64-bit",
   "language": "python",
   "name": "python37564bitc38d59e534f34b659c3486983a929f38"
  },
  "language_info": {
   "codemirror_mode": {
    "name": "ipython",
    "version": 3
   },
   "file_extension": ".py",
   "mimetype": "text/x-python",
   "name": "python",
   "nbconvert_exporter": "python",
   "pygments_lexer": "ipython3",
   "version": "3.7.5"
  }
 },
 "nbformat": 4,
 "nbformat_minor": 2
}
